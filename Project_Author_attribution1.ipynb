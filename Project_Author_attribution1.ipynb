{
  "nbformat": 4,
  "nbformat_minor": 0,
  "metadata": {
    "colab": {
      "name": "Project.Author_attribution1.ipynb",
      "provenance": [],
      "collapsed_sections": [
        "q_SAqcyLW2MS"
      ],
      "include_colab_link": true
    },
    "kernelspec": {
      "name": "python3",
      "display_name": "Python 3"
    }
  },
  "cells": [
    {
      "cell_type": "markdown",
      "metadata": {
        "id": "view-in-github",
        "colab_type": "text"
      },
      "source": [
        "<a href=\"https://colab.research.google.com/github/igvasilev/study-projects/blob/master/Project_Author_attribution1.ipynb\" target=\"_parent\"><img src=\"https://colab.research.google.com/assets/colab-badge.svg\" alt=\"Open In Colab\"/></a>"
      ]
    },
    {
      "cell_type": "markdown",
      "metadata": {
        "id": "cyJgyebdbFU5",
        "colab_type": "text"
      },
      "source": [
        "# *MLDM Project*\n",
        "\n",
        "\n",
        "## Task: “Authorship attribution”\n",
        "\n",
        "## Team:\n",
        "### 1.\tVasilev Igor\n",
        "### 2.\tEric George Parakal\n"
      ]
    },
    {
      "cell_type": "markdown",
      "metadata": {
        "id": "M6pAdE0DcF7u",
        "colab_type": "text"
      },
      "source": [
        "### Program description:\n",
        "\n",
        "**Description**:  the program analyzes statistical characteristics of given texts and classify sentences by authors \n",
        "\n",
        "**Data**: the dataset consist of labeled sentences of the following authors\n",
        "1.\tА.П. Чехов \"Палата №6\", ''Степь', 'Дуэль'\n",
        "2.\tН.В. Гоголь \"Вий\", 'Мертвые души'\n",
        "3.\tА.С. Пушкин \"Дубровский\", \"Капитанская дочка\", 'Повести покойного И.П.Белкина'\n",
        "4.\tЛ.Н.Толстой \"Детство\", \"Анна Каренина\"\n",
        "5.\tИ.С. Тургенев \"Му-му\", \"Отцы и дети\"\n",
        "\n",
        "(Texts were manually downloaded here http://lib.ru)\n",
        "\n",
        "\n",
        "**Roadmap**:\n",
        "1.\tDownload and prepare dataset, provide summary statistic\n",
        "2. Building classificator (such as SVM, Naive Bayes) based of Bag of Words model with TF-IDF normalization \n",
        "3.\tApplying Word2vec, building classificator based on embeddedings \n",
        "\n",
        "\n",
        "\n",
        "\n"
      ]
    },
    {
      "cell_type": "code",
      "metadata": {
        "id": "ZPhKJbML4hXX",
        "colab_type": "code",
        "colab": {}
      },
      "source": [
        "# Morphoanalyzer of russian language\n",
        "!pip install pymorphy2"
      ],
      "execution_count": 0,
      "outputs": []
    },
    {
      "cell_type": "code",
      "metadata": {
        "id": "_9wr2ONJx-SJ",
        "colab_type": "code",
        "colab": {}
      },
      "source": [
        "# For plotting ROC-AUC\n",
        "!pip install scikit-plot"
      ],
      "execution_count": 0,
      "outputs": []
    },
    {
      "cell_type": "markdown",
      "metadata": {
        "id": "hD5FhM77MU1k",
        "colab_type": "text"
      },
      "source": [
        "## Librares and dependences "
      ]
    },
    {
      "cell_type": "code",
      "metadata": {
        "id": "sVA0WAmolT1D",
        "colab_type": "code",
        "outputId": "3e829ce1-2d59-4ec5-bf45-65bc0fe46066",
        "colab": {
          "base_uri": "https://localhost:8080/",
          "height": 35
        }
      },
      "source": [
        "import pandas as pd\n",
        "import numpy as np\n",
        "import seaborn as sns\n",
        "import random as rd\n",
        "import matplotlib.pyplot as plt\n",
        "import scikitplot as skplt\n",
        "import pymorphy2\n",
        "import string\n",
        "import nltk\n",
        "import os\n",
        "\n",
        "\n",
        "from sklearn.model_selection import train_test_split, KFold\n",
        "from sklearn.pipeline import Pipeline\n",
        "from sklearn.feature_extraction.text import CountVectorizer, TfidfVectorizer\n",
        "from sklearn.svm import SVC\n",
        "from sklearn.naive_bayes import MultinomialNB\n",
        "from sklearn.neighbors import KNeighborsClassifier\n",
        "from sklearn.model_selection import GridSearchCV\n",
        "from sklearn.metrics import accuracy_score, make_scorer\n",
        "from sklearn.metrics import precision_recall_fscore_support as score\n",
        "from sklearn.metrics import confusion_matrix, classification_report\n",
        "from sklearn.preprocessing import LabelEncoder, OneHotEncoder\n",
        "\n",
        "\n",
        "from collections import Counter\n",
        "\n",
        "from nltk import tokenize\n",
        "from nltk.tokenize import RegexpTokenizer\n",
        "from nltk.tokenize import word_tokenize\n",
        "from nltk.corpus import stopwords\n",
        "from pymystem3 import Mystem\n",
        "\n",
        "import gensim \n",
        "\n",
        "from tensorflow.python.keras.preprocessing.text import Tokenizer\n",
        "from tensorflow.python.keras.preprocessing.sequence import pad_sequences\n",
        "\n",
        "from keras.models import Sequential\n",
        "from keras.layers import Dense, Embedding, Flatten\n",
        "from keras.layers.convolutional import Conv1D\n",
        "from keras.layers.convolutional import MaxPooling1D\n",
        "from keras.initializers import Constant\n",
        "\n",
        "\n",
        "\n",
        "%matplotlib inline"
      ],
      "execution_count": 0,
      "outputs": [
        {
          "output_type": "stream",
          "text": [
            "Using TensorFlow backend.\n"
          ],
          "name": "stderr"
        }
      ]
    },
    {
      "cell_type": "code",
      "metadata": {
        "id": "g9D__iH30XvH",
        "colab_type": "code",
        "outputId": "4934de7f-9fd6-4cf8-fd3c-024d82ecab52",
        "colab": {
          "base_uri": "https://localhost:8080/",
          "height": 69
        }
      },
      "source": [
        "# Stopwords data\n",
        "nltk.download(\"stopwords\")"
      ],
      "execution_count": 0,
      "outputs": [
        {
          "output_type": "stream",
          "text": [
            "[nltk_data] Downloading package stopwords to /root/nltk_data...\n",
            "[nltk_data]   Unzipping corpora/stopwords.zip.\n"
          ],
          "name": "stdout"
        },
        {
          "output_type": "execute_result",
          "data": {
            "text/plain": [
              "True"
            ]
          },
          "metadata": {
            "tags": []
          },
          "execution_count": 3
        }
      ]
    },
    {
      "cell_type": "code",
      "metadata": {
        "id": "mMxz6caz3s2V",
        "colab_type": "code",
        "outputId": "bb86aa52-4f4a-4b90-aca1-544f6cb451de",
        "colab": {
          "base_uri": "https://localhost:8080/",
          "height": 69
        }
      },
      "source": [
        "# Punctuation\n",
        "nltk.download('punkt')"
      ],
      "execution_count": 0,
      "outputs": [
        {
          "output_type": "stream",
          "text": [
            "[nltk_data] Downloading package punkt to /root/nltk_data...\n",
            "[nltk_data]   Unzipping tokenizers/punkt.zip.\n"
          ],
          "name": "stdout"
        },
        {
          "output_type": "execute_result",
          "data": {
            "text/plain": [
              "True"
            ]
          },
          "metadata": {
            "tags": []
          },
          "execution_count": 57
        }
      ]
    },
    {
      "cell_type": "markdown",
      "metadata": {
        "id": "3DLUGN9jePAy",
        "colab_type": "text"
      },
      "source": [
        "## I. Bag of Words model"
      ]
    },
    {
      "cell_type": "markdown",
      "metadata": {
        "id": "ukMIjxsSL5cg",
        "colab_type": "text"
      },
      "source": [
        "### Dataset preprocessing"
      ]
    },
    {
      "cell_type": "markdown",
      "metadata": {
        "id": "ybzGuaF9wHZn",
        "colab_type": "text"
      },
      "source": [
        "\n",
        "\n",
        "Exclude sentences which length less than 12 chars. They are not give any usefull information. For the correct tokenization we use ru_punct library which is allow to work with difficult russian punctuation"
      ]
    },
    {
      "cell_type": "code",
      "metadata": {
        "id": "S--Bcy1t5mcL",
        "colab_type": "code",
        "outputId": "6bb26495-e24a-423f-ca31-467b9bdd23e6",
        "colab": {
          "base_uri": "https://localhost:8080/",
          "height": 87
        }
      },
      "source": [
        "!git clone https://github.com/Mottl/ru_punkt.git"
      ],
      "execution_count": 0,
      "outputs": [
        {
          "output_type": "stream",
          "text": [
            "Cloning into 'ru_punkt'...\n",
            "remote: Enumerating objects: 39, done.\u001b[K\n",
            "remote: Total 39 (delta 0), reused 0 (delta 0), pack-reused 39\u001b[K\n",
            "Unpacking objects: 100% (39/39), done.\n"
          ],
          "name": "stdout"
        }
      ]
    },
    {
      "cell_type": "code",
      "metadata": {
        "id": "iTkKu0tByV0v",
        "colab_type": "code",
        "colab": {}
      },
      "source": [
        "!cp -r ru_punkt/nltk_data ~/nltk_data"
      ],
      "execution_count": 0,
      "outputs": []
    },
    {
      "cell_type": "code",
      "metadata": {
        "id": "Ti9eY8sxySH7",
        "colab_type": "code",
        "outputId": "f91f5a06-5c50-47db-8583-c9f1e23e15f9",
        "colab": {
          "base_uri": "https://localhost:8080/",
          "height": 69
        }
      },
      "source": [
        "nltk.download('punkt')"
      ],
      "execution_count": 0,
      "outputs": [
        {
          "output_type": "stream",
          "text": [
            "[nltk_data] Downloading package punkt to /root/nltk_data...\n",
            "[nltk_data]   Unzipping tokenizers/punkt.zip.\n"
          ],
          "name": "stdout"
        },
        {
          "output_type": "execute_result",
          "data": {
            "text/plain": [
              "True"
            ]
          },
          "metadata": {
            "tags": []
          },
          "execution_count": 9
        }
      ]
    },
    {
      "cell_type": "code",
      "metadata": {
        "id": "vV4wIFn7yafj",
        "colab_type": "code",
        "colab": {}
      },
      "source": [
        "\n",
        "tokenizer = nltk.data.load('nltk_data/tokenizers/punkt/russian.pickle')"
      ],
      "execution_count": 0,
      "outputs": []
    },
    {
      "cell_type": "code",
      "metadata": {
        "id": "SBZyfkkgyeBm",
        "colab_type": "code",
        "outputId": "affc311c-4ff7-4c8b-a82d-46ff9d00aa57",
        "colab": {
          "base_uri": "https://localhost:8080/",
          "height": 35
        }
      },
      "source": [
        "# Tokenization example (splitting text into sentences)\n",
        "text = \"Ай да А.С. Пушкин! Ай да сукин сын!\"\n",
        "print(tokenizer.tokenize(text))"
      ],
      "execution_count": 0,
      "outputs": [
        {
          "output_type": "stream",
          "text": [
            "['Ай да А.С. Пушкин!', 'Ай да сукин сын!']\n"
          ],
          "name": "stdout"
        }
      ]
    },
    {
      "cell_type": "code",
      "metadata": {
        "id": "TuHMhsn6zI9g",
        "colab_type": "code",
        "colab": {}
      },
      "source": [
        "\n",
        "def text_tokenize(filepath, min_length):\n",
        "  \n",
        "  doc = ''\n",
        "  with open(filepath, 'r', encoding='UTF-8') as f:\n",
        "    \n",
        "    doc = f.read().replace('\\n', ' ')\n",
        "    doc = doc.replace('.”', '”.')\n",
        "    doc = doc.replace('.\"', '\".')\n",
        "    doc = doc.replace('?”', '”?')\n",
        "    doc = doc.replace('!”', '”!')\n",
        "    doc = doc.replace('--', ' ')\n",
        "    doc = doc.replace('. . .', '')\n",
        "    doc = doc.replace('_', '')\n",
        "    doc = doc.replace('}', '')\n",
        "    doc = doc.replace('{', '')\n",
        "    \n",
        "  \n",
        "  sentences = tokenizer.tokenize(doc)\n",
        "    \n",
        "  sentences = [sent for sent in sentences if len(sent) >= min_length]\n",
        "\n",
        "  return list(sentences)\n",
        "    "
      ],
      "execution_count": 0,
      "outputs": []
    },
    {
      "cell_type": "markdown",
      "metadata": {
        "id": "xzoQH4C53e_G",
        "colab_type": "text"
      },
      "source": [
        "#### Create lists of sentences for each author"
      ]
    },
    {
      "cell_type": "code",
      "metadata": {
        "id": "mDN_eXFtzOS2",
        "colab_type": "code",
        "colab": {}
      },
      "source": [
        "# Minimal sentence length (in chars)\n",
        "min_length = 12\n",
        "\n",
        "chehov =   text_tokenize('Chehov.Palata_nomer_6.txt', min_length)\\\n",
        "         + text_tokenize('Chehov.Step.txt', min_length)\\\n",
        "         + text_tokenize('Chehov.Duel.txt', min_length)\n",
        "gogol =    text_tokenize('Gogol.Vii.txt', min_length)\\\n",
        "         + text_tokenize('Gogol.Mertvie_dushi.txt', min_length)\n",
        "pushkin =  text_tokenize('Pushkin.Dubrovsky.txt', min_length)\\\n",
        "         + text_tokenize('Pushkin.Kapitanskaya_dochka.txt', min_length)\\\n",
        "         + text_tokenize('Pushkin.Belkin.txt', min_length)\n",
        "tolstoy =  text_tokenize('Tolstoy.Detstvo.txt', min_length)\\\n",
        "         + text_tokenize('Tolstoy.Anna_Karenina.txt', min_length)\n",
        "turgenev = text_tokenize('Turgenev.MuMu.txt', min_length)\\\n",
        "         + text_tokenize('Turgenev.Otsy_i_dety.txt', min_length)"
      ],
      "execution_count": 0,
      "outputs": []
    },
    {
      "cell_type": "code",
      "metadata": {
        "id": "5A5dYBXozOIc",
        "colab_type": "code",
        "outputId": "e1d8da98-b33f-4d07-c96c-429e2f53b61f",
        "colab": {
          "base_uri": "https://localhost:8080/",
          "height": 104
        }
      },
      "source": [
        "text_dict = {\n",
        "    'Chehov': chehov,\n",
        "    'Gogol': gogol,\n",
        "    'Pushkin': pushkin,\n",
        "    'Tolstoy': tolstoy,\n",
        "    'Turgenev': turgenev\n",
        "            }\n",
        "\n",
        "# Number of sentences for each author\n",
        "for key in text_dict.keys():\n",
        "    print(key, ':', len(text_dict[key]))"
      ],
      "execution_count": 0,
      "outputs": [
        {
          "output_type": "stream",
          "text": [
            "Chehov : 5308\n",
            "Gogol : 5246\n",
            "Pushkin : 5962\n",
            "Tolstoy : 20658\n",
            "Turgenev : 4774\n"
          ],
          "name": "stdout"
        }
      ]
    },
    {
      "cell_type": "markdown",
      "metadata": {
        "id": "vk6xaxecDB6N",
        "colab_type": "text"
      },
      "source": [
        "\n",
        "\n",
        "We will take 4500 random sentences for each author to make our classes balanced\n",
        "\n",
        "#### Choosing sentences"
      ]
    },
    {
      "cell_type": "code",
      "metadata": {
        "id": "k2esHkQ98Ybo",
        "colab_type": "code",
        "outputId": "2c061ed9-e271-4d4b-a9e4-b78b98f52d6c",
        "colab": {
          "base_uri": "https://localhost:8080/",
          "height": 35
        }
      },
      "source": [
        "np.random.seed(42)\n",
        "\n",
        "# Number of sentences\n",
        "max_len = 4500\n",
        "\n",
        "# List of authors\n",
        "authors = [chehov, gogol, pushkin, tolstoy, turgenev]\n",
        "combined = []\n",
        "\n",
        "# Choose 4500 random sentences\n",
        "for name in authors:\n",
        "    name = np.random.choice(name, max_len, replace = False)\n",
        "    \n",
        "    text = []\n",
        "    s = ''\n",
        "    count = 0\n",
        "    for i in name:\n",
        "      s += ' ' + i\n",
        "      count += 1\n",
        "      if count == 1:\n",
        "        text.append(s)\n",
        "        count = 0\n",
        "        s = ''\n",
        "        \n",
        "    combined += list(text)\n",
        "\n",
        "print('Total number of texts:', len(combined))"
      ],
      "execution_count": 0,
      "outputs": [
        {
          "output_type": "stream",
          "text": [
            "Total number of texts: 22500\n"
          ],
          "name": "stdout"
        }
      ]
    },
    {
      "cell_type": "markdown",
      "metadata": {
        "id": "DKeavyn6H5bf",
        "colab_type": "text"
      },
      "source": [
        "####  Create list with labels which corresponds to author sentences"
      ]
    },
    {
      "cell_type": "code",
      "metadata": {
        "id": "YmT734whHvmY",
        "colab_type": "code",
        "outputId": "b46c4e23-d3be-4cb5-c1ff-2fe2e7478a0a",
        "colab": {
          "base_uri": "https://localhost:8080/",
          "height": 35
        }
      },
      "source": [
        "max_len = int(max_len)\n",
        "labels = ['Chehov']*max_len + ['Gogol']*max_len + ['Pushkin']*max_len\\\n",
        "       + ['Tolstoy']*max_len + ['Turgenev']*max_len \n",
        "\n",
        "print('The letght of the list with labels:', len(labels))"
      ],
      "execution_count": 0,
      "outputs": [
        {
          "output_type": "stream",
          "text": [
            "The letght of the list with labels: 22500\n"
          ],
          "name": "stdout"
        }
      ]
    },
    {
      "cell_type": "markdown",
      "metadata": {
        "id": "UE83-5ZzJXqa",
        "colab_type": "text"
      },
      "source": [
        "#### Final dataset"
      ]
    },
    {
      "cell_type": "code",
      "metadata": {
        "id": "Fz96tHpXIyKC",
        "colab_type": "code",
        "outputId": "fb3a919b-d451-440f-c739-56afaca71115",
        "colab": {
          "base_uri": "https://localhost:8080/",
          "height": 121
        }
      },
      "source": [
        "# Combine labels with sentences and mix it\n",
        "zipped = list(zip(combined, labels))\n",
        "rd.shuffle(zipped)\n",
        "combined, labels = zip(*zipped)\n",
        "\n",
        "\n",
        "df = pd.DataFrame()\n",
        "df['sentence'] = combined\n",
        "df['author'] = labels\n",
        "\n",
        "print(df.head())"
      ],
      "execution_count": 0,
      "outputs": [
        {
          "output_type": "stream",
          "text": [
            "                                            sentence   author\n",
            "0   А живет он второе лето в этом вонючем городиш...   Chehov\n",
            "1   Вдруг она услыхала ровный и спокойный носовой...  Tolstoy\n",
            "2                              \"Послушайте, матушка.    Gogol\n",
            "3           Казалось, он думал, глядя на него: \"Эге!    Gogol\n",
            "4                                     - повторил он.  Pushkin\n"
          ],
          "name": "stdout"
        }
      ]
    },
    {
      "cell_type": "code",
      "metadata": {
        "id": "aUOU-U_MKRU5",
        "colab_type": "code",
        "colab": {}
      },
      "source": [
        "# Create CSV file\n",
        "df.to_csv('russian_authors_12.csv', index=False)"
      ],
      "execution_count": 0,
      "outputs": []
    },
    {
      "cell_type": "markdown",
      "metadata": {
        "id": "NA9EPxikMB6Y",
        "colab_type": "text"
      },
      "source": [
        "### Overview and data processing"
      ]
    },
    {
      "cell_type": "code",
      "metadata": {
        "id": "jCYn6PF6L_vl",
        "colab_type": "code",
        "outputId": "567cfe96-1f02-4ff5-d33e-6c77dce78a03",
        "colab": {
          "base_uri": "https://localhost:8080/",
          "height": 121
        }
      },
      "source": [
        "# Download dataset\n",
        "data = pd.read_csv(\"russian_authors_12.csv\", encoding=\"UTF-8\")\n",
        "print(data.head())"
      ],
      "execution_count": 0,
      "outputs": [
        {
          "output_type": "stream",
          "text": [
            "                                            sentence   author\n",
            "0   А живет он второе лето в этом вонючем городиш...   Chehov\n",
            "1   Вдруг она услыхала ровный и спокойный носовой...  Tolstoy\n",
            "2                              \"Послушайте, матушка.    Gogol\n",
            "3           Казалось, он думал, глядя на него: \"Эге!    Gogol\n",
            "4                                     - повторил он.  Pushkin\n"
          ],
          "name": "stdout"
        }
      ]
    },
    {
      "cell_type": "code",
      "metadata": {
        "id": "lTBHMUb1K2z6",
        "colab_type": "code",
        "outputId": "2a6391d4-e7bf-4e30-ea1c-bbe59feaf1c2",
        "colab": {
          "base_uri": "https://localhost:8080/",
          "height": 35
        }
      },
      "source": [
        "sent = list(data['sentence'].values)\n",
        "authors = list(data['author'].values)\n",
        "\n",
        "print(\"The dataset consists of {} sentences.\".format(len(sent)))"
      ],
      "execution_count": 0,
      "outputs": [
        {
          "output_type": "stream",
          "text": [
            "The dataset consists of 22500 sentences.\n"
          ],
          "name": "stdout"
        }
      ]
    },
    {
      "cell_type": "code",
      "metadata": {
        "id": "J8-8hWYKQdOF",
        "colab_type": "code",
        "outputId": "d6fd3633-a552-4d02-bdc2-efeb1e1959d5",
        "colab": {
          "base_uri": "https://localhost:8080/",
          "height": 104
        }
      },
      "source": [
        "# Distribution of sentences\n",
        "Counter(authors)"
      ],
      "execution_count": 0,
      "outputs": [
        {
          "output_type": "execute_result",
          "data": {
            "text/plain": [
              "Counter({'Chehov': 4500,\n",
              "         'Gogol': 4500,\n",
              "         'Pushkin': 4500,\n",
              "         'Tolstoy': 4500,\n",
              "         'Turgenev': 4500})"
            ]
          },
          "metadata": {
            "tags": []
          },
          "execution_count": 101
        }
      ]
    },
    {
      "cell_type": "markdown",
      "metadata": {
        "id": "4NbGHuuIQBbQ",
        "colab_type": "text"
      },
      "source": [
        "### Dataset statistics"
      ]
    },
    {
      "cell_type": "code",
      "metadata": {
        "id": "U5C_-8JEP4oi",
        "colab_type": "code",
        "colab": {}
      },
      "source": [
        "# Tokenizer\n",
        "tok = RegexpTokenizer(r'\\w+')\n"
      ],
      "execution_count": 0,
      "outputs": []
    },
    {
      "cell_type": "code",
      "metadata": {
        "id": "q1U3qnM6SzLG",
        "colab_type": "code",
        "colab": {}
      },
      "source": [
        "# lists of number of words/chars in each sentence\n",
        "word_count = []\n",
        "char_count = []\n",
        "\n",
        "for i in range(len(sent)):\n",
        "    word_count.append(len(tok.tokenize(sent[i])))\n",
        "    char_count.append(len(sent[i]))\n",
        "\n",
        "\n",
        "word_count = np.array(word_count)\n",
        "char_count = np.array(char_count)\n",
        "\n",
        "# Average word length\n",
        "av_length = np.array(char_count)/np.array(word_count)"
      ],
      "execution_count": 0,
      "outputs": []
    },
    {
      "cell_type": "code",
      "metadata": {
        "id": "X1U-33bRgCsJ",
        "colab_type": "code",
        "outputId": "c0fcd41c-65f4-4d3a-cebf-d2f13689b3d7",
        "colab": {
          "base_uri": "https://localhost:8080/",
          "height": 202
        }
      },
      "source": [
        "df = data\n",
        "df['word_count'] = word_count\n",
        "df['Char_count'] = char_count\n",
        "df['av_length'] = av_length\n",
        "df.head()"
      ],
      "execution_count": 0,
      "outputs": [
        {
          "output_type": "execute_result",
          "data": {
            "text/html": [
              "<div>\n",
              "<style scoped>\n",
              "    .dataframe tbody tr th:only-of-type {\n",
              "        vertical-align: middle;\n",
              "    }\n",
              "\n",
              "    .dataframe tbody tr th {\n",
              "        vertical-align: top;\n",
              "    }\n",
              "\n",
              "    .dataframe thead th {\n",
              "        text-align: right;\n",
              "    }\n",
              "</style>\n",
              "<table border=\"1\" class=\"dataframe\">\n",
              "  <thead>\n",
              "    <tr style=\"text-align: right;\">\n",
              "      <th></th>\n",
              "      <th>sentence</th>\n",
              "      <th>author</th>\n",
              "      <th>word_count</th>\n",
              "      <th>Char_count</th>\n",
              "      <th>av_length</th>\n",
              "    </tr>\n",
              "  </thead>\n",
              "  <tbody>\n",
              "    <tr>\n",
              "      <th>0</th>\n",
              "      <td>А живет он второе лето в этом вонючем городиш...</td>\n",
              "      <td>Chehov</td>\n",
              "      <td>20</td>\n",
              "      <td>110</td>\n",
              "      <td>5.500000</td>\n",
              "    </tr>\n",
              "    <tr>\n",
              "      <th>1</th>\n",
              "      <td>Вдруг она услыхала ровный и спокойный носовой...</td>\n",
              "      <td>Tolstoy</td>\n",
              "      <td>8</td>\n",
              "      <td>53</td>\n",
              "      <td>6.625000</td>\n",
              "    </tr>\n",
              "    <tr>\n",
              "      <th>2</th>\n",
              "      <td>\"Послушайте, матушка.</td>\n",
              "      <td>Gogol</td>\n",
              "      <td>2</td>\n",
              "      <td>22</td>\n",
              "      <td>11.000000</td>\n",
              "    </tr>\n",
              "    <tr>\n",
              "      <th>3</th>\n",
              "      <td>Казалось, он думал, глядя на него: \"Эге!</td>\n",
              "      <td>Gogol</td>\n",
              "      <td>7</td>\n",
              "      <td>41</td>\n",
              "      <td>5.857143</td>\n",
              "    </tr>\n",
              "    <tr>\n",
              "      <th>4</th>\n",
              "      <td>- повторил он.</td>\n",
              "      <td>Pushkin</td>\n",
              "      <td>2</td>\n",
              "      <td>15</td>\n",
              "      <td>7.500000</td>\n",
              "    </tr>\n",
              "  </tbody>\n",
              "</table>\n",
              "</div>"
            ],
            "text/plain": [
              "                                            sentence  ...  av_length\n",
              "0   А живет он второе лето в этом вонючем городиш...  ...   5.500000\n",
              "1   Вдруг она услыхала ровный и спокойный носовой...  ...   6.625000\n",
              "2                              \"Послушайте, матушка.  ...  11.000000\n",
              "3           Казалось, он думал, глядя на него: \"Эге!  ...   5.857143\n",
              "4                                     - повторил он.  ...   7.500000\n",
              "\n",
              "[5 rows x 5 columns]"
            ]
          },
          "metadata": {
            "tags": []
          },
          "execution_count": 113
        }
      ]
    },
    {
      "cell_type": "markdown",
      "metadata": {
        "id": "q_SAqcyLW2MS",
        "colab_type": "text"
      },
      "source": [
        "#### Common statistic on dataset"
      ]
    },
    {
      "cell_type": "code",
      "metadata": {
        "id": "47dxQAgRSzCG",
        "colab_type": "code",
        "colab": {}
      },
      "source": [
        "def stat(x):\n",
        "  print('Min: ', np.min(x))\n",
        "  print()\n",
        "  print('Max: ', np.max(x))\n",
        "  print()\n",
        "  print('Mean:', np.mean(x))\n",
        "  print()\n",
        "  print('Median: ', np.median(x))  \n",
        "  "
      ],
      "execution_count": 0,
      "outputs": []
    },
    {
      "cell_type": "code",
      "metadata": {
        "id": "YKm1eWCgaLnl",
        "colab_type": "code",
        "outputId": "249e68c4-c0dd-4f6c-9357-2fff1748a231",
        "colab": {
          "base_uri": "https://localhost:8080/",
          "height": 139
        }
      },
      "source": [
        "# Number of words\n",
        "stat(word_count)\n"
      ],
      "execution_count": 0,
      "outputs": [
        {
          "output_type": "stream",
          "text": [
            "Min:  1\n",
            "\n",
            "Max:  199\n",
            "\n",
            "Mean: 14.130755555555556\n",
            "\n",
            "Median:  10.0\n"
          ],
          "name": "stdout"
        }
      ]
    },
    {
      "cell_type": "code",
      "metadata": {
        "id": "fdaXH5DKbG2a",
        "colab_type": "code",
        "outputId": "1a41acb3-d58c-4bf7-d404-8e9377a43aee",
        "colab": {
          "base_uri": "https://localhost:8080/",
          "height": 295
        }
      },
      "source": [
        "# Number of words distribution\n",
        "plt.hist(word_count, bins = 50)\n",
        "plt.title('Number of words in a sentence')\n",
        "plt.xlabel('Number of words')\n",
        "plt.ylabel('Number of sentences')\n",
        "plt.xlim(0, 100)\n",
        "plt.savefig(\"word_count.eps\")"
      ],
      "execution_count": 0,
      "outputs": [
        {
          "output_type": "display_data",
          "data": {
            "image/png": "[encoded data removed]",
            "text/plain": [
              "<Figure size 432x288 with 1 Axes>"
            ]
          },
          "metadata": {
            "tags": []
          }
        }
      ]
    },
    {
      "cell_type": "markdown",
      "metadata": {
        "id": "AOT65uDwdd6a",
        "colab_type": "text"
      },
      "source": [
        "Word`s distribution corresponds to the Zipf law"
      ]
    },
    {
      "cell_type": "code",
      "metadata": {
        "id": "GwEBIhM1anxd",
        "colab_type": "code",
        "outputId": "d1dc6817-1870-4ff4-a8e6-02e994e450d7",
        "colab": {
          "base_uri": "https://localhost:8080/",
          "height": 139
        }
      },
      "source": [
        "# Sentence length\n",
        "stat(char_count)"
      ],
      "execution_count": 0,
      "outputs": [
        {
          "output_type": "stream",
          "text": [
            "Min:  13\n",
            "\n",
            "Max:  1266\n",
            "\n",
            "Mean: 90.47533333333334\n",
            "\n",
            "Median:  65.0\n"
          ],
          "name": "stdout"
        }
      ]
    },
    {
      "cell_type": "code",
      "metadata": {
        "id": "norkszytdymv",
        "colab_type": "code",
        "outputId": "c06f9a35-8cd3-4b29-a541-63a7f4d7db1d",
        "colab": {
          "base_uri": "https://localhost:8080/",
          "height": 295
        }
      },
      "source": [
        "# Distribution of number of chars in sentence\n",
        "plt.hist(char_count, bins = 200)\n",
        "plt.title('Number of chars in a sentence')\n",
        "plt.xlabel('Number of chars')\n",
        "plt.ylabel('Number of sentences')\n",
        "plt.xlim(0, 500)\n",
        "plt.savefig(\"char_count.eps\")"
      ],
      "execution_count": 0,
      "outputs": [
        {
          "output_type": "display_data",
          "data": {
            "image/png": "[encoded data removed]",
            "text/plain": [
              "<Figure size 432x288 with 1 Axes>"
            ]
          },
          "metadata": {
            "tags": []
          }
        }
      ]
    },
    {
      "cell_type": "code",
      "metadata": {
        "id": "D8Z5aOXdeBc0",
        "colab_type": "code",
        "outputId": "69a49f33-5e37-4057-c5c1-2e412a11de22",
        "colab": {
          "base_uri": "https://localhost:8080/",
          "height": 139
        }
      },
      "source": [
        "# Average word length\n",
        "stat(av_length)"
      ],
      "execution_count": 0,
      "outputs": [
        {
          "output_type": "stream",
          "text": [
            "Min:  3.2\n",
            "\n",
            "Max:  17.0\n",
            "\n",
            "Mean: 6.535368076154129\n",
            "\n",
            "Median:  6.4\n"
          ],
          "name": "stdout"
        }
      ]
    },
    {
      "cell_type": "code",
      "metadata": {
        "id": "H5HhMJY6eRSc",
        "colab_type": "code",
        "outputId": "0aed3f52-d24d-4799-8bb1-1a2bbcf9134e",
        "colab": {
          "base_uri": "https://localhost:8080/",
          "height": 295
        }
      },
      "source": [
        "plt.hist(av_length, bins = 50)\n",
        "plt.title('Average word length distribution')\n",
        "plt.xlabel('Length')\n",
        "plt.ylabel('Number of sentences')\n",
        "plt.xlim(0, 20)\n",
        "plt.savefig(\"av_length.eps\")"
      ],
      "execution_count": 0,
      "outputs": [
        {
          "output_type": "display_data",
          "data": {
            "image/png": "[encoded data removed]",
            "text/plain": [
              "<Figure size 432x288 with 1 Axes>"
            ]
          },
          "metadata": {
            "tags": []
          }
        }
      ]
    },
    {
      "cell_type": "markdown",
      "metadata": {
        "id": "10fub5VXe74b",
        "colab_type": "text"
      },
      "source": [
        "It is distributed normally"
      ]
    },
    {
      "cell_type": "code",
      "metadata": {
        "id": "rJcFjez8euDf",
        "colab_type": "code",
        "outputId": "7ffe1c6e-9e53-4f36-c2a3-fca8b2000434",
        "colab": {
          "base_uri": "https://localhost:8080/",
          "height": 72
        }
      },
      "source": [
        "# Statistics by letters\n",
        "text_string = ''\n",
        "\n",
        "for i in range(len(sent)):\n",
        "    # Split sentences into words\n",
        "    for s in tok.tokenize(sent[i]):\n",
        "        s = s.lower() \n",
        "        text_string += s\n",
        "\n",
        "# Letter distribution by sentences\n",
        "char_cnt = Counter(text_string)\n",
        "print(char_cnt)\n",
        "print(len(char_cnt))"
      ],
      "execution_count": 0,
      "outputs": [
        {
          "output_type": "stream",
          "text": [
            "Counter({'о': 182031, 'е': 134539, 'а': 131834, 'и': 109516, 'н': 102611, 'т': 91935, 'с': 83088, 'л': 79773, 'в': 74068, 'р': 67124, 'к': 58573, 'д': 49677, 'м': 49566, 'у': 47334, 'п': 43345, 'я': 33784, 'ь': 31529, 'г': 29626, 'б': 29283, 'ы': 29087, 'ч': 27098, 'з': 27019, 'й': 17631, 'ж': 17015, 'ш': 14958, 'х': 13761, 'ю': 10066, 'ц': 5099, 'щ': 4368, 'э': 3608, 'ф': 2324, 'ё': 529, 'ъ': 476, 'e': 431, 'i': 415, 'a': 274, 'n': 249, 's': 207, 't': 200, 'r': 186, 'o': 178, 'm': 162, 'l': 146, 'u': 144, 'x': 126, 'v': 105, 'c': 101, 'd': 98, '1': 78, 'p': 66, '0': 65, 'h': 51, 'b': 49, '2': 45, 'f': 43, '3': 38, 'g': 36, '8': 34, '7': 32, '5': 28, '6': 22, '9': 19, 'z': 18, '4': 17, 'q': 16, 'k': 13, 'j': 11, 'y': 9, 'w': 7, 'é': 5, 'è': 2, 'à': 2, 'ѣ': 2, 'ê': 2, 'ó': 1, 'ç': 1})\n",
            "76\n"
          ],
          "name": "stdout"
        }
      ]
    },
    {
      "cell_type": "markdown",
      "metadata": {
        "id": "6-8jRhNHkgIn",
        "colab_type": "text"
      },
      "source": [
        "\n",
        "We have noticed that some words are  foreign"
      ]
    },
    {
      "cell_type": "code",
      "metadata": {
        "id": "jzbWyHQtiGP_",
        "colab_type": "code",
        "outputId": "70f5e8f1-7e62-42de-f55c-24226c5fda65",
        "colab": {
          "base_uri": "https://localhost:8080/",
          "height": 55
        }
      },
      "source": [
        "# All chars list\n",
        "print(list(char_cnt.keys()))"
      ],
      "execution_count": 0,
      "outputs": [
        {
          "output_type": "stream",
          "text": [
            "['а', 'ж', 'и', 'в', 'е', 'т', 'о', 'н', 'р', 'л', 'э', 'м', 'ю', 'ч', 'г', 'д', 'ш', 'к', 'п', 'у', 'б', 'ы', 'ь', 'с', 'х', 'й', 'з', 'я', 'ц', 'ё', 'щ', 'ф', 'ъ', 'n', 'o', '6', 'j', 'a', 'd', 'r', 'e', 'l', 'm', 'i', 's', 't', 'k', 'x', '5', 'b', 'p', 'u', 'z', 'v', 'g', '7', '3', '2', 'c', '1', '0', '8', '9', 'f', 'ó', 'q', 'y', 'h', 'w', 'è', '4', 'à', 'ç', 'é', 'ѣ', 'ê']\n"
          ],
          "name": "stdout"
        }
      ]
    },
    {
      "cell_type": "code",
      "metadata": {
        "id": "12LxyiUzdr-9",
        "colab_type": "code",
        "outputId": "cfb1a60b-2f2c-4097-93e5-83c885cd7285",
        "colab": {
          "base_uri": "https://localhost:8080/",
          "height": 589
        }
      },
      "source": [
        "no_integers = [item for item in list(char_cnt.keys())[33:] if not item.isdigit()]\n",
        "no_integers"
      ],
      "execution_count": 0,
      "outputs": [
        {
          "output_type": "execute_result",
          "data": {
            "text/plain": [
              "['n',\n",
              " 'o',\n",
              " 'j',\n",
              " 'a',\n",
              " 'd',\n",
              " 'r',\n",
              " 'e',\n",
              " 'l',\n",
              " 'm',\n",
              " 'i',\n",
              " 's',\n",
              " 't',\n",
              " 'k',\n",
              " 'x',\n",
              " 'b',\n",
              " 'p',\n",
              " 'u',\n",
              " 'z',\n",
              " 'v',\n",
              " 'g',\n",
              " 'c',\n",
              " 'f',\n",
              " 'ó',\n",
              " 'q',\n",
              " 'y',\n",
              " 'h',\n",
              " 'w',\n",
              " 'è',\n",
              " 'à',\n",
              " 'ç',\n",
              " 'é',\n",
              " 'ѣ',\n",
              " 'ê']"
            ]
          },
          "metadata": {
            "tags": []
          },
          "execution_count": 19
        }
      ]
    },
    {
      "cell_type": "code",
      "metadata": {
        "id": "WjWQmcUAk0Ir",
        "colab_type": "code",
        "outputId": "a9cc4292-851e-46a5-f4e2-d96e0429e2f5",
        "colab": {
          "base_uri": "https://localhost:8080/",
          "height": 35
        }
      },
      "source": [
        "# Foreign symbosl\n",
        "#unusual_chars = ['v', 'i', 'e', 'a', 'n',\n",
        "#                  'o','s', 'x', 'm', 't',\n",
        "#                  'r', 'u', 'c', 'd', 'p',\n",
        "#                 'h', 'f', 'b', 'g', 'q',\n",
        "#                 'y', 'z', 'j', 'k', 'w',\n",
        "#                 'é', 'ç', 'è', 'ê', 'à',\n",
        "#                 'ѣ', 'ѳ', 'і' ]\n",
        "\n",
        "unusual_chars = no_integers\n",
        "\n",
        "# Sentences comprised foreign chars\n",
        "unusual_text = []\n",
        "\n",
        "for i in range(len(sent)):\n",
        "    for j in sent[i]:\n",
        "        if j in unusual_chars:\n",
        "            unusual_text.append(i)\n",
        "        \n",
        "unusual_text = list(set(unusual_text))\n",
        " \n",
        "print('The dataset comprice', str(len(unusual_text)), 'sentences with foreign words')"
      ],
      "execution_count": 0,
      "outputs": [
        {
          "output_type": "stream",
          "text": [
            "The dataset comprice 229 sentences with foreign words\n"
          ],
          "name": "stdout"
        }
      ]
    },
    {
      "cell_type": "code",
      "metadata": {
        "id": "gS10-BpEnOYd",
        "colab_type": "code",
        "outputId": "eb3ba329-7eec-4cb6-a1ec-8d2ce12b5729",
        "colab": {
          "base_uri": "https://localhost:8080/",
          "height": 11945
        }
      },
      "source": [
        "# Sentences with unusual words\n",
        "for i in unusual_text:\n",
        "    print(\"Sentence {}\".format(i))\n",
        "    print(sent[i] + '\\n')"
      ],
      "execution_count": 0,
      "outputs": [
        {
          "output_type": "stream",
          "text": [
            "Sentence 13824\n",
            " Он вынул платок, отер кровь, пощупал вокруг раны...   Кость цела,   бормотал он сквозь зубы,   пуля прошла неглубоко насквозь, один мускул, vastus externus, задет.\n",
            "\n",
            "Sentence 15362\n",
            " Наконец он улыбнулся, поглядел вверх на небо и, кладя псалтирь в карман, сказал:      Fini!\n",
            "\n",
            "Sentence 12291\n",
            " A bon entendeur, salut!\n",
            "\n",
            "Sentence 1032\n",
            " (Марья Гавриловна  вспомнила  первое письмо  St.-Preux).\n",
            "\n",
            "Sentence 7689\n",
            " О, этот Швабрин превеликий Schelm, и если попадется ко мне  в руки,  то я велю его  судить в  24  часа,  и мы расстреляем его  на парапете крепости!\n",
            "\n",
            "Sentence 8200\n",
            " Elle fait sensation.\n",
            "\n",
            "Sentence 12299\n",
            " Вот его нравственный остов: утром туфли, купанье и кофе, потом до обеда туфли, моцион и разговоры, в два часа туфли, обед и вино, в пять часов купанье, чай и вино, затем винт и лганье, и десять часов ужин и вино, а после полуночи сон и la femme женщина (франц.).. Существование его заключено в эту тесную программу, как яйцо в скорлупу.\n",
            "\n",
            "Sentence 15373\n",
            " Например, mon amie моя приятельница (франц.).\n",
            "\n",
            "Sentence 16398\n",
            " я встал, сказал \"rose\" и робко взглянул на Сонечку.\n",
            "\n",
            "Sentence 17423\n",
            " То, что вы сказали, совершенно характеризует французское искусство теперь, и живопись, и даже литературу: Zola, Daudet.\n",
            "\n",
            "Sentence 14866\n",
            " \"Да бабу, Елисавету Воробья, еще и букву ѣ поставили на конце\".\n",
            "\n",
            "Sentence 12819\n",
            " Au fond c'est la femme la plus depravee qui existe.\n",
            "\n",
            "Sentence 19989\n",
            " Ce sera admirable,   все из Парижа.\n",
            "\n",
            "Sentence 8726\n",
            " Это от латинского nihil, ничего, сколько я могу судить; стало быть, это слово означает человека, который... который ничего не признает?\n",
            "\n",
            "Sentence 8728\n",
            " Уж как вы там ни хитрите, господа молодые, а все-таки старик Парацельсий святую правду изрек: in herbis, verbis et lapidibus... в травах, словах и камнях (лат.).\n",
            "\n",
            "Sentence 18456\n",
            " Впрочем, можно вам также порекомендовать Ganot, Traite elementaire de physique experimentale Гано, \"Элементарный учебник экспериментальной физики\" (франц.).. В этом сочинении рисунки отчетливее, и вообще этот учебник...    Одинцова протянула руку.\n",
            "\n",
            "Sentence 5147\n",
            " Везде были рабы, потом metayers; и у нас есть испольная работа, есть аренда, есть батрацкая работа,   чего ты ищешь?\n",
            "\n",
            "Sentence 5151\n",
            " Получив ответ, он и белокурый доктор тоном экзаменаторов, чувствующих свою неумелость, стали спрашивать у Андрея Ефимыча, какой сегодня день, сколько дней в году и правда ли, что в палате No 6 живет замечательный пророк.\n",
            "\n",
            "Sentence 3104\n",
            " Вы будете жить у бабушки, а maman с девочками остается здесь.\n",
            "\n",
            "Sentence 10272\n",
            " \"Славный, милый\",   подумала Кити в это время, выходя из домика с m-lle Linon и глядя на него с улыбкой тихой ласки, как на любимого брата.\n",
            "\n",
            "Sentence 12833\n",
            " Бопре в отечестве  своем  был парикмахером,  потом  в Пруссии солдатом, потом приехал в Россию  pour Йtre outchitel, не очень понимая значения этого слова.\n",
            "\n",
            "Sentence 5155\n",
            " Он не мог изменить памяти Marie.\n",
            "\n",
            "Sentence 13348\n",
            " Ты уже чересчур благодушен и скромен,   возразил Павел Петрович,   я, напротив, уверен, что мы с тобой гораздо правее этих господчиков, хотя выражаемся, может быть, несколько устарелым языком, vieilh, и не имеем той дерзкой самонадеянности... И такая надутая эта нынешняя молодежь!\n",
            "\n",
            "Sentence 17917\n",
            " Ты видела, je fais des passions.\n",
            "\n",
            "Sentence 19496\n",
            " Entrez Войдите (франц.)..    Молодые люди вошли.\n",
            "\n",
            "Sentence 12841\n",
            " Il est libre, en effet, Он в самом деле вольный (франц.).\n",
            "\n",
            "Sentence 5677\n",
            " Maman здесь,   сказала она, обращаясь к Кити.\n",
            "\n",
            "Sentence 9262\n",
            " \"Rose ou hortie?\"\n",
            "\n",
            "Sentence 6191\n",
            " Они к нему привыкли, и он к ним, кажется, точно привязан; а семьсот рублей в год никакого счета не делают, et puis au fond c'est un tres bon diable [и потом, в сущности, он славный малый, чорт его подери].\n",
            "\n",
            "Sentence 2608\n",
            " Bonjour, chère cousin,   сказал один из гостей, войдя в комнату и целуя руку бабушки.\n",
            "\n",
            "Sentence 19503\n",
            " Следующий способ, между прочим, в большом употреблении, \"is quite a favorite\" самый излюбленный (англ.)., как говорят англичане: сановник вдруг перестает понимать самые простые слова, глухоту на себя напускает.\n",
            "\n",
            "Sentence 17459\n",
            " Какое известие ожидало eгo!\n",
            "\n",
            "Sentence 21044\n",
            " Я нашел довольно редкий экземпляр водяного жука, Dytiscus marginatus, знаешь?\n",
            "\n",
            "Sentence 19509\n",
            " Бедная блондинка выдержала самый неприятный tête-à-tête, какой только когда-либо случалось иметь шестнадцатилетней девушке.\n",
            "\n",
            "Sentence 13881\n",
            " Die Mutter ust schon im Saal [Вставать, дети, вставать!..\n",
            "\n",
            "Sentence 13883\n",
            " Я не хочу протекционной системы не для выгоды частных лиц, но для общего блага   и для низших и для высших классов одинаково, -говорил он, поверх pince-nez глядя на Облонского.\n",
            "\n",
            "Sentence 21052\n",
            " Я очень хорошо помню, как раз за обедом   мне было тогда шесть лет   говорили о моей наружности, как maman старалась найти что-нибудь хорошее в моем лице: говорила, что у меня умные глаза, приятная улыбка, и наконец, уступая доводам отца и очевидности, принуждена была сознаться, что я дурен; и потом, когда я благодарил ее за обед, потрепала меня по щеке и сказала:      Ты это знай, Николенька, что за твое лицо тебя никто не будет любить; поэтому ты должен стараться быть умным и добрым мальчиком.\n",
            "\n",
            "Sentence 9286\n",
            " Victor, вы шалун.\n",
            "\n",
            "Sentence 7752\n",
            " Первое лицо, которое он увидал, была mademoiselle Linon.\n",
            "\n",
            "Sentence 14920\n",
            " он приехал бог знает откуда, я тоже здесь живу... А сколько, брат, было карет, и всё это en gros.\n",
            "\n",
            "Sentence 1100\n",
            " Optime Превосходно (лат.).. Нечего мешкать; мешкают одни дураки   да умники.\n",
            "\n",
            "Sentence 2636\n",
            " - Где ты была, Маша, - спросил Кирила Петрович, - не встретила ли ты М-r Дефоржа?- Маша насилу могла отвечать отрицательно.\n",
            "\n",
            "Sentence 14925\n",
            " Были, ma chere.\n",
            "\n",
            "Sentence 3153\n",
            " Вместо того чтобы нападать на них, прочтите лучше книгу Мишле De l'amour \"О любви\" (франц.).. Это чудо!\n",
            "\n",
            "Sentence 22098\n",
            " Отставной штаб-лекарь, волату вот и все (от франц. voila tout).\n",
            "\n",
            "Sentence 2132\n",
            " В каком-то красном costume de natation, старая, безобразная.\n",
            "\n",
            "Sentence 9816\n",
            " Сказывают, что он барин  гордый  и своенравный, жестокой в обращении со своими домашними  - что никто не может с ним ужиться,  что  все трепещут  при его  имени,  что с учителями  (avec les  outchitels) он  не церемонится,  и уже  двух засек  до смерти.\n",
            "\n",
            "Sentence 21081\n",
            " Ну, беседуйте скорее, только не по-латыни; я ведь понимаю, что значит: jam moritur.\n",
            "\n",
            "Sentence 2141\n",
            " Сильвио встал  и вынул из  картона  красную шапку с  золотою кистью,  с галуном (то, что французы называют bonnet de police); он ее  надел; она была прострелена на вершок ото лба.\n",
            "\n",
            "Sentence 14948\n",
            " Если, например, угловой флигель приспособить для аптеки, то на это, полагаю, понадобится minimum рублей пятьсот.\n",
            "\n",
            "Sentence 14953\n",
            " Et toc, et toc, et tin-tin-tin!!\".\n",
            "\n",
            "Sentence 11883\n",
            " Музыка играла  завоеванные  песни: Vive Henri-Quatre, тирольские вальсы и арии  из Жоконда.\n",
            "\n",
            "Sentence 19054\n",
            " Да, я думаю, Бюхнерово \"Stoff und Kraft\" \"Материя и сила\" (нем.).\n",
            "\n",
            "Sentence 13935\n",
            " С англичанами он держится просто, почти скромно, но не без достоинства; они находят его немного скучным, но уважают в нем совершенного джентльмена, \"a perfect gentleman\".\n",
            "\n",
            "Sentence 2680\n",
            " XVI        Усадьба, в которой жила Анна Сергеевна, стояла на пологом открытом холме, в недальнем расстоянии от желтой каменной церкви с зеленою крышей, белыми колоннами и живописью al fresco фреской (франц.).\n",
            "\n",
            "Sentence 14968\n",
            " Quelle idee!\n",
            "\n",
            "Sentence 16508\n",
            " Она не заметила и впечатления, ею  произведенного на  М-r Дефоржа,  ни его смущения,  ни его трепета, ни изменившегося голоса.\n",
            "\n",
            "Sentence 10880\n",
            " Я вам давно хотела сказать, maman: вы знаете ли, что Левин хотел сделать предложение Кити, когда он был здесь в последний раз?\n",
            "\n",
            "Sentence 5761\n",
            " В особенности образно и скульптурно, так сказать, и богато красками то место, где вы чувствуете приближение Корделии, где женщина, das ewig Weibliche, вступает в борьбу с роком.\n",
            "\n",
            "Sentence 11396\n",
            " Рluck, то есть энергии и смелости, Вронский не только чувствовал в себе достаточно, но, что гораздо важнее, он был твердо убежден, что ни у кого в мире не могло быть этого рluck больше, чем у него.\n",
            "\n",
            "Sentence 6277\n",
            " Уморительны мне твои engouements,   сказала княгиня,   нет, пойдем лучше назад,   прибавила она, заметив двигавшегося им навстречу Левина с своею дамой и с немецким доктором, с которым он что-то громко и сердито говорил.\n",
            "\n",
            "Sentence 4230\n",
            " Какие же у тебя skeletons?\n",
            "\n",
            "Sentence 6796\n",
            " Потом стали играть в lawn tennis.\n",
            "\n",
            "Sentence 5261\n",
            " На другой день в манеже мы спрашивали уже,  жив ли еще  бедный поручик, как сам oн явился между нами; мы сделали ему тот же вопрос.\n",
            "\n",
            "Sentence 6798\n",
            " Конечно всякому   вольно  смеяться  над  некоторыми  их   странностями;   но   шутки поверхностного наблюдателя не  могут  уничтожить их существенных достоинств, из  коих главное, особенность характера, самобытность (individualitй) ,  без чего, по мнению Жан-Поля,  не существует и человеческого величия.\n",
            "\n",
            "Sentence 10895\n",
            " Для чего этим трем барышням нужно было говорить через день по-французски и по-английски; для чего они в известные часы играли попеременкам на фортепиано, звуки которого всегда слышались у брата наверху, где занимались студенты; для чего ездили эти учителя французской литературы, музыки, рисованья, танцев; для чего в известные часы все три барышни с m-lle Linon подъезжали в коляске к Тверскому бульвару в своих атласных шубках   Долли в длинной, Натали в полудлинной, а Кити в совершенно короткой, так что статные ножки ее в туго натянутых красных чулках были на всем виду; для чего им, в сопровождении лакея с золотою кокардой на шляпе, нужно было ходить по Тверскому бульвару,   всего этого и многого другого, что делалось в их таинственном мире, он не понимал, но знал, что все, что там делалось, было прекрасно, и был влюблен именно в эту таинственность совершавшегося.\n",
            "\n",
            "Sentence 11924\n",
            " Pierre Сапожников... вы его знаете?\n",
            "\n",
            "Sentence 22170\n",
            " Изобразив на лице своем презрительную насмешку и отпуская ядовитые замечания, он дерзко поглядывал кругом и, казалось, чувствовал истинное наcлаждение.\n",
            "\n",
            "Sentence 5277\n",
            " Тогдашние тузы, в редких случаях, когда говорили на родном языке, употребляли одни   эфто, другие   эхто: мы, мол, коренные русаки, и в то же время мы вельможи, которым позволяется пренебрегать школьными правилами), я эфтим хочу доказать, что без чувства собственного достоинства, без уважения к самому себе,   а в аристократе эти чувства развиты,   нет никакого прочного основания общественному... bien public общественному благу (франц.)., общественному зданию.\n",
            "\n",
            "Sentence 13981\n",
            " Как она забралась туда, неизвестно, но так искусно была прописана, что издали можно было принять ее за мужика, и даже имя оканчивалось на букву ѣ, то-есть не Елизавета, а Елизаветъ.\n",
            "\n",
            "Sentence 13471\n",
            " Он не спал по ночам, капризничал и беспокоил больных и скоро, по распоряжению Андрея Ефимыча, был переведен в палату No 6.\n",
            "\n",
            "Sentence 13474\n",
            " Мне  пришло  в  голову, что  если нaзoву  ее,  то комиссия  потребует ее  к ответу;  и мысль впутать  имя  ее  между  гнусными изветами злодеев, и ее самую привести на очную с ними ставку -  эта  ужасная мысль так меня поразила, что я замялся и спутался.\n",
            "\n",
            "Sentence 22178\n",
            " Это вы, Victor?\n",
            "\n",
            "Sentence 11940\n",
            " Нет, я не заметила, maman,   вспыхнув, сказала Кити.\n",
            "\n",
            "Sentence 2725\n",
            " Ну, да, впрочем, это никому не интересно,   сказала она и обратилась к англичанке:      Please order the tea in the drawing-room.\n",
            "\n",
            "Sentence 19114\n",
            " За поднятым верхом я ничего не мог видеть, но какой-то инстинкт говорил мне, что maman еще здесь.\n",
            "\n",
            "Sentence 11438\n",
            " On oublie la Pattie pour elle.\n",
            "\n",
            "Sentence 19119\n",
            " в смысле: \"непременно\", словом, выражался на том великорусско-французском наречии, над которым так смеются французы, когда они не имеют нужды уверять нашу братью, что мы говорим на их языке, как ангелы, \"comme des anges\".\n",
            "\n",
            "Sentence 5811\n",
            " Он ласкал всех   одних с оттенком гадливости, других с оттенком уважения; рассыпался \"en vrai chevalier franГais\" как истинный кавалер-француз (франц.).\n",
            "\n",
            "Sentence 21172\n",
            " Как они не видали, что они губили себя, свой prestige этим назначением!\n",
            "\n",
            "Sentence 21178\n",
            " И, не помогая мучившемуся юноше, с которым она танцевала, в разговоре, нить которого он упустил и не мог поднять, и наружно подчиняясь весело-громким повелительным крюкам Корсунского, то бросающего всех в grand rond, то в chaine, она наблюдала, и сердце ее сжималось больше и больше.\n",
            "\n",
            "Sentence 16572\n",
            " C'est moi, n'est ce pas?\n",
            "\n",
            "Sentence 21694\n",
            " В разговоре их все было сказано; было сказано, что она любит его и что скажет отцу и матери, что завтра он приедет утpом.\n",
            "\n",
            "Sentence 1732\n",
            " повертываясь на кресле и защелкивая свой pince-nez, сказал он.\n",
            "\n",
            "Sentence 709\n",
            " У Катерины Андреевны, все у нее, ma tante!\n",
            "\n",
            "Sentence 17093\n",
            " Родительница его, из фамилии Колязиных, в девицах Agathe, а в генеральшах Агафоклея Кузьминишна Кирсанова, принадлежала к числу \"матушек-командирш\", носила пышные чепцы и шумные шелковые платья, в церкви подходила первая ко кресту, говорила громко и много, допускала детей утром к ручке, на ночь их благословляла,   словом, жила в свое удовольствие.\n",
            "\n",
            "Sentence 5319\n",
            " Или он вчера сделал предложение твоей belle soeur?..\n",
            "\n",
            "Sentence 20168\n",
            " Tiny bear уже стал большой!\n",
            "\n",
            "Sentence 716\n",
            " У меня старушка  мать,  половину  жалования  буду  отсылать  ей на  пропитание,  из остальных денег  в 5 лет  могу  скопить  маленький  капитал достаточный  для будущей моей независимости -  и тогда  bonsoir, еду в  Париж  и  пускаюсь  в комерческие обороты.\n",
            "\n",
            "Sentence 21198\n",
            " Перемена не во внешнем положении,   строго сказала графиня Лидия Ивановна, вместе с тем следя влюбленным взглядом за вставшим и перешедшим к Landau Алексеем Александровичем,   сердце его изменилось, ему дано новое сердце, и я боюсь, что вы не вполне вдумались в ту перемену, которая произошла в нем.      То есть я в общих чертах могу представить себе эту перемену.\n",
            "\n",
            "Sentence 2767\n",
            " Вы слышали, и Мальтищева,   не дочь, а мать,   шьет себе костюм diable rose.\n",
            "\n",
            "Sentence 1232\n",
            " \"Et toc, et toc, et tin-tin-tin!\n",
            "\n",
            "Sentence 4816\n",
            " Ils ont ete charmants.\n",
            "\n",
            "Sentence 10447\n",
            " Ну, что, maman, вы совершенно здоровы?\n",
            "\n",
            "Sentence 15567\n",
            " Егорушка снял пальто, поцеловал руку дяде и о. Христофору и сел за стол.      Ну, как доехал, puer bone добрый мальчик?\n",
            "\n",
            "Sentence 724\n",
            " Левин же только оттого не выпил водки, что ему оскорбительна была эта француженка, вся составленная, казалось, из чужих волос, poudre de riz и vinaigre de toilette.\n",
            "\n",
            "Sentence 14553\n",
            " Обед был прекрасный, и гонка лодок, и все это было довольно мило, но в Москве не могут без ridicule.\n",
            "\n",
            "Sentence 7388\n",
            " Я заметил, что maman вздрогнула и побледнела при этом известии, как будто оно было для нее неожиданно.\n",
            "\n",
            "Sentence 2782\n",
            " Alexandre, Alexandre,   шептала она, подвигаясь, и расплакалась.\n",
            "\n",
            "Sentence 20195\n",
            " А из гостей будут Кити и Левин, и, чтобы незаметно это было, будет еще кузина и Щербацкий молодой, и la piece de resistance из гостей   Кознышев Сергей и Алексей Александрович.\n",
            "\n",
            "Sentence 8933\n",
            " Я нахожу, и написал об этом записку, что в наше время эти огромные жалованья суть признаки ложной экономической assiette нашего управления.\n",
            "\n",
            "Sentence 16613\n",
            " Все  встали;  отец начал  было представление гостей, но вдруг  остановился и поспешно закусил  себе губы... Лиза, его смуглая  Лиза,  набелена была по  уши, насурмлена пуще  самой мисс Жаксон; фальшивые локоны, гораздо светлее собственных ее волос, взбиты были, как парик  Людовика XIV; рукава а  l'imbйcile  торчали как фижмы у Madame de Pompadour; талия была перетянута, как буква икс, и все бриллиянты ее матери, еще не  заложенные в ломбарде, сияли  на ее пальцах, шее и  ушах.\n",
            "\n",
            "Sentence 18150\n",
            " Кукшина, Eudoxie, Евдоксия Кукшина.\n",
            "\n",
            "Sentence 2280\n",
            " Mademoiselle Linon заторопилась и, оставив его, пошла к другой двери.\n",
            "\n",
            "Sentence 22246\n",
            " O sancta simplicitas!\n",
            "\n",
            "Sentence 7403\n",
            " В то же  время раздался голос:  tout  beau, Sbogar, ici... и молодой охотник показался из-за кустарника.\n",
            "\n",
            "Sentence 20715\n",
            " Мадам Шталь эвала ее Варенька, а другие звали \"m-lle Варенька\".\n",
            "\n",
            "Sentence 12023\n",
            " Я не мог наглядеться на князя: уважение, которое ему все оказывали, большие эполеты, особенная радость, которую изъявила бабушка, увидев его, и то, что он один, по-видимому, не боялся ее, обращался с ней совершенно свободно и даже имел смелость называть ее ma cousine, внушили мне к нему уважение, равное, если не большее, тому, которое я чувствовал к бабушке.\n",
            "\n",
            "Sentence 16120\n",
            " Der Herr scheint des Deutschen machtig zu sein Сударь, по-видимому, владеет немецким языком (нем.).,   начал новый питомец Эскулапа, обращаясь к Василию Ивановичу.\n",
            "\n",
            "Sentence 16124\n",
            " Du calme, du calme Спокойно, спокойно (франц.).,   замечал на это Павел Петрович, а сам мурлыкал, хмурился и подергивал усы.\n",
            "\n",
            "Sentence 13053\n",
            " Ax, ma bonne tante [моя добрая тетушка],   кинув быстрый взгляд на папа, добреньким голоском отвечала княгиня,   я знаю, какого вы мнения на этот счет, но позвольте мне в этом одном с вами не согласиться: сколько я ни думала, сколько ни читала, ни советовалась об этом предмете, все-таки опыт привел меня к тому, что я убедилась в необходимости действовать на детей страхом.\n",
            "\n",
            "Sentence 3838\n",
            " Все это я делаю gratis   анаматер даром (лат.), по-любительски (от франц. en amateur).. Впрочем, мне не в диво: я ведь плебей, homo novus новый человек (лат.).\n",
            "\n",
            "Sentence 15102\n",
            " Это замечательная натура, emancipee свободная от предрассудков (франц.).\n",
            "\n",
            "Sentence 12032\n",
            " Я нахожу, что Аркадий s'est degourdi стал развязнее (франц.).,   заметил он.\n",
            "\n",
            "Sentence 7937\n",
            " подумал Николай Петрович, и любимые стихи пришли было ему на уста; он вспомнил Аркадия, Stoff und Kraft   и умолк, но продолжал сидеть, продолжал предаваться горестной и отрадной игре одиноких дум.\n",
            "\n",
            "Sentence 7426\n",
            " Распустили слух, что палату No 6 будто бы стал посещать доктор.\n",
            "\n",
            "Sentence 18688\n",
            " Не нужно... Это был минутный vertige... головокружение... (франц.).\n",
            "\n",
            "Sentence 14596\n",
            " Но, понимаете, одному можно сесть за карты, но так, чтобы всегда встать, когда придет время rendez-vous.\n",
            "\n",
            "Sentence 4869\n",
            " Граф, ваша maman зовет вас,   сказала княжна Сорокина, выглядывая из двери ложи.\n",
            "\n",
            "Sentence 5381\n",
            " Все серьезные зоологи работают на биологических станциях в Неаполе или Villefranche.\n",
            "\n",
            "Sentence 1287\n",
            " Теперь, когда он связался с Лидией Ивановной и с Landau, все говорят, что он полоумный, и я бы и рада не соглашаться со всеми, но на этот раз не могу.\n",
            "\n",
            "Sentence 12549\n",
            " Maшa окуталась  шалью,  надела теплый капот,  взяла  в руки  шкатулку свою и вышла на заднее крыльцо.\n",
            "\n",
            "Sentence 7433\n",
            " Я совершенно спокойна, maman.\n",
            "\n",
            "Sentence 9993\n",
            " Wo ist der Kranke?\n",
            "\n",
            "Sentence 12043\n",
            " в сорок четыре года человек, pater familias отец семейства (лат.)., в ...м уезде   играет на виолончели!\n",
            "\n",
            "Sentence 14090\n",
            " В postscriptum было только прибавлено, что его собственное сердце должно отгадать писавшую и что на бале у губернатора, имеющем быть завтра, будет присутствовать сам оригинал.\n",
            "\n",
            "Sentence 4883\n",
            " Читали последний циркуляр в \"Journal de St.-Petersbourg\"?\n",
            "\n",
            "Sentence 13079\n",
            " \"Stoff und Kraft\" написано популярным языком...      Вот как мы с тобой,   говорил в тот же день после обеда Николай Петрович своему брату, сидя у него в кабинете,   в отставные люди попали, песенка наша спета.\n",
            "\n",
            "Sentence 10521\n",
            " А я отвечаю: \"Christophorus sum\" Христофор (лат.).. А он: \"Ergo connominati sumus\", то есть, мы, значит, тезки... Потом спрашивает по-латынски: \"Чей ты?\"\n",
            "\n",
            "Sentence 11033\n",
            " Manu militari Военной силой (лат.).\n",
            "\n",
            "Sentence 10011\n",
            " Скоро по больнице разнесся слух, что доктор Андрей Ефимыч стал посещать палату No 6.\n",
            "\n",
            "Sentence 13081\n",
            " Я очень рада, que la glace est rompue.\n",
            "\n",
            "Sentence 21792\n",
            " Их... габе... Я... имею... (от нем. ich habe).\n",
            "\n",
            "Sentence 10532\n",
            " Сие да  будет  сказано не в  суд, и  не во  осуждение, однако ж  Nota nostra manet, как пишет один старинный комментатор.\n",
            "\n",
            "Sentence 16165\n",
            " Он говорит, выписать доктора...      Maman, он все сделает, он на все согласен,   с досадой на мать за то, что она призывает в этом деле судьей Сергея Ивановича, сказала Кити.\n",
            "\n",
            "Sentence 11046\n",
            " Пью ваше здоровье, Eudoxie!\n",
            "\n",
            "Sentence 17188\n",
            " сказал я ей и после утвердительного ответа продолжал:   Et moi, je n'ai encore jamais fréquenté la capetale\" [А я еще никогда не посещал столицы],   рассчитывая в особенности на эффект слова \"fréquenter\" [посещать].\n",
            "\n",
            "Sentence 7469\n",
            " Сам  Кирила  Петрович, казалось,  любил  ее  более прочих, и  черноглазый  мальчик, шалун лет 9-ти(tm), напоминающий полуденные черты М-lle Мими, воспитывался при нем и признан был его сыном, не смотря на то,  что  множество  босых ребятишек, как две капли воды  похожих на  Кирила Петровича, бегали перед его окнами и считались дворов      ыми.\n",
            "\n",
            "Sentence 10032\n",
            " И не говорите мне, что эти плоды ничтожны: последний пачкун, ип barbouilleur, тапер, которому дают пять копеек за вечер, и те полезнее вас, потому что они представители цивилизации, а не грубой монгольской силы!\n",
            "\n",
            "Sentence 5939\n",
            " Les amis de nos amis sont nos amis.\n",
            "\n",
            "Sentence 8500\n",
            " Знаете, один из этих диких новых людей, которые теперь часто встречаются; знаете, из тех вольнодумцев, которые d'emblee воспитаны в понятиях неверия, отрицания и материализма.\n",
            "\n",
            "Sentence 11060\n",
            " ты захотел посетить своего приятеля; но ты опоздал, amice дружище (лат.)., и мы имели уже с ним продолжительную беседу.\n",
            "\n",
            "Sentence 4919\n",
            " Он держал в руках последний нумер Galignani, но он не читал; он глядел пристально в камин, где, то замирая, то вспыхивая, вздрагивало голубоватое пламя... Бог знает, где бродили его мысли, но не в одном только прошедшем бродили они: выражение его лица было сосредоточенно и угрюмо, чего не бывает, когда человек занят одними воспоминаниями.\n",
            "\n",
            "Sentence 1336\n",
            " Но причины так важны, что надо passer pardessus toutes ces finesses de sentiment.\n",
            "\n",
            "Sentence 12600\n",
            " Mariette говорит, что он был мил очень и... я должен тебя огорчить... не скучал о тебе, не так, как твой муж. Но еще раз merci, мой друг, что подарила мне день.\n",
            "\n",
            "Sentence 17214\n",
            " Прелесть, какая легкость, precision,   говорил он ей то, что говорил почти всем хорошим знакомым.\n",
            "\n",
            "Sentence 8515\n",
            " Андрей Ефимыч и теперь был убежден, что между домом мещанки Беловой и палатой No 6 нет никакой разницы, что всё на этом свете вздор и суета сует, а между тем у него дрожали руки, ноги холодели и было жутко от мысли, что скоро Иван Дмитрич встанет и увидит, что он в халате.\n",
            "\n",
            "Sentence 5444\n",
            " Я с воспитанием maman не только была невинна, но я была глупа Я ничего не знала.\n",
            "\n",
            "Sentence 325\n",
            " Из всех обитателей палаты No 6 только ему одному позволяется выходить из флигеля и даже из больничного двора на улицу.\n",
            "\n",
            "Sentence 21829\n",
            " Да и действительно, что за касты au dixneuvieme siecle?\n",
            "\n",
            "Sentence 16204\n",
            " Suum cuique Всякому свое (лат.)..      Вот тебе на!\n",
            "\n",
            "Sentence 9551\n",
            " Хабаровка была деревня maman.\n",
            "\n",
            "Sentence 6480\n",
            " Аll right, sir   все исправно, сударь,   где-то внутри горла проговорил голос англичанина.\n",
            "\n",
            "Sentence 15712\n",
            " Левин простился с ними, но, чтобы не оставаться одному, пpицепился к своему бpату.\n",
            "\n",
            "Sentence 1384\n",
            " Она встала с дивана и, небрежно натягивая себе на плечи бархатную шубку на пожелтелом горностаевом меху, лениво промолвила: \"Здравствуйте, Victor\",   и пожала Ситникову руку.\n",
            "\n",
            "Sentence 12648\n",
            " Mais c'est ridicule!\n",
            "\n",
            "Sentence 2410\n",
            " Самойленко сел и прописал хину в растворе, kalii bromati, ревенной настойки, tincturae gentianae, aquae foeniculi   все это в одной микстуре, прибавил розового сиропу, чтобы горько не было, и ушел.\n",
            "\n",
            "Sentence 2411\n",
            " Вы меня извините, я еще только мои ablutions кончил,   сказал он улыбаясь, стоя пред ним в одном белье.\n",
            "\n",
            "Sentence 366\n",
            " J'adore l'allemand,   обратился он опять с той же улыбкой к Анне.\n",
            "\n",
            "Sentence 15216\n",
            " А Павел Петрович вернулся в свой изящный кабинет, оклеенный по стенам красивыми обоями дикого цвета, с развешанным оружием на пестром персидском ковре, с ореховою мебелью, обитой темно-зеленым трипом, с библиотекой renaissance в стиле эпохи Возрождения (франц.).\n",
            "\n",
            "Sentence 10609\n",
            " Я нахожу, что это низко и гадко, и madame Картасова не имела никакого права.\n",
            "\n",
            "Sentence 18291\n",
            " Pelouse et Fremy, Notions generales...   отвечал Базаров.\n",
            "\n",
            "Sentence 11124\n",
            " Ты, кажется, представляешь себе всякую женщину только самкой, une couveuse, -сказал Степан Аркадьич.\n",
            "\n",
            "Sentence 15732\n",
            " Он придерживается славянофильских воззрений: известно, что в высшем свете это считается trХs distingue весьма почтенным (франц.).. Он ничего русского не читает, но на письменном столе у него находится серебряная пепельница в виде мужицкого лаптя.\n",
            "\n",
            "Sentence 19836\n",
            " да \"ссьма\"; подал палец Ситникову и улыбнулся ему, но уже отвернув голову; даже самой Кукшиной, явившейся на бал безо всякой кринолины и в грязных перчатках, но с райскою птицею в волосах, даже Кукшиной он сказал: \"Enchante\" Очарован (франц.).. Народу было пропасть, и в кавалерах не было недостатка; штатские более теснились вдоль стен, но военные танцевали усердно, особенно один из них, который прожил недель шесть в Париже, где он выучился разным залихватским восклицаньям вроде: \"Zut\", \"Ah fichtrrre\", \"Pst, pst, mon bibi\" \"Зют\", \"Черт возьми\", \"Пст, пст, моя крошка\" (франц.).\n",
            "\n",
            "Sentence 3965\n",
            " Пятый и последний обитатель палаты No 6   мещанин, служивший когда-то сортировщиком на почте, маленький, худощавый блондин с добрым, но несколько лукавым лицом.\n",
            "\n",
            "Sentence 17791\n",
            " Вдруг  один из гостей, толстый булочник, поднял рюмку и воскликнул: \"За здоровье тех, на которых  мы  работаем,  unserer  Rundleute!\"\n",
            "\n",
            "Sentence 9090\n",
            " Девушка эта была La belle Flamande [красавица фламандка], про которую писала maman и которая впоследствии играла такую важную роль в жизни всего нашего семейства.\n",
            "\n",
            "Sentence 17283\n",
            " Если она хочет себя наказывать, tant pis pour elle\".\n",
            "\n",
            "Sentence 3973\n",
            " Послушай, domine Хома!\n",
            "\n",
            "Sentence 9093\n",
            " La belle Flamande [Красавица фламандка], как ты называешь ее, гостит у меня уже вторую неделю, потому что мать ее уехала куда-то в гости, и своими попечениями доказывает самую искреннюю привязанность.\n",
            "\n",
            "Sentence 13704\n",
            " Павел Петрович отрывисто сказал ему: bon soir добрый вечер (франц.)., и ушел к себе в кабинет.\n",
            "\n",
            "Sentence 16780\n",
            " и т.п. Он произносил их в совершенстве, с настоящим парижским шиком, и в то же время говорил \"si j'aurais\" вместо \"si j'avais\" если б я имел (франц.).\n",
            "\n",
            "Sentence 17296\n",
            " Раз после обедни, как теперь помню, в день тезоименитства благочестивейшего государя Александра Павловича Благословенного, он разоблачался в алтаре, поглядел на меня ласково и спрашивает: \"Puer bone, quam appellaris?\"\n",
            "\n",
            "Sentence 2962\n",
            " Но, танцуя последнюю кадриль с одним из скучных юношей, которому нельзя было отказать, ей случилось быть vis-a-vis с Вронским и Анной.\n",
            "\n",
            "Sentence 14739\n",
            " Впрочем, вы можете прочесть Pelouse et Fremy, Notions generales de Chimie Пелуз и Фреми, \"Общие основы химии\" (франц.).\n",
            "\n",
            "Sentence 15251\n",
            " - Гм, гм, нельзя ли, мусье,  переночевать  мне в вашей конурке,  потому что извольте видеть - -      - Que dйsire monsieur?\n",
            "\n",
            "Sentence 20374\n",
            " Знаю, что он умный, ученый, божественный что-то... Но ты знаешь, это не в моей... not in my line,   сказал Вронский.\n",
            "\n",
            "Sentence 8607\n",
            " Что ж, maman, идем.\n",
            "\n",
            "Sentence 8608\n",
            " Николай Петрович то и дело входил на цыпочках к брату и на цыпочках выходил от него; тот забывался, слегка охал, говорил ему по-французски: \"Conchez-vous\" Ложитесь (франц.).,   и просил пить.\n",
            "\n",
            "Sentence 10660\n",
            " Vous avez change tout cela Вы все это изменили (франц.)., дай вам Бог здоровья и генеральский чин, а мы только любоваться вами будем, господа... как бишь?\n",
            "\n",
            "Sentence 16294\n",
            " -  \"Вот уж не угадаешь, my dear\", отвечал ей Григорий  Иванович,  и рассказал всь, что случилось.\n",
            "\n",
            "Sentence 20393\n",
            " Герои наши видели много бумаги и черновой и белой, наклонившиеся головы, широкие затылки, фраки, сертуки губернского покроя и даже просто какую-то светлосерую куртку, отделившуюся весьма резко, которая, своротив голову набок и положив ее почти на самую бумагу, выписывала бойко и замашисто какой-нибудь протокол об оттяганьи земли или описке имения, захваченного каким-нибудь мирным помещиком, покойно доживающим век свой под судом, нажившим себе и детей и внуков под его покровом, да слышались урывками короткие выражения, произносимые хриплым голосом: \"Одолжите, Федосей Федосеевич, дельцо за No 368!\"\n",
            "\n",
            "Sentence 10155\n",
            " Punctum [Точка],   сказал он с едва заметной улыбкой и сделал знак, чтобы мы подали ему тетради.\n",
            "\n",
            "Sentence 12204\n",
            " Он знает, что в палате No 6 за решетками Никита колотит больных и что Мойсейка каждый день ходит по городу и собирает милостыню.\n",
            "\n",
            "Sentence 13227\n",
            " Merci,   промолвила Одинцова, вставая.\n",
            "\n",
            "Sentence 17326\n",
            " Я вчера встретил их, с Алексеем Вронским, bras dessus, bras dessous, на Морской.\n",
            "\n",
            "Sentence 13743\n",
            " Свежих людей редко видят в палате No 6.\n",
            "\n",
            "Sentence 1968\n",
            " Я знала ее belle-soeur.\n",
            "\n",
            "Sentence 5042\n",
            " Сережа предложил мне быть с ним vis-à-vis.\n",
            "\n",
            "Sentence 10163\n",
            " On se reunit le matin au breakfast et puis on se separe.\n",
            "\n",
            "Sentence 12723\n",
            " Молодой гувернер Ивиных, Herr Frost, с позволения бабушки сошел с нами в палисадник, сел на зеленую скамью, живописно сложил ноги, поставив между ними палку с бронзовым набалдашником, и с видом человека, очень довольного своими поступками, закурил сигару.\n",
            "\n",
            "Sentence 1461\n",
            " Андрей Ефимыч знает, что при теперешних взглядах и вкусах такая мерзость, как палата No 6, возможна разве только в двухстах верстах от железной дороги, в городке, где городской голова и все гласные   полуграмотные мещане, видящие во враче жреца, которому нужно верить без всякой критики, хотя бы он вливал в рот расплавленное олово; в другом же месте публика и газеты давно бы уже расхватали в клочья эту маленькую Бастилию.\n",
            "\n",
            "Sentence 7610\n",
            " Как она осторожно и ловко сводит их...      Нет, скажите, maman, что вы думаете?\n",
            "\n",
            "Sentence 444\n",
            " Расскажите нам что-нибудь забавное, но не злое,   сказала жена посланника, великая мастерица изящного разговора, называемого по-английски small-talk, обратясь к дипломату, тоже не знавшему, что теперь начать.\n",
            "\n",
            "Sentence 958\n",
            " Позвольте, Павел Петрович,   промолвил Базаров,   вы вот уважаете себя и сидите сложа руки; какая ж от этого польза для bien public?\n",
            "\n",
            "Sentence 17855\n",
            " Entrez,   прокричал ему Весловский.\n",
            "\n",
            "Sentence 18368\n",
            " Аркадий сказал правду: Павел Петрович не раз помогал своему брату; не раз, видя, как он бился и ломал себе голову, придумывая, как бы извернуться, Павел Петрович медленно подходил к окну и, засунув руки в карманы, бормотал сквозь зубы: \"Mais je puis vous donner de l'argent\" Но я могу дать вам денег (франц.).\n",
            "\n",
            "Sentence 8130\n",
            " \"Энергия необходима,   говаривал он тогда,   l'energie est la premiere qualite d'un homme d'etat\" энергия   первейшее качество государственного человека (франц.).\n",
            "\n",
            "Sentence 7622\n",
            " А то здесь другой доктор, приезжает к больному,   продолжал с каким-то отчаяньем Василий Иванович,   а больной уже ad patres [отправился] к праотцам (лат.).\n",
            "\n",
            "Sentence 7623\n",
            " Это я во сне плакал, maman,   сказал я, припоминая со всеми подробностями выдуманный сон и невольно содрогаясь при этой мысли.\n",
            "\n",
            "Sentence 19912\n",
            " Получить билет в придворную капеллу, в театр и т.д. никто не может так легко и скоро, как der Herr Baron von Kirsanoff господин барон фон Кирсанов (нем.).. Он все делает добро, сколько может; он все еще шумит понемножку: недаром же был он некогда львом; но жить ему тяжело... тяжелей, чем он сам подозревает... Стоит взглянуть на него в русской церкви, когда, прислонясь в сторонке к стене, он задумывается и долго не шевелится, горько стиснув губы, потом вдруг опомнится и начнет почти незаметно креститься...    И Кукшина попала за границу.\n",
            "\n",
            "Sentence 3530\n",
            " Ты опять заснешь, Николенька,   говорит мне maman,   ты бы лучше шел на верх.      Я не хочу спать, мамаша,   ответишь ей, и неясные, но сладкие грезы наполняют воображение, здоровый детский сон смыкает веки, и через минуту забудешься и спишь до тех пор, пока не разбудят.\n",
            "\n",
            "Sentence 17354\n",
            " Mathieu хочет показаться нам во всей своей славе; черт с ним!\n",
            "\n",
            "Sentence 2508\n",
            " Vous m'excuserez, mais vous voyez... Revenez vers dix heures, encore mieux demain.\n",
            "\n",
            "Sentence 6093\n",
            " \"А ничего, так tant pis\",   подумал он, опять похолодев, повернулся и пошел.\n",
            "\n",
            "Sentence 19411\n",
            " Как же, вы спасли этого Левина от неприятности...      Да, sa compagne позвала меня, и я постаралась успокоить его: он очень болен и недоволен был доктором... А я имею привычку ходить за этими больными.\n",
            "\n",
            "Sentence 21460\n",
            " Ну, красавчик не красавчик,   заметил Василий Иванович,   а мужчина, как говорится: оммфе настоящий мужчина (от франц. homme fait).. А теперь, я надеюсь, Арина Власьевна, что, насытив свое материнское сердце, ты позаботишься о насыщении своих дорогих гостей, потому что, тебе известно, соловья баснями кормить не следует.\n",
            "\n",
            "Sentence 21972\n",
            " В secretaire играете?\n",
            "\n",
            "Sentence 21466\n",
            " Несмотря на его уверения в противном, она была твердо уверена, что он такой же и еще лучше христианин, чем она, и что все то, что он говорит об этом, есть одна из его смешных мужских выходок, как то, что он говорил про broderie anglaise: будто добрые люди штопают дыры, а она их нарочно вырезывает, и т. п.      Да, вот эта женщина, Марья Николаевна, не умела устроить всего этого,   сказал Левин.\n",
            "\n",
            "Sentence 8159\n",
            " Сверх того, она беспрестанно приставала: \"Parlez donc français\" [Говорите же по-французски], а тут-то, как назло так и хочется болтать по-русски; или за обедом   только что войдешь во вкус какого-нибудь кушанья и желаешь, чтобы никто не мешал, уж она непременно: \"Mangez donc avec du pain\" или \"Comment се que vous tenez votre fourchette?\"\n",
            "\n",
            "Sentence 22497\n",
            " C'est de la meme famille.\n",
            "\n",
            "Sentence 2531\n",
            " Es commt drauf an... Der Preis vom Draht muss ausgerechnet werden.\n",
            "\n",
            "Sentence 6628\n",
            " И так жалко станет, что, бывало, подойдешь к нему, возьмешь за руку и скажешь: \"Lieber [Милый] Карл Иваныч!\"\n",
            "\n",
            "Sentence 6118\n",
            " я не сомневаюсь в том, что мы решились истреблять друг друга; но почему же не посмеяться и не соединить utile dulci?\n",
            "\n",
            "Sentence 9702\n",
            " Maman хотела зайти к Петровым.\n",
            "\n",
            "Sentence 20970\n",
            " Нельзя было сказать, чтоб она с ним кокетничала; но поэт, заметя ее поведение, сказал бы:       Se amor non и, che dunque?..\n",
            "\n",
            "Sentence 21486\n",
            " Bene Хорошо (лат.).. Мне нравится в ней то, что она не слишком конфузится?\n",
            "\n",
            "Sentence 16370\n",
            " Он прямо после чая мне сказал: je crois que Весловский fait un petit brin de cour a Кити.\n",
            "\n",
            "Sentence 8179\n",
            " Неправильное употребление условного наклонения., \"absolument\" безусловно (франц.).\n",
            "\n",
            "Sentence 15347\n",
            " Столько есть женщин, которые из этого делают position sociale.\n",
            "\n",
            "Sentence 17399\n",
            " Она слышала его шаги и голос и ждала за дверью, пока уйдет mademoiselle Linon.\n",
            "\n",
            "Sentence 7670\n",
            " Он, в течение первого года своего управления, успел перессориться не только с губернским предводителем, отставным гвардии штабc-ротмистром, конным заводчиком и хлебосолом, но и с собственными чиновниками.\n",
            "\n",
            "Sentence 8694\n",
            " Он встретил ее на лестнице квартиры, в которой он жил, и, нечаянно толкнув ее, обернулся, хотел извиниться и только мог пробормотать: \"Pardon, monsieur\" Извините, сударь (франц.).,   а она наклонила голову, усмехнулась и вдруг как будто испугалась и побежала, а на повороте лестницы быстро взглянула на него, приняла серьезный вид и покраснела.\n",
            "\n",
            "Sentence 18932\n",
            " Совершив предварительно европейское \"shake hands\" рукопожатие (англ.)., он три раза, по-русски, поцеловался с ним, то есть три раза прикоснулся своими душистыми усами до его щек, и проговорил: \"Добро пожаловать\".\n",
            "\n",
            "Sentence 9723\n",
            " Итак, это дело решенное: Фенечка будет моею... belle-soeur свояченицей (франц.)..      Дорогой мой Павел!\n",
            "\n",
            "Sentence 10748\n",
            " Но напрасно она за меня боялась: я смело сделал chassé en avant, chassé en arrière, glissade [шассэ-ан-аван, шассэ-ан-арьер, глисад   фигуры в танце] и, в то время как подходил к ней, игривым движением показал ей перчатку с двумя торчавшими пальцами.\n",
            "\n",
            "Sentence 10237\n",
            " Здесь, здесь, пожалуйте за мной, вертестер герр коллега уважаемый коллега (от нем. wertester Herr Collega).\n",
            "\n",
            "Sentence 6143\n",
            " спросила maman, взяв ее за руку.\n",
            "\n"
          ],
          "name": "stdout"
        }
      ]
    },
    {
      "cell_type": "markdown",
      "metadata": {
        "id": "562DFnjdXB7U",
        "colab_type": "text"
      },
      "source": [
        "#### Statistic by authors"
      ]
    },
    {
      "cell_type": "code",
      "metadata": {
        "id": "j9K0I9k-XHD0",
        "colab_type": "code",
        "outputId": "e630c2ec-88a3-4139-9fa7-eb12360bdd1c",
        "colab": {
          "base_uri": "https://localhost:8080/",
          "height": 737
        }
      },
      "source": [
        "# Word_count in a sentence by author\n",
        "f, axes = plt.subplots(3, 2, figsize=(9, 12), sharex=True)\n",
        "sns.distplot( df[df[\"author\"]=='Chehov']['word_count'] , color=\"skyblue\", ax=axes[0, 0])\n",
        "sns.distplot( df[df[\"author\"]=='Gogol']['word_count'] , color=\"olive\", ax=axes[0, 1])\n",
        "sns.distplot( df[df[\"author\"]=='Pushkin']['word_count'] , color=\"gold\", ax=axes[1, 0])\n",
        "sns.distplot( df[df[\"author\"]=='Tolstoy']['word_count'] , color=\"teal\", ax=axes[1, 1])\n",
        "sns.distplot( df[df[\"author\"]=='Turgenev']['word_count'] , color=\"r\", ax=axes[2, 0])"
      ],
      "execution_count": 0,
      "outputs": [
        {
          "output_type": "execute_result",
          "data": {
            "text/plain": [
              "<matplotlib.axes._subplots.AxesSubplot at 0x7fc1fc027908>"
            ]
          },
          "metadata": {
            "tags": []
          },
          "execution_count": 116
        },
        {
          "output_type": "display_data",
          "data": {
            "image/png": "[encoded data removed]",
            "text/plain": [
              "<Figure size 648x864 with 6 Axes>"
            ]
          },
          "metadata": {
            "tags": []
          }
        }
      ]
    },
    {
      "cell_type": "code",
      "metadata": {
        "id": "5oSAQvfgZhvK",
        "colab_type": "code",
        "outputId": "b7e0e38a-d218-430a-c4b2-ff836ea15b43",
        "colab": {
          "base_uri": "https://localhost:8080/",
          "height": 737
        }
      },
      "source": [
        "# Char_count in a sentence by author\n",
        "f, axes = plt.subplots(3, 2, figsize=(9, 12), sharex=True)\n",
        "sns.distplot( df[df[\"author\"]=='Chehov']['Char_count'] , color=\"skyblue\", ax=axes[0, 0], label='Chehov')\n",
        "sns.distplot( df[df[\"author\"]=='Gogol']['Char_count'] , color=\"olive\", ax=axes[0, 1], label = 'Gogol')\n",
        "sns.distplot( df[df[\"author\"]=='Pushkin']['Char_count'] , color=\"gold\", ax=axes[1, 0], label = 'Pushkin')\n",
        "sns.distplot( df[df[\"author\"]=='Tolstoy']['Char_count'] , color=\"teal\", ax=axes[1, 1], label = 'Tolstoy')\n",
        "sns.distplot( df[df[\"author\"]=='Turgenev']['Char_count'] , color=\"r\", ax=axes[2, 0], label = 'Turgenev')"
      ],
      "execution_count": 0,
      "outputs": [
        {
          "output_type": "execute_result",
          "data": {
            "text/plain": [
              "<matplotlib.axes._subplots.AxesSubplot at 0x7fc1f84ece48>"
            ]
          },
          "metadata": {
            "tags": []
          },
          "execution_count": 120
        },
        {
          "output_type": "display_data",
          "data": {
            "image/png": "[encoded data removed]",
            "text/plain": [
              "<Figure size 648x864 with 6 Axes>"
            ]
          },
          "metadata": {
            "tags": []
          }
        }
      ]
    },
    {
      "cell_type": "code",
      "metadata": {
        "id": "NNP4zxnyapbw",
        "colab_type": "code",
        "outputId": "70a761c5-c81d-41db-f24a-0ca631cdf74e",
        "colab": {
          "base_uri": "https://localhost:8080/",
          "height": 737
        }
      },
      "source": [
        "W# Average word length in a sentence by author\n",
        "f, axes = plt.subplots(3, 2, figsize=(9, 12), sharex=True)\n",
        "sns.distplot( df[df[\"author\"]=='Chehov']['av_length'] , color=\"skyblue\", ax=axes[0, 0])\n",
        "sns.distplot( df[df[\"author\"]=='Gogol']['av_length'] , color=\"olive\", ax=axes[0, 1])\n",
        "sns.distplot( df[df[\"author\"]=='Pushkin']['av_length'] , color=\"gold\", ax=axes[1, 0])\n",
        "sns.distplot( df[df[\"author\"]=='Tolstoy']['av_length'] , color=\"teal\", ax=axes[1, 1])\n",
        "sns.distplot( df[df[\"author\"]=='Turgenev']['av_length'] , color=\"r\", ax=axes[2, 0])"
      ],
      "execution_count": 0,
      "outputs": [
        {
          "output_type": "execute_result",
          "data": {
            "text/plain": [
              "<matplotlib.axes._subplots.AxesSubplot at 0x7fc1f8de6828>"
            ]
          },
          "metadata": {
            "tags": []
          },
          "execution_count": 118
        },
        {
          "output_type": "display_data",
          "data": {
            "image/png": "[encoded data removed]",
            "text/plain": [
              "<Figure size 648x864 with 6 Axes>"
            ]
          },
          "metadata": {
            "tags": []
          }
        }
      ]
    },
    {
      "cell_type": "markdown",
      "metadata": {
        "id": "bvV3ZtFHiQRc",
        "colab_type": "text"
      },
      "source": [
        "We don`t see significant difference in distribution, therefore we think that exctracting features from ordinary sentences is not a good idea here. Because sentences don`t have a stable unique structure in any case."
      ]
    },
    {
      "cell_type": "markdown",
      "metadata": {
        "id": "iqgZx5EcqQlb",
        "colab_type": "text"
      },
      "source": [
        "### Sentence normalization"
      ]
    },
    {
      "cell_type": "code",
      "metadata": {
        "id": "Are7dYtGnT6P",
        "colab_type": "code",
        "outputId": "146c2a80-c81d-4f85-af23-7ca0726caa79",
        "colab": {
          "base_uri": "https://localhost:8080/",
          "height": 72
        }
      },
      "source": [
        "\n",
        "# Delete all punctuation signs and lowercase all words\n",
        "normed_sent = []\n",
        "\n",
        "for i in range(len(sent)):\n",
        "    s = sent[i].lower()\n",
        "    s = s.translate(str.maketrans('','', string.punctuation))\n",
        "    s = s.replace('“', '').replace('”', '')\n",
        "    normed_sent.append(s)\n",
        "    \n",
        "print(normed_sent[0:3])    \n",
        "print(\"Number of sentences: \", len(normed_sent))"
      ],
      "execution_count": 0,
      "outputs": [
        {
          "output_type": "stream",
          "text": [
            "[' а живет он второе лето в этом вонючем городишке потому что лучше быть первым в деревне чем в городе вторым', ' вдруг она услыхала ровный и спокойный носовой свист', ' послушайте матушка']\n",
            "Number of sentences:  22500\n"
          ],
          "name": "stdout"
        }
      ]
    },
    {
      "cell_type": "markdown",
      "metadata": {
        "id": "ugZrzJ06ry3n",
        "colab_type": "text"
      },
      "source": [
        "### Spritting dataset on test and train "
      ]
    },
    {
      "cell_type": "code",
      "metadata": {
        "id": "OWnjNzSbqt1z",
        "colab_type": "code",
        "colab": {}
      },
      "source": [
        "sent_train, sent_test, authors_train, authors_test = train_test_split(normed_sent, authors, test_size = 0.2, random_state = 7)"
      ],
      "execution_count": 0,
      "outputs": []
    },
    {
      "cell_type": "code",
      "metadata": {
        "id": "EKAKB8ozsWDh",
        "colab_type": "code",
        "outputId": "ad2e9f48-2f56-4d06-ab1b-316c58f16749",
        "colab": {
          "base_uri": "https://localhost:8080/",
          "height": 97
        }
      },
      "source": [
        "pd.DataFrame({\n",
        "    'Number of samples in train sentences data: ': np.shape(sent_train),\n",
        "    'Number of samples in test sentences data': np.shape(sent_test),\n",
        "    'Number of samples in train authors data': np.shape(authors_train),\n",
        "    'Number of samples in test authors data': np.shape(authors_test)\n",
        "})\n"
      ],
      "execution_count": 0,
      "outputs": [
        {
          "output_type": "execute_result",
          "data": {
            "text/html": [
              "<div>\n",
              "<style scoped>\n",
              "    .dataframe tbody tr th:only-of-type {\n",
              "        vertical-align: middle;\n",
              "    }\n",
              "\n",
              "    .dataframe tbody tr th {\n",
              "        vertical-align: top;\n",
              "    }\n",
              "\n",
              "    .dataframe thead th {\n",
              "        text-align: right;\n",
              "    }\n",
              "</style>\n",
              "<table border=\"1\" class=\"dataframe\">\n",
              "  <thead>\n",
              "    <tr style=\"text-align: right;\">\n",
              "      <th></th>\n",
              "      <th>Number of samples in train sentences data:</th>\n",
              "      <th>Number of samples in test sentences data</th>\n",
              "      <th>Number of samples in train authors data</th>\n",
              "      <th>Number of samples in test authors data</th>\n",
              "    </tr>\n",
              "  </thead>\n",
              "  <tbody>\n",
              "    <tr>\n",
              "      <th>0</th>\n",
              "      <td>18000</td>\n",
              "      <td>4500</td>\n",
              "      <td>18000</td>\n",
              "      <td>4500</td>\n",
              "    </tr>\n",
              "  </tbody>\n",
              "</table>\n",
              "</div>"
            ],
            "text/plain": [
              "   Number of samples in train sentences data:   ...  Number of samples in test authors data\n",
              "0                                        18000  ...                                    4500\n",
              "\n",
              "[1 rows x 4 columns]"
            ]
          },
          "metadata": {
            "tags": []
          },
          "execution_count": 24
        }
      ]
    },
    {
      "cell_type": "markdown",
      "metadata": {
        "id": "qJledKpSziTu",
        "colab_type": "text"
      },
      "source": [
        "### Stemming and stopwords exclusion (most common words which do not characterize texts)\n"
      ]
    },
    {
      "cell_type": "code",
      "metadata": {
        "id": "7Qh5ZsVJsafF",
        "colab_type": "code",
        "colab": {}
      },
      "source": [
        "# Russian stopwords\n",
        "rus_stopwords = stopwords.words(\"russian\")\n",
        "\n",
        "# Lemmatizator\n",
        "morph = pymorphy2.MorphAnalyzer()"
      ],
      "execution_count": 0,
      "outputs": []
    },
    {
      "cell_type": "code",
      "metadata": {
        "id": "K544tmKA3Wao",
        "colab_type": "code",
        "colab": {}
      },
      "source": [
        "def preprocess_text(text):\n",
        "    \n",
        "    processed = []\n",
        "    \n",
        "    for sent in text:\n",
        "        \n",
        "        processed_sent = []\n",
        "       \n",
        "        new = tok.tokenize(sent.lower())\n",
        "        \n",
        "        for w in new:\n",
        "            if not w in rus_stopwords:\n",
        "                # Lemmatization\n",
        "                processed_sent.append(morph.parse(w)[0].normal_form) \n",
        "                \n",
        "        processed_sent = \" \".join(processed_sent)\n",
        "        \n",
        "        processed.append(processed_sent)\n",
        "              \n",
        "    return processed"
      ],
      "execution_count": 0,
      "outputs": []
    },
    {
      "cell_type": "code",
      "metadata": {
        "id": "pxVfLGyf6Xi-",
        "colab_type": "code",
        "outputId": "2681bc0d-0de4-4091-dcd1-6a11bceb47ac",
        "colab": {
          "base_uri": "https://localhost:8080/",
          "height": 55
        }
      },
      "source": [
        "# Preprocess train and test data\n",
        "processed_train = preprocess_text(sent_train)\n",
        "processed_test = preprocess_text(sent_test)\n",
        "\n",
        "print(processed_train[0:5])"
      ],
      "execution_count": 0,
      "outputs": [
        {
          "output_type": "stream",
          "text": [
            "['подумать анна вспоминать взгляд вронский алексей александр', 'следовать примкнуть манилов', 'такой случай он пойти евгений василья познакомить ваш они ситниковый кирсан проворчать останавливаться базар', 'видеть славянофил', 'чтоть хотеть выразить заметить несколько зарапортоваться ковырнуть рука воздух продолжать деревня уединение иметь очень приятность']\n"
          ],
          "name": "stdout"
        }
      ]
    },
    {
      "cell_type": "markdown",
      "metadata": {
        "id": "QUsXOjiSHKhQ",
        "colab_type": "text"
      },
      "source": [
        "### Creation of features-objects matrix\n"
      ]
    },
    {
      "cell_type": "markdown",
      "metadata": {
        "id": "Tz8WYw3zHmqK",
        "colab_type": "text"
      },
      "source": [
        "\n",
        "* We use here the \"Bag of Words\" model which take into account only number of particular words in each sentence\n",
        "\n",
        "* Also we use TF-IDF measure to increase \"weight\" of words which mostly characterize for particular authors"
      ]
    },
    {
      "cell_type": "code",
      "metadata": {
        "id": "nCY6qu0UIn2l",
        "colab_type": "code",
        "colab": {}
      },
      "source": [
        "# Parameters for TF-IDF,  min df = 6 (min document frequency - if a word\n",
        "# occures more that 5 times we do not increase its weight)\n",
        "vectorizer = TfidfVectorizer(min_df = 6) \n",
        "                             \n",
        "vectorizer.fit(processed_train)\n",
        "\n",
        "# Creation of feature-object matrix\n",
        "words_train = vectorizer.transform(processed_train)\n",
        "words_test = vectorizer.transform(processed_test)"
      ],
      "execution_count": 0,
      "outputs": []
    },
    {
      "cell_type": "markdown",
      "metadata": {
        "id": "mJcHi6CTLKKr",
        "colab_type": "text"
      },
      "source": [
        "###  Classification\n",
        "\n",
        "\n"
      ]
    },
    {
      "cell_type": "markdown",
      "metadata": {
        "id": "epNWF84YLt6O",
        "colab_type": "text"
      },
      "source": [
        "#### First we try SVM model"
      ]
    },
    {
      "cell_type": "code",
      "metadata": {
        "id": "Rs_w68avK5Ul",
        "colab_type": "code",
        "colab": {}
      },
      "source": [
        "svm = SVC()\n",
        "params = {'kernel': ['linear', 'poly'], 'C':[1, 10, 100]}\n",
        "scorer = make_scorer(accuracy_score)\n",
        "\n",
        "grid_obj = GridSearchCV(svm, params, scoring = scorer, verbose = 50)"
      ],
      "execution_count": 0,
      "outputs": []
    },
    {
      "cell_type": "code",
      "metadata": {
        "id": "lhdMvpvUMIRS",
        "colab_type": "code",
        "outputId": "9f566e53-6670-40d3-9d8e-8ddfdfedb5b5",
        "colab": {
          "base_uri": "https://localhost:8080/",
          "height": 1372
        }
      },
      "source": [
        "np.random.seed(42)\n",
        "word_svm = grid_obj.fit(words_train, authors_train)"
      ],
      "execution_count": 0,
      "outputs": [
        {
          "output_type": "stream",
          "text": [
            "/usr/local/lib/python3.6/dist-packages/sklearn/model_selection/_split.py:1978: FutureWarning: The default value of cv will change from 3 to 5 in version 0.22. Specify it explicitly to silence this warning.\n",
            "  warnings.warn(CV_WARNING, FutureWarning)\n"
          ],
          "name": "stderr"
        },
        {
          "output_type": "stream",
          "text": [
            "Fitting 3 folds for each of 6 candidates, totalling 18 fits\n",
            "[Parallel(n_jobs=1)]: Using backend SequentialBackend with 1 concurrent workers.\n",
            "[CV] C=1, kernel=linear ..............................................\n",
            "[CV] .................. C=1, kernel=linear, score=0.624, total=  17.2s\n",
            "[Parallel(n_jobs=1)]: Done   1 out of   1 | elapsed:   17.2s remaining:    0.0s\n",
            "[CV] C=1, kernel=linear ..............................................\n",
            "[CV] .................. C=1, kernel=linear, score=0.616, total=  17.2s\n",
            "[Parallel(n_jobs=1)]: Done   2 out of   2 | elapsed:   34.4s remaining:    0.0s\n",
            "[CV] C=1, kernel=linear ..............................................\n",
            "[CV] .................. C=1, kernel=linear, score=0.624, total=  17.3s\n",
            "[Parallel(n_jobs=1)]: Done   3 out of   3 | elapsed:   51.7s remaining:    0.0s\n",
            "[CV] C=1, kernel=poly ................................................\n"
          ],
          "name": "stdout"
        },
        {
          "output_type": "stream",
          "text": [
            "/usr/local/lib/python3.6/dist-packages/sklearn/svm/base.py:193: FutureWarning: The default value of gamma will change from 'auto' to 'scale' in version 0.22 to account better for unscaled features. Set gamma explicitly to 'auto' or 'scale' to avoid this warning.\n",
            "  \"avoid this warning.\", FutureWarning)\n"
          ],
          "name": "stderr"
        },
        {
          "output_type": "stream",
          "text": [
            "[CV] .................... C=1, kernel=poly, score=0.201, total=  23.9s\n",
            "[Parallel(n_jobs=1)]: Done   4 out of   4 | elapsed:  1.3min remaining:    0.0s\n",
            "[CV] C=1, kernel=poly ................................................\n"
          ],
          "name": "stdout"
        },
        {
          "output_type": "stream",
          "text": [
            "/usr/local/lib/python3.6/dist-packages/sklearn/svm/base.py:193: FutureWarning: The default value of gamma will change from 'auto' to 'scale' in version 0.22 to account better for unscaled features. Set gamma explicitly to 'auto' or 'scale' to avoid this warning.\n",
            "  \"avoid this warning.\", FutureWarning)\n"
          ],
          "name": "stderr"
        },
        {
          "output_type": "stream",
          "text": [
            "[CV] .................... C=1, kernel=poly, score=0.201, total=  23.7s\n",
            "[Parallel(n_jobs=1)]: Done   5 out of   5 | elapsed:  1.7min remaining:    0.0s\n",
            "[CV] C=1, kernel=poly ................................................\n"
          ],
          "name": "stdout"
        },
        {
          "output_type": "stream",
          "text": [
            "/usr/local/lib/python3.6/dist-packages/sklearn/svm/base.py:193: FutureWarning: The default value of gamma will change from 'auto' to 'scale' in version 0.22 to account better for unscaled features. Set gamma explicitly to 'auto' or 'scale' to avoid this warning.\n",
            "  \"avoid this warning.\", FutureWarning)\n"
          ],
          "name": "stderr"
        },
        {
          "output_type": "stream",
          "text": [
            "[CV] .................... C=1, kernel=poly, score=0.201, total=  23.7s\n",
            "[Parallel(n_jobs=1)]: Done   6 out of   6 | elapsed:  2.1min remaining:    0.0s\n",
            "[CV] C=10, kernel=linear .............................................\n",
            "[CV] ................. C=10, kernel=linear, score=0.579, total=  20.1s\n",
            "[Parallel(n_jobs=1)]: Done   7 out of   7 | elapsed:  2.4min remaining:    0.0s\n",
            "[CV] C=10, kernel=linear .............................................\n",
            "[CV] ................. C=10, kernel=linear, score=0.582, total=  20.0s\n",
            "[Parallel(n_jobs=1)]: Done   8 out of   8 | elapsed:  2.7min remaining:    0.0s\n",
            "[CV] C=10, kernel=linear .............................................\n",
            "[CV] ................. C=10, kernel=linear, score=0.581, total=  19.9s\n",
            "[Parallel(n_jobs=1)]: Done   9 out of   9 | elapsed:  3.0min remaining:    0.0s\n",
            "[CV] C=10, kernel=poly ...............................................\n"
          ],
          "name": "stdout"
        },
        {
          "output_type": "stream",
          "text": [
            "/usr/local/lib/python3.6/dist-packages/sklearn/svm/base.py:193: FutureWarning: The default value of gamma will change from 'auto' to 'scale' in version 0.22 to account better for unscaled features. Set gamma explicitly to 'auto' or 'scale' to avoid this warning.\n",
            "  \"avoid this warning.\", FutureWarning)\n"
          ],
          "name": "stderr"
        },
        {
          "output_type": "stream",
          "text": [
            "[CV] ................... C=10, kernel=poly, score=0.201, total=  23.9s\n",
            "[Parallel(n_jobs=1)]: Done  10 out of  10 | elapsed:  3.4min remaining:    0.0s\n",
            "[CV] C=10, kernel=poly ...............................................\n"
          ],
          "name": "stdout"
        },
        {
          "output_type": "stream",
          "text": [
            "/usr/local/lib/python3.6/dist-packages/sklearn/svm/base.py:193: FutureWarning: The default value of gamma will change from 'auto' to 'scale' in version 0.22 to account better for unscaled features. Set gamma explicitly to 'auto' or 'scale' to avoid this warning.\n",
            "  \"avoid this warning.\", FutureWarning)\n"
          ],
          "name": "stderr"
        },
        {
          "output_type": "stream",
          "text": [
            "[CV] ................... C=10, kernel=poly, score=0.201, total=  23.8s\n",
            "[Parallel(n_jobs=1)]: Done  11 out of  11 | elapsed:  3.8min remaining:    0.0s\n",
            "[CV] C=10, kernel=poly ...............................................\n"
          ],
          "name": "stdout"
        },
        {
          "output_type": "stream",
          "text": [
            "/usr/local/lib/python3.6/dist-packages/sklearn/svm/base.py:193: FutureWarning: The default value of gamma will change from 'auto' to 'scale' in version 0.22 to account better for unscaled features. Set gamma explicitly to 'auto' or 'scale' to avoid this warning.\n",
            "  \"avoid this warning.\", FutureWarning)\n"
          ],
          "name": "stderr"
        },
        {
          "output_type": "stream",
          "text": [
            "[CV] ................... C=10, kernel=poly, score=0.201, total=  24.2s\n",
            "[Parallel(n_jobs=1)]: Done  12 out of  12 | elapsed:  4.2min remaining:    0.0s\n",
            "[CV] C=100, kernel=linear ............................................\n",
            "[CV] ................ C=100, kernel=linear, score=0.549, total=  30.3s\n",
            "[Parallel(n_jobs=1)]: Done  13 out of  13 | elapsed:  4.8min remaining:    0.0s\n",
            "[CV] C=100, kernel=linear ............................................\n",
            "[CV] ................ C=100, kernel=linear, score=0.541, total=  29.9s\n",
            "[Parallel(n_jobs=1)]: Done  14 out of  14 | elapsed:  5.2min remaining:    0.0s\n",
            "[CV] C=100, kernel=linear ............................................\n",
            "[CV] ................ C=100, kernel=linear, score=0.554, total=  31.4s\n",
            "[Parallel(n_jobs=1)]: Done  15 out of  15 | elapsed:  5.8min remaining:    0.0s\n",
            "[CV] C=100, kernel=poly ..............................................\n"
          ],
          "name": "stdout"
        },
        {
          "output_type": "stream",
          "text": [
            "/usr/local/lib/python3.6/dist-packages/sklearn/svm/base.py:193: FutureWarning: The default value of gamma will change from 'auto' to 'scale' in version 0.22 to account better for unscaled features. Set gamma explicitly to 'auto' or 'scale' to avoid this warning.\n",
            "  \"avoid this warning.\", FutureWarning)\n"
          ],
          "name": "stderr"
        },
        {
          "output_type": "stream",
          "text": [
            "[CV] .................. C=100, kernel=poly, score=0.201, total=  24.1s\n",
            "[Parallel(n_jobs=1)]: Done  16 out of  16 | elapsed:  6.2min remaining:    0.0s\n",
            "[CV] C=100, kernel=poly ..............................................\n"
          ],
          "name": "stdout"
        },
        {
          "output_type": "stream",
          "text": [
            "/usr/local/lib/python3.6/dist-packages/sklearn/svm/base.py:193: FutureWarning: The default value of gamma will change from 'auto' to 'scale' in version 0.22 to account better for unscaled features. Set gamma explicitly to 'auto' or 'scale' to avoid this warning.\n",
            "  \"avoid this warning.\", FutureWarning)\n"
          ],
          "name": "stderr"
        },
        {
          "output_type": "stream",
          "text": [
            "[CV] .................. C=100, kernel=poly, score=0.201, total=  24.0s\n",
            "[Parallel(n_jobs=1)]: Done  17 out of  17 | elapsed:  6.6min remaining:    0.0s\n",
            "[CV] C=100, kernel=poly ..............................................\n"
          ],
          "name": "stdout"
        },
        {
          "output_type": "stream",
          "text": [
            "/usr/local/lib/python3.6/dist-packages/sklearn/svm/base.py:193: FutureWarning: The default value of gamma will change from 'auto' to 'scale' in version 0.22 to account better for unscaled features. Set gamma explicitly to 'auto' or 'scale' to avoid this warning.\n",
            "  \"avoid this warning.\", FutureWarning)\n"
          ],
          "name": "stderr"
        },
        {
          "output_type": "stream",
          "text": [
            "[CV] .................. C=100, kernel=poly, score=0.201, total=  24.1s\n",
            "[Parallel(n_jobs=1)]: Done  18 out of  18 | elapsed:  7.0min remaining:    0.0s\n",
            "[Parallel(n_jobs=1)]: Done  18 out of  18 | elapsed:  7.0min finished\n"
          ],
          "name": "stdout"
        }
      ]
    },
    {
      "cell_type": "markdown",
      "metadata": {
        "id": "7x_up_i-R7f9",
        "colab_type": "text"
      },
      "source": [
        "Best parameters: C=1, kernel = 'linear'"
      ]
    },
    {
      "cell_type": "code",
      "metadata": {
        "id": "sNN22X8_NJWM",
        "colab_type": "code",
        "outputId": "98a2b45e-61f5-46c4-9832-f55f78f41506",
        "colab": {
          "base_uri": "https://localhost:8080/",
          "height": 87
        }
      },
      "source": [
        "print(word_svm.best_estimator_)"
      ],
      "execution_count": 0,
      "outputs": [
        {
          "output_type": "stream",
          "text": [
            "SVC(C=1, cache_size=200, class_weight=None, coef0=0.0,\n",
            "    decision_function_shape='ovr', degree=3, gamma='auto_deprecated',\n",
            "    kernel='linear', max_iter=-1, probability=False, random_state=None,\n",
            "    shrinking=True, tol=0.001, verbose=False)\n"
          ],
          "name": "stdout"
        }
      ]
    },
    {
      "cell_type": "code",
      "metadata": {
        "id": "6LfbabKUobYD",
        "colab_type": "code",
        "outputId": "94c97508-e075-424d-8748-5035fe98540c",
        "colab": {
          "base_uri": "https://localhost:8080/",
          "height": 35
        }
      },
      "source": [
        "print('SVM gets best %s: %f with parameters: %s' % (str(scorer), word_svm.best_score_, str(word_svm.best_params_)))"
      ],
      "execution_count": 0,
      "outputs": [
        {
          "output_type": "stream",
          "text": [
            "SVM gets best make_scorer(accuracy_score): 0.621333 with parameters: {'C': 1, 'kernel': 'linear'}\n"
          ],
          "name": "stdout"
        }
      ]
    },
    {
      "cell_type": "markdown",
      "metadata": {
        "id": "hPpm0ObjpL5d",
        "colab_type": "text"
      },
      "source": [
        "#### Naive Bayes"
      ]
    },
    {
      "cell_type": "code",
      "metadata": {
        "id": "eZwzHHyTlltX",
        "colab_type": "code",
        "outputId": "9bb9d815-6f43-451a-dbc0-6f8c71c3c440",
        "colab": {
          "base_uri": "https://localhost:8080/",
          "height": 87
        }
      },
      "source": [
        "# Naive Bayes\n",
        "clf_params = {'alpha': np.linspace(0,1,10)}\n",
        "             \n",
        "clf = MultinomialNB()\n",
        "\n",
        "# set scorer\n",
        "scorer_ = make_scorer(accuracy_score)\n",
        "\n",
        "# set CV parameters\n",
        "cv = 5\n",
        "\n",
        "# set GridSearch parameters\n",
        "grcv = GridSearchCV(estimator=clf, \n",
        "                    param_grid=clf_params, \n",
        "                    scoring=scorer_, \n",
        "                    cv=cv, \n",
        "                    return_train_score=True, \n",
        "                    n_jobs=8, \n",
        "                    verbose=1)\n",
        "\n",
        "# set Pipeline parameters\n",
        "pipeline = Pipeline(steps=[('parameters tuning', grcv)])\n",
        "\n",
        "# launch pipeline with scaling followed by cross-validation with parameters tuning\n",
        "_ = pipeline.fit(words_train, authors_train)"
      ],
      "execution_count": 0,
      "outputs": [
        {
          "output_type": "stream",
          "text": [
            "Fitting 5 folds for each of 10 candidates, totalling 50 fits\n"
          ],
          "name": "stdout"
        },
        {
          "output_type": "stream",
          "text": [
            "[Parallel(n_jobs=8)]: Using backend LokyBackend with 8 concurrent workers.\n",
            "[Parallel(n_jobs=8)]: Done  34 tasks      | elapsed:    7.7s\n",
            "[Parallel(n_jobs=8)]: Done  50 out of  50 | elapsed:    8.6s finished\n"
          ],
          "name": "stderr"
        }
      ]
    },
    {
      "cell_type": "code",
      "metadata": {
        "id": "sv0maLxToJjx",
        "colab_type": "code",
        "outputId": "7c0f10b4-083c-4140-afe7-c1b5501b63c5",
        "colab": {
          "base_uri": "https://localhost:8080/",
          "height": 35
        }
      },
      "source": [
        "print('NB classifier gets best %s: %f with parameters: %s' % (str(scorer_), grcv.best_score_, str(grcv.best_params_)))"
      ],
      "execution_count": 0,
      "outputs": [
        {
          "output_type": "stream",
          "text": [
            "NB classifier gets best make_scorer(accuracy_score): 0.657778 with parameters: {'alpha': 0.4444444444444444}\n"
          ],
          "name": "stdout"
        }
      ]
    },
    {
      "cell_type": "markdown",
      "metadata": {
        "id": "5HbN_liAPzUx",
        "colab_type": "text"
      },
      "source": [
        "### Classification efficency evaluation"
      ]
    },
    {
      "cell_type": "markdown",
      "metadata": {
        "id": "TCfCoVCzxpdD",
        "colab_type": "text"
      },
      "source": [
        "\n",
        "#### Bag of words, SVM\n",
        "\n"
      ]
    },
    {
      "cell_type": "code",
      "metadata": {
        "id": "NIDijQVXP7Mo",
        "colab_type": "code",
        "outputId": "11063ad1-c72d-4ffd-dd4c-0ac8d11ce8cf",
        "colab": {
          "base_uri": "https://localhost:8080/",
          "height": 607
        }
      },
      "source": [
        "#(Bag of words SVM)\n",
        "np.random.seed(89)\n",
        "\n",
        "\n",
        "model = SVC(C = 1, kernel = 'linear',probability=True)\n",
        "model.fit(words_train, authors_train)\n",
        "\n",
        "\n",
        "\n",
        "authors_pred = model.predict(words_test)\n",
        "authors_pred_proba = model.predict_proba(words_test)\n",
        "\n",
        "\n",
        "accuracy = accuracy_score(authors_test, authors_pred)\n",
        "precision, recall, f1, support = score(authors_test, authors_pred)\n",
        "av_precision = np.average(precision, weights = support/np.sum(support))\n",
        "av_recall = np.average(recall, weights = support/np.sum(support))\n",
        "av_f1 = np.average(f1, weights = support/np.sum(support))\n",
        "\n",
        "print(\"Accuracy:\", accuracy)\n",
        "print(\"Average Precision:\", av_precision)\n",
        "print(\"Average Recall:\", av_recall)\n",
        "print(\"Average F1 Score:\", av_f1)\n",
        "print()\n",
        "print(classification_report(authors_test, authors_pred))\n",
        "print()\n",
        "#ROC-AUC\n",
        "skplt.metrics.plot_roc(authors_test, authors_pred_proba)\n",
        "plt.show()"
      ],
      "execution_count": 0,
      "outputs": [
        {
          "output_type": "stream",
          "text": [
            "Accuracy: 0.6393333333333333\n",
            "Average Precision: 0.6408093871636071\n",
            "Average Recall: 0.6393333333333332\n",
            "Average F1 Score: 0.6388723856112284\n",
            "\n",
            "              precision    recall  f1-score   support\n",
            "\n",
            "      Chehov       0.62      0.67      0.64       877\n",
            "       Gogol       0.66      0.66      0.66       897\n",
            "     Pushkin       0.62      0.67      0.64       883\n",
            "     Tolstoy       0.64      0.63      0.63       913\n",
            "    Turgenev       0.67      0.57      0.62       930\n",
            "\n",
            "    accuracy                           0.64      4500\n",
            "   macro avg       0.64      0.64      0.64      4500\n",
            "weighted avg       0.64      0.64      0.64      4500\n",
            "\n",
            "\n"
          ],
          "name": "stdout"
        },
        {
          "output_type": "display_data",
          "data": {
            "image/png": "[encoded data removed]",
            "text/plain": [
              "<Figure size 432x288 with 1 Axes>"
            ]
          },
          "metadata": {
            "tags": []
          }
        }
      ]
    },
    {
      "cell_type": "markdown",
      "metadata": {
        "id": "BHqnDeII1_Zq",
        "colab_type": "text"
      },
      "source": [
        "#### Bag of words, Naive Bayes"
      ]
    },
    {
      "cell_type": "code",
      "metadata": {
        "id": "L1QrJ60zSPIK",
        "colab_type": "code",
        "outputId": "bce1b41a-683f-4add-e744-f60d45416d8a",
        "colab": {
          "base_uri": "https://localhost:8080/",
          "height": 607
        }
      },
      "source": [
        "#(Bag of words NB)\n",
        "np.random.seed(89)\n",
        "\n",
        "model = MultinomialNB(alpha = 0.4444444444444444)\n",
        "model.fit(words_train, authors_train)\n",
        "\n",
        "\n",
        "authors_pred = model.predict(words_test)\n",
        "authors_pred_proba = model.predict_proba(words_test)\n",
        "\n",
        "\n",
        "accuracy = accuracy_score(authors_test, authors_pred)\n",
        "precision, recall, f1, support = score(authors_test, authors_pred)\n",
        "av_precision = np.average(precision, weights = support/np.sum(support))\n",
        "av_recall = np.average(recall, weights = support/np.sum(support))\n",
        "av_f1 = np.average(f1, weights = support/np.sum(support))\n",
        "\n",
        "print(\"Accuracy:\", accuracy)\n",
        "print(\"Average Precision:\", av_precision)\n",
        "print(\"Average Recall:\", av_recall)\n",
        "print(\"Average F1 Score:\", av_f1)\n",
        "print()\n",
        "print(classification_report(authors_test, authors_pred))\n",
        "print()\n",
        "#ROC-AUC\n",
        "skplt.metrics.plot_roc(authors_test, authors_pred_proba)\n",
        "plt.show()"
      ],
      "execution_count": 0,
      "outputs": [
        {
          "output_type": "stream",
          "text": [
            "Accuracy: 0.6506666666666666\n",
            "Average Precision: 0.6525089037311259\n",
            "Average Recall: 0.6506666666666667\n",
            "Average F1 Score: 0.6506047582725807\n",
            "\n",
            "              precision    recall  f1-score   support\n",
            "\n",
            "      Chehov       0.62      0.68      0.65       877\n",
            "       Gogol       0.66      0.68      0.67       897\n",
            "     Pushkin       0.70      0.67      0.68       883\n",
            "     Tolstoy       0.62      0.64      0.63       913\n",
            "    Turgenev       0.67      0.59      0.63       930\n",
            "\n",
            "    accuracy                           0.65      4500\n",
            "   macro avg       0.65      0.65      0.65      4500\n",
            "weighted avg       0.65      0.65      0.65      4500\n",
            "\n",
            "\n"
          ],
          "name": "stdout"
        },
        {
          "output_type": "display_data",
          "data": {
            "image/png": "[encoded data removed]",
            "text/plain": [
              "<Figure size 432x288 with 1 Axes>"
            ]
          },
          "metadata": {
            "tags": []
          }
        }
      ]
    },
    {
      "cell_type": "markdown",
      "metadata": {
        "id": "uy6wJN5w7u8q",
        "colab_type": "text"
      },
      "source": [
        "We get quite decent accuracy for a custom dataset. Just uniform guessing give us accuracy 0.2, we get 0.64 for SVM and 0.65 for Naive Bayes that exceeds random guessing more that 3 times. Therefore, we may conclude that our model predicts authorship quite well.\n",
        "\n",
        "We cannot compare results here with States-of-Art, because our data is unique, because we made dataset manually, therefore others methods weren`t applied to it. But on similar data it gives accuracy that exceeds 0.7. But most likely this is because of difference in data, because we use here Bag of Words + SVM that is standart way to perform author attribution task."
      ]
    },
    {
      "cell_type": "markdown",
      "metadata": {
        "id": "ZzGGHTM3249D",
        "colab_type": "text"
      },
      "source": [
        "## II. Word2Vec"
      ]
    },
    {
      "cell_type": "code",
      "metadata": {
        "id": "Y6FpY7K02917",
        "colab_type": "code",
        "outputId": "9e864ad3-4b91-4eb5-8272-2cf3a0cc9888",
        "colab": {
          "base_uri": "https://localhost:8080/",
          "height": 141
        }
      },
      "source": [
        "df = pd.DataFrame()\n",
        "df = pd.read_csv('russian_authors_12.csv', encoding='utf-8')\n",
        "df.head(3)"
      ],
      "execution_count": 0,
      "outputs": [
        {
          "output_type": "execute_result",
          "data": {
            "text/html": [
              "<div>\n",
              "<style scoped>\n",
              "    .dataframe tbody tr th:only-of-type {\n",
              "        vertical-align: middle;\n",
              "    }\n",
              "\n",
              "    .dataframe tbody tr th {\n",
              "        vertical-align: top;\n",
              "    }\n",
              "\n",
              "    .dataframe thead th {\n",
              "        text-align: right;\n",
              "    }\n",
              "</style>\n",
              "<table border=\"1\" class=\"dataframe\">\n",
              "  <thead>\n",
              "    <tr style=\"text-align: right;\">\n",
              "      <th></th>\n",
              "      <th>sentence</th>\n",
              "      <th>author</th>\n",
              "    </tr>\n",
              "  </thead>\n",
              "  <tbody>\n",
              "    <tr>\n",
              "      <th>0</th>\n",
              "      <td>А живет он второе лето в этом вонючем городиш...</td>\n",
              "      <td>Chehov</td>\n",
              "    </tr>\n",
              "    <tr>\n",
              "      <th>1</th>\n",
              "      <td>Вдруг она услыхала ровный и спокойный носовой...</td>\n",
              "      <td>Tolstoy</td>\n",
              "    </tr>\n",
              "    <tr>\n",
              "      <th>2</th>\n",
              "      <td>\"Послушайте, матушка.</td>\n",
              "      <td>Gogol</td>\n",
              "    </tr>\n",
              "  </tbody>\n",
              "</table>\n",
              "</div>"
            ],
            "text/plain": [
              "                                            sentence   author\n",
              "0   А живет он второе лето в этом вонючем городиш...   Chehov\n",
              "1   Вдруг она услыхала ровный и спокойный носовой...  Tolstoy\n",
              "2                              \"Послушайте, матушка.    Gogol"
            ]
          },
          "metadata": {
            "tags": []
          },
          "execution_count": 54
        }
      ]
    },
    {
      "cell_type": "code",
      "metadata": {
        "id": "wgkVmlmZ3Ro8",
        "colab_type": "code",
        "colab": {}
      },
      "source": [
        "review_lines = list()\n",
        "lines = df['sentence'].values.tolist()\n",
        "\n",
        "# Lemmatizator\n",
        "morph = pymorphy2.MorphAnalyzer()\n",
        "\n",
        "for line in lines:   \n",
        "    tokens = word_tokenize(line)\n",
        "    # convert to lower case\n",
        "    tokens = [w.lower() for w in tokens]\n",
        "    # remove punctuation from each word    \n",
        "    table = str.maketrans('', '', string.punctuation)\n",
        "    stripped = [w.translate(table) for w in tokens]\n",
        "    # remove remaining tokens that are not alphabetic\n",
        "    words = [word for word in stripped if word.isalpha()]\n",
        "    # filter out stop words    \n",
        "    stop_words = set(stopwords.words('russian'))\n",
        "    # Lemmatize words\n",
        "    words = [morph.parse(w)[0].normal_form for w in words if not w in stop_words]\n",
        "    review_lines.append(words)"
      ],
      "execution_count": 0,
      "outputs": []
    },
    {
      "cell_type": "code",
      "metadata": {
        "id": "UAu3VQKc3kbW",
        "colab_type": "code",
        "outputId": "9cdbd083-7e3e-46df-e10c-2e211a74c0d9",
        "colab": {
          "base_uri": "https://localhost:8080/",
          "height": 35
        }
      },
      "source": [
        "len(review_lines)"
      ],
      "execution_count": 0,
      "outputs": [
        {
          "output_type": "execute_result",
          "data": {
            "text/plain": [
              "22500"
            ]
          },
          "metadata": {
            "tags": []
          },
          "execution_count": 65
        }
      ]
    },
    {
      "cell_type": "code",
      "metadata": {
        "id": "4O5Xn87E4c5A",
        "colab_type": "code",
        "outputId": "26363a22-f8e1-4235-cdae-7f745a17df1c",
        "colab": {
          "base_uri": "https://localhost:8080/",
          "height": 208
        }
      },
      "source": [
        "review_lines[0:3]"
      ],
      "execution_count": 0,
      "outputs": [
        {
          "output_type": "execute_result",
          "data": {
            "text/plain": [
              "[['жить',\n",
              "  'два',\n",
              "  'лето',\n",
              "  'вонючий',\n",
              "  'городишко',\n",
              "  'один',\n",
              "  'деревня',\n",
              "  'город',\n",
              "  'второе'],\n",
              " ['услыхать', 'ровный', 'спокойный', 'носов', 'свист'],\n",
              " ['послушать', 'матушка']]"
            ]
          },
          "metadata": {
            "tags": []
          },
          "execution_count": 66
        }
      ]
    },
    {
      "cell_type": "code",
      "metadata": {
        "id": "_W_f864O4A6n",
        "colab_type": "code",
        "outputId": "c6e84a5f-45bc-474e-aee9-28b39573f4e1",
        "colab": {
          "base_uri": "https://localhost:8080/",
          "height": 35
        }
      },
      "source": [
        "EMBEDDING_DIM = 300\n",
        "# train word2vec model\n",
        "model = gensim.models.Word2Vec(sentences=review_lines, \n",
        "                               size=EMBEDDING_DIM, \n",
        "                               window=1, \n",
        "                               workers=4, \n",
        "                               min_count=1)\n",
        "# vocab size\n",
        "words = list(model.wv.vocab)\n",
        "print('Vocabulary size: %d' % len(words))"
      ],
      "execution_count": 0,
      "outputs": [
        {
          "output_type": "stream",
          "text": [
            "Vocabulary size: 20288\n"
          ],
          "name": "stdout"
        }
      ]
    },
    {
      "cell_type": "code",
      "metadata": {
        "id": "LjHgYeNI5_gN",
        "colab_type": "code",
        "colab": {}
      },
      "source": [
        "# save model in ASCII (word2vec) format\n",
        "filename = 'russian_embedding_word2vec.txt'\n",
        "model.wv.save_word2vec_format(filename, binary=False)"
      ],
      "execution_count": 0,
      "outputs": []
    },
    {
      "cell_type": "code",
      "metadata": {
        "id": "tnXmWJVo6C2I",
        "colab_type": "code",
        "colab": {}
      },
      "source": [
        "embeddings_index = {}\n",
        "f = open(os.path.join('', 'russian_embedding_word2vec.txt'),  encoding = \"utf-8\")\n",
        "for line in f:\n",
        "    values = line.split()\n",
        "    word = values[0]\n",
        "    coefs = np.asarray(values[1:])\n",
        "    embeddings_index[word] = coefs\n",
        "f.close()"
      ],
      "execution_count": 0,
      "outputs": []
    },
    {
      "cell_type": "code",
      "metadata": {
        "id": "p_oNEjl56WXp",
        "colab_type": "code",
        "colab": {}
      },
      "source": [
        "total_reviews = df['sentence'].values\n",
        "max_length = max([len(s.split()) for s in total_reviews])"
      ],
      "execution_count": 0,
      "outputs": []
    },
    {
      "cell_type": "code",
      "metadata": {
        "id": "L0YqPE8q6ZS2",
        "colab_type": "code",
        "outputId": "67086243-5e23-44e3-a00c-5aa30aca98f2",
        "colab": {
          "base_uri": "https://localhost:8080/",
          "height": 35
        }
      },
      "source": [
        "print(max_length)"
      ],
      "execution_count": 0,
      "outputs": [
        {
          "output_type": "stream",
          "text": [
            "199\n"
          ],
          "name": "stdout"
        }
      ]
    },
    {
      "cell_type": "code",
      "metadata": {
        "id": "ipLvegtZ6cSY",
        "colab_type": "code",
        "outputId": "bbc2b565-080c-4989-83a1-27e03790b902",
        "colab": {
          "base_uri": "https://localhost:8080/",
          "height": 193
        }
      },
      "source": [
        "VALIDATION_SPLIT = 0.2\n",
        "\n",
        "# vectorize the text samples into a 2D integer tensor\n",
        "tokenizer_obj = Tokenizer()\n",
        "tokenizer_obj.fit_on_texts(review_lines)\n",
        "sequences = tokenizer_obj.texts_to_sequences(review_lines)\n",
        "\n",
        "# pad sequences\n",
        "word_index = tokenizer_obj.word_index\n",
        "print('Found %s unique tokens.' % len(word_index))\n",
        "\n",
        "review_pad = pad_sequences(sequences, maxlen=max_length)\n",
        "labelencoder_X = LabelEncoder()\n",
        "author = df['author'].values\n",
        "author = pd.DataFrame(labelencoder_X.fit_transform(df['author']))\n",
        "onehotencoder = OneHotEncoder(categorical_features = [0])\n",
        "author = pd.DataFrame(onehotencoder.fit_transform(author).toarray())\n",
        "author = np.array(author)\n",
        "author = author.astype(dtype = 'int32')\n",
        "\n",
        "print('Shape of review tensor:', review_pad.shape)\n",
        "print('Shape of sentiment tensor:', author.shape)"
      ],
      "execution_count": 0,
      "outputs": [
        {
          "output_type": "stream",
          "text": [
            "Found 20288 unique tokens.\n",
            "Shape of review tensor: (22500, 199)\n",
            "Shape of sentiment tensor: (22500, 5)\n"
          ],
          "name": "stdout"
        },
        {
          "output_type": "stream",
          "text": [
            "/usr/local/lib/python3.6/dist-packages/sklearn/preprocessing/_encoders.py:415: FutureWarning: The handling of integer data will change in version 0.22. Currently, the categories are determined based on the range [0, max(values)], while in the future they will be determined based on the unique values.\n",
            "If you want the future behaviour and silence this warning, you can specify \"categories='auto'\".\n",
            "In case you used a LabelEncoder before this OneHotEncoder to convert the categories to integers, then you can now use the OneHotEncoder directly.\n",
            "  warnings.warn(msg, FutureWarning)\n",
            "/usr/local/lib/python3.6/dist-packages/sklearn/preprocessing/_encoders.py:451: DeprecationWarning: The 'categorical_features' keyword is deprecated in version 0.20 and will be removed in 0.22. You can use the ColumnTransformer instead.\n",
            "  \"use the ColumnTransformer instead.\", DeprecationWarning)\n"
          ],
          "name": "stderr"
        }
      ]
    },
    {
      "cell_type": "code",
      "metadata": {
        "id": "6qTUfix765Uk",
        "colab_type": "code",
        "colab": {}
      },
      "source": [
        "# split the data into a training set and a validation set\n",
        "indices = np.arange(review_pad.shape[0])\n",
        "np.random.shuffle(indices)\n",
        "review_pad = review_pad[indices]\n",
        "author = author[indices]\n",
        "num_validation_samples = int(VALIDATION_SPLIT * review_pad.shape[0])\n",
        "\n",
        "X_train_pad = review_pad[:-num_validation_samples]\n",
        "y_train = author[:-num_validation_samples]\n",
        "X_test_pad = review_pad[-num_validation_samples:]\n",
        "y_test = author[-num_validation_samples:]"
      ],
      "execution_count": 0,
      "outputs": []
    },
    {
      "cell_type": "code",
      "metadata": {
        "id": "5-mn54Ac6-21",
        "colab_type": "code",
        "outputId": "401c9a30-830a-472d-a50b-4c45a9b16e86",
        "colab": {
          "base_uri": "https://localhost:8080/",
          "height": 87
        }
      },
      "source": [
        "print('Shape of X_train_pad tensor:', X_train_pad.shape)\n",
        "print('Shape of y_train tensor:', y_train.shape)\n",
        "\n",
        "print('Shape of X_test_pad tensor:', X_test_pad.shape)\n",
        "print('Shape of y_test tensor:', y_test.shape)"
      ],
      "execution_count": 0,
      "outputs": [
        {
          "output_type": "stream",
          "text": [
            "Shape of X_train_pad tensor: (18000, 199)\n",
            "Shape of y_train tensor: (18000, 5)\n",
            "Shape of X_test_pad tensor: (4500, 199)\n",
            "Shape of y_test tensor: (4500, 5)\n"
          ],
          "name": "stdout"
        }
      ]
    },
    {
      "cell_type": "code",
      "metadata": {
        "id": "G-UvaYNO7BuQ",
        "colab_type": "code",
        "colab": {}
      },
      "source": [
        "EMBEDDING_DIM = 300\n",
        "num_words = len(word_index) + 1\n",
        "embedding_matrix = np.zeros((num_words, EMBEDDING_DIM))\n",
        "\n",
        "for word, i in word_index.items():\n",
        "    if i > num_words:\n",
        "        continue\n",
        "    embedding_vector = embeddings_index.get(word)\n",
        "    if embedding_vector is not None:\n",
        "        # words not found in embedding index will be all-zeros.\n",
        "        embedding_matrix[i] = embedding_vector"
      ],
      "execution_count": 0,
      "outputs": []
    },
    {
      "cell_type": "code",
      "metadata": {
        "id": "o8-i3-L97K-C",
        "colab_type": "code",
        "outputId": "29f5493c-d048-43ce-a148-1168a308c940",
        "colab": {
          "base_uri": "https://localhost:8080/",
          "height": 35
        }
      },
      "source": [
        "print(num_words)"
      ],
      "execution_count": 0,
      "outputs": [
        {
          "output_type": "stream",
          "text": [
            "20289\n"
          ],
          "name": "stdout"
        }
      ]
    },
    {
      "cell_type": "markdown",
      "metadata": {
        "id": "P3aW9fDFKSrn",
        "colab_type": "text"
      },
      "source": [
        "#### Model, applied on lemmatized words"
      ]
    },
    {
      "cell_type": "code",
      "metadata": {
        "id": "ykcKMssH7Nv1",
        "colab_type": "code",
        "outputId": "f9b3c847-9b52-4aac-c6b9-fc1496007d7c",
        "colab": {
          "base_uri": "https://localhost:8080/",
          "height": 2221
        }
      },
      "source": [
        "# define model\n",
        "model = Sequential()\n",
        "# load pre-trained word embeddings into an Embedding layer\n",
        "# note that we set trainable = False so as to keep the embeddings fixed\n",
        "embedding_layer = Embedding(num_words,\n",
        "                            EMBEDDING_DIM,\n",
        "                            embeddings_initializer=Constant(embedding_matrix),\n",
        "                            input_length=max_length,\n",
        "                            trainable=False)\n",
        "\n",
        "model.add(embedding_layer)\n",
        "model.add(Conv1D(filters=600, kernel_size=1, activation='tanh'))\n",
        "model.add(MaxPooling1D(pool_size=2))\n",
        "model.add(Flatten())\n",
        "model.add(Dense(5, activation='softmax'))\n",
        "print(model.summary())\n",
        "\n",
        "# compile network\n",
        "model.compile(loss='categorical_crossentropy', optimizer='adam', metrics=['accuracy'])\n",
        "\n",
        "# fit the model\n",
        "model.fit(X_train_pad, y_train, batch_size=128, epochs=50, validation_data=(X_test_pad, y_test), verbose=2)"
      ],
      "execution_count": 0,
      "outputs": [
        {
          "output_type": "stream",
          "text": [
            "WARNING:tensorflow:From /usr/local/lib/python3.6/dist-packages/tensorflow/python/framework/op_def_library.py:263: colocate_with (from tensorflow.python.framework.ops) is deprecated and will be removed in a future version.\n",
            "Instructions for updating:\n",
            "Colocations handled automatically by placer.\n",
            "_________________________________________________________________\n",
            "Layer (type)                 Output Shape              Param #   \n",
            "=================================================================\n",
            "embedding_1 (Embedding)      (None, 199, 300)          6086700   \n",
            "_________________________________________________________________\n",
            "conv1d_1 (Conv1D)            (None, 199, 600)          180600    \n",
            "_________________________________________________________________\n",
            "max_pooling1d_1 (MaxPooling1 (None, 99, 600)           0         \n",
            "_________________________________________________________________\n",
            "flatten_1 (Flatten)          (None, 59400)             0         \n",
            "_________________________________________________________________\n",
            "dense_1 (Dense)              (None, 5)                 297005    \n",
            "=================================================================\n",
            "Total params: 6,564,305\n",
            "Trainable params: 477,605\n",
            "Non-trainable params: 6,086,700\n",
            "_________________________________________________________________\n",
            "None\n",
            "WARNING:tensorflow:From /usr/local/lib/python3.6/dist-packages/tensorflow/python/ops/math_ops.py:3066: to_int32 (from tensorflow.python.ops.math_ops) is deprecated and will be removed in a future version.\n",
            "Instructions for updating:\n",
            "Use tf.cast instead.\n",
            "Train on 18000 samples, validate on 4500 samples\n",
            "Epoch 1/50\n",
            " - 79s - loss: 1.5951 - acc: 0.2279 - val_loss: 1.5941 - val_acc: 0.2478\n",
            "Epoch 2/50\n",
            " - 79s - loss: 1.5829 - acc: 0.2412 - val_loss: 1.5871 - val_acc: 0.2371\n",
            "Epoch 3/50\n",
            " - 79s - loss: 1.5810 - acc: 0.2414 - val_loss: 1.5874 - val_acc: 0.2447\n",
            "Epoch 4/50\n",
            " - 79s - loss: 1.5775 - acc: 0.2439 - val_loss: 1.5886 - val_acc: 0.2493\n",
            "Epoch 5/50\n",
            " - 78s - loss: 1.5755 - acc: 0.2452 - val_loss: 1.5997 - val_acc: 0.2207\n",
            "Epoch 6/50\n",
            " - 79s - loss: 1.5739 - acc: 0.2492 - val_loss: 1.6012 - val_acc: 0.2280\n",
            "Epoch 7/50\n",
            " - 79s - loss: 1.5736 - acc: 0.2457 - val_loss: 1.5907 - val_acc: 0.2536\n",
            "Epoch 8/50\n",
            " - 79s - loss: 1.5709 - acc: 0.2492 - val_loss: 1.5919 - val_acc: 0.2331\n",
            "Epoch 9/50\n",
            " - 79s - loss: 1.5726 - acc: 0.2461 - val_loss: 1.6044 - val_acc: 0.2400\n",
            "Epoch 10/50\n",
            " - 79s - loss: 1.5679 - acc: 0.2506 - val_loss: 1.5879 - val_acc: 0.2507\n",
            "Epoch 11/50\n",
            " - 79s - loss: 1.5669 - acc: 0.2545 - val_loss: 1.5926 - val_acc: 0.2327\n",
            "Epoch 12/50\n",
            " - 78s - loss: 1.5657 - acc: 0.2527 - val_loss: 1.5901 - val_acc: 0.2567\n",
            "Epoch 13/50\n",
            " - 78s - loss: 1.5612 - acc: 0.2591 - val_loss: 1.6031 - val_acc: 0.2447\n",
            "Epoch 14/50\n",
            " - 79s - loss: 1.5623 - acc: 0.2607 - val_loss: 1.6038 - val_acc: 0.2262\n",
            "Epoch 15/50\n",
            " - 79s - loss: 1.5573 - acc: 0.2672 - val_loss: 1.6013 - val_acc: 0.2444\n",
            "Epoch 16/50\n",
            " - 78s - loss: 1.5565 - acc: 0.2665 - val_loss: 1.5819 - val_acc: 0.2720\n",
            "Epoch 17/50\n",
            " - 79s - loss: 1.5564 - acc: 0.2647 - val_loss: 1.5838 - val_acc: 0.2556\n",
            "Epoch 18/50\n",
            " - 79s - loss: 1.5516 - acc: 0.2670 - val_loss: 1.5828 - val_acc: 0.2662\n",
            "Epoch 19/50\n",
            " - 79s - loss: 1.5506 - acc: 0.2697 - val_loss: 1.5743 - val_acc: 0.2767\n",
            "Epoch 20/50\n",
            " - 78s - loss: 1.5474 - acc: 0.2697 - val_loss: 1.5742 - val_acc: 0.2800\n",
            "Epoch 21/50\n",
            " - 79s - loss: 1.5477 - acc: 0.2717 - val_loss: 1.5749 - val_acc: 0.2680\n",
            "Epoch 22/50\n",
            " - 79s - loss: 1.5431 - acc: 0.2753 - val_loss: 1.5820 - val_acc: 0.2744\n",
            "Epoch 23/50\n",
            " - 78s - loss: 1.5402 - acc: 0.2772 - val_loss: 1.5841 - val_acc: 0.2720\n",
            "Epoch 24/50\n",
            " - 78s - loss: 1.5406 - acc: 0.2821 - val_loss: 1.5711 - val_acc: 0.2727\n",
            "Epoch 25/50\n",
            " - 78s - loss: 1.5367 - acc: 0.2810 - val_loss: 1.5824 - val_acc: 0.2676\n",
            "Epoch 26/50\n",
            " - 78s - loss: 1.5344 - acc: 0.2840 - val_loss: 1.5753 - val_acc: 0.2620\n",
            "Epoch 27/50\n",
            " - 79s - loss: 1.5343 - acc: 0.2828 - val_loss: 1.5978 - val_acc: 0.2587\n",
            "Epoch 28/50\n",
            " - 78s - loss: 1.5310 - acc: 0.2842 - val_loss: 1.5773 - val_acc: 0.2664\n",
            "Epoch 29/50\n",
            " - 79s - loss: 1.5301 - acc: 0.2846 - val_loss: 1.5674 - val_acc: 0.2820\n",
            "Epoch 30/50\n",
            " - 79s - loss: 1.5292 - acc: 0.2907 - val_loss: 1.5705 - val_acc: 0.2871\n",
            "Epoch 31/50\n",
            " - 79s - loss: 1.5260 - acc: 0.2924 - val_loss: 1.5695 - val_acc: 0.2838\n",
            "Epoch 32/50\n",
            " - 78s - loss: 1.5259 - acc: 0.2893 - val_loss: 1.5768 - val_acc: 0.2580\n",
            "Epoch 33/50\n",
            " - 79s - loss: 1.5230 - acc: 0.2931 - val_loss: 1.5762 - val_acc: 0.2751\n",
            "Epoch 34/50\n",
            " - 79s - loss: 1.5266 - acc: 0.2883 - val_loss: 1.5711 - val_acc: 0.2809\n",
            "Epoch 35/50\n",
            " - 79s - loss: 1.5251 - acc: 0.2898 - val_loss: 1.5663 - val_acc: 0.2842\n",
            "Epoch 36/50\n",
            " - 79s - loss: 1.5217 - acc: 0.2926 - val_loss: 1.5785 - val_acc: 0.2689\n",
            "Epoch 37/50\n",
            " - 78s - loss: 1.5221 - acc: 0.2920 - val_loss: 1.5695 - val_acc: 0.2858\n",
            "Epoch 38/50\n",
            " - 79s - loss: 1.5206 - acc: 0.2938 - val_loss: 1.5751 - val_acc: 0.2818\n",
            "Epoch 39/50\n",
            " - 79s - loss: 1.5189 - acc: 0.2928 - val_loss: 1.5812 - val_acc: 0.2833\n",
            "Epoch 40/50\n",
            " - 78s - loss: 1.5167 - acc: 0.2968 - val_loss: 1.5643 - val_acc: 0.2984\n",
            "Epoch 41/50\n",
            " - 78s - loss: 1.5144 - acc: 0.2944 - val_loss: 1.5622 - val_acc: 0.2916\n",
            "Epoch 42/50\n",
            " - 79s - loss: 1.5147 - acc: 0.3003 - val_loss: 1.5647 - val_acc: 0.2916\n",
            "Epoch 43/50\n",
            " - 79s - loss: 1.5123 - acc: 0.2974 - val_loss: 1.5642 - val_acc: 0.2904\n",
            "Epoch 44/50\n",
            " - 79s - loss: 1.5136 - acc: 0.3012 - val_loss: 1.5693 - val_acc: 0.2718\n",
            "Epoch 45/50\n",
            " - 79s - loss: 1.5103 - acc: 0.2983 - val_loss: 1.5844 - val_acc: 0.2807\n",
            "Epoch 46/50\n",
            " - 78s - loss: 1.5126 - acc: 0.2987 - val_loss: 1.5720 - val_acc: 0.2787\n",
            "Epoch 47/50\n",
            " - 79s - loss: 1.5074 - acc: 0.3049 - val_loss: 1.5732 - val_acc: 0.3009\n",
            "Epoch 48/50\n",
            " - 78s - loss: 1.5088 - acc: 0.3015 - val_loss: 1.5655 - val_acc: 0.2820\n",
            "Epoch 49/50\n",
            " - 78s - loss: 1.5065 - acc: 0.3023 - val_loss: 1.5647 - val_acc: 0.2953\n",
            "Epoch 50/50\n",
            " - 79s - loss: 1.5064 - acc: 0.3047 - val_loss: 1.5638 - val_acc: 0.2984\n"
          ],
          "name": "stdout"
        },
        {
          "output_type": "execute_result",
          "data": {
            "text/plain": [
              "<keras.callbacks.History at 0x7fc212d37b70>"
            ]
          },
          "metadata": {
            "tags": []
          },
          "execution_count": 80
        }
      ]
    },
    {
      "cell_type": "markdown",
      "metadata": {
        "id": "dUherPO3Pq5s",
        "colab_type": "text"
      },
      "source": [
        "Quality is quite low (~0.3), next we try not normalizing words"
      ]
    },
    {
      "cell_type": "markdown",
      "metadata": {
        "id": "i1MDE8JnLlOQ",
        "colab_type": "text"
      },
      "source": [
        "#### Model, applied on non lemmatized words"
      ]
    },
    {
      "cell_type": "code",
      "metadata": {
        "id": "WSaFBJf_7bzJ",
        "colab_type": "code",
        "outputId": "00749658-363c-4d2d-cc17-9d27a9ebafe2",
        "colab": {
          "base_uri": "https://localhost:8080/",
          "height": 35
        }
      },
      "source": [
        "review_lines = list()\n",
        "lines = df['sentence'].values.tolist()\n",
        "\n",
        "\n",
        "\n",
        "for line in lines:   \n",
        "    tokens = word_tokenize(line)\n",
        "    # convert to lower case\n",
        "    tokens = [w.lower() for w in tokens]\n",
        "    # remove punctuation from each word    \n",
        "    table = str.maketrans('', '', string.punctuation)\n",
        "    stripped = [w.translate(table) for w in tokens]\n",
        "    # remove remaining tokens that are not alphabetic\n",
        "    words = [word for word in stripped if word.isalpha()]\n",
        "    # filter out stop words    \n",
        "    stop_words = set(stopwords.words('russian'))\n",
        "    # Lemmatize words\n",
        "    words = [w for w in words if not w in stop_words]\n",
        "    review_lines.append(words)\n",
        "    \n",
        "    \n",
        "EMBEDDING_DIM = 300\n",
        "# train word2vec model\n",
        "model = gensim.models.Word2Vec(sentences=review_lines, \n",
        "                               size=EMBEDDING_DIM, \n",
        "                               window=1, \n",
        "                               workers=4, \n",
        "                               min_count=1)\n",
        "# vocab size\n",
        "words = list(model.wv.vocab)\n",
        "print('Vocabulary size: %d' % len(words))"
      ],
      "execution_count": 0,
      "outputs": [
        {
          "output_type": "stream",
          "text": [
            "Vocabulary size: 47967\n"
          ],
          "name": "stdout"
        }
      ]
    },
    {
      "cell_type": "code",
      "metadata": {
        "id": "O0jWzctDPlDE",
        "colab_type": "code",
        "outputId": "e894f362-3caa-4b36-d87a-1d7df57e6248",
        "colab": {
          "base_uri": "https://localhost:8080/",
          "height": 208
        }
      },
      "source": [
        "review_lines[0:3]"
      ],
      "execution_count": 0,
      "outputs": [
        {
          "output_type": "execute_result",
          "data": {
            "text/plain": [
              "[['живет',\n",
              "  'второе',\n",
              "  'лето',\n",
              "  'вонючем',\n",
              "  'городишке',\n",
              "  'первым',\n",
              "  'деревне',\n",
              "  'городе',\n",
              "  'вторым'],\n",
              " ['услыхала', 'ровный', 'спокойный', 'носовой', 'свист'],\n",
              " ['послушайте', 'матушка']]"
            ]
          },
          "metadata": {
            "tags": []
          },
          "execution_count": 98
        }
      ]
    },
    {
      "cell_type": "code",
      "metadata": {
        "id": "1saQ2qh3L9ai",
        "colab_type": "code",
        "colab": {}
      },
      "source": [
        "# save model in ASCII (word2vec) format\n",
        "filename = '2russian_embedding_word2vec.txt'\n",
        "model.wv.save_word2vec_format(filename, binary=False)"
      ],
      "execution_count": 0,
      "outputs": []
    },
    {
      "cell_type": "code",
      "metadata": {
        "id": "ESpDN43cMKxk",
        "colab_type": "code",
        "colab": {}
      },
      "source": [
        "embeddings_index = {}\n",
        "f = open(os.path.join('', '2russian_embedding_word2vec.txt'),  encoding = \"utf-8\")\n",
        "for line in f:\n",
        "    values = line.split()\n",
        "    word = values[0]\n",
        "    coefs = np.asarray(values[1:])\n",
        "    embeddings_index[word] = coefs\n",
        "f.close()"
      ],
      "execution_count": 0,
      "outputs": []
    },
    {
      "cell_type": "code",
      "metadata": {
        "id": "iDBfH5ssMMij",
        "colab_type": "code",
        "colab": {}
      },
      "source": [
        "total_reviews = df['sentence'].values\n",
        "max_length = max([len(s.split()) for s in total_reviews])"
      ],
      "execution_count": 0,
      "outputs": []
    },
    {
      "cell_type": "code",
      "metadata": {
        "id": "KeeWhKAOMScU",
        "colab_type": "code",
        "outputId": "a543b0ab-e46a-48c9-ecfb-fd72fa650762",
        "colab": {
          "base_uri": "https://localhost:8080/",
          "height": 193
        }
      },
      "source": [
        "VALIDATION_SPLIT = 0.2\n",
        "\n",
        "# vectorize the text samples into a 2D integer tensor\n",
        "tokenizer_obj = Tokenizer()\n",
        "tokenizer_obj.fit_on_texts(review_lines)\n",
        "sequences = tokenizer_obj.texts_to_sequences(review_lines)\n",
        "\n",
        "# pad sequences\n",
        "word_index = tokenizer_obj.word_index\n",
        "print('Found %s unique tokens.' % len(word_index))\n",
        "\n",
        "review_pad = pad_sequences(sequences, maxlen=max_length)\n",
        "labelencoder_X = LabelEncoder()\n",
        "author = df['author'].values\n",
        "author = pd.DataFrame(labelencoder_X.fit_transform(df['author']))\n",
        "onehotencoder = OneHotEncoder(categorical_features = [0])\n",
        "author = pd.DataFrame(onehotencoder.fit_transform(author).toarray())\n",
        "author = np.array(author)\n",
        "author = author.astype(dtype = 'int32')\n",
        "\n",
        "print('Shape of review tensor:', review_pad.shape)\n",
        "print('Shape of sentiment tensor:', author.shape)"
      ],
      "execution_count": 0,
      "outputs": [
        {
          "output_type": "stream",
          "text": [
            "Found 47967 unique tokens.\n",
            "Shape of review tensor: (22500, 199)\n",
            "Shape of sentiment tensor: (22500, 5)\n"
          ],
          "name": "stdout"
        },
        {
          "output_type": "stream",
          "text": [
            "/usr/local/lib/python3.6/dist-packages/sklearn/preprocessing/_encoders.py:415: FutureWarning: The handling of integer data will change in version 0.22. Currently, the categories are determined based on the range [0, max(values)], while in the future they will be determined based on the unique values.\n",
            "If you want the future behaviour and silence this warning, you can specify \"categories='auto'\".\n",
            "In case you used a LabelEncoder before this OneHotEncoder to convert the categories to integers, then you can now use the OneHotEncoder directly.\n",
            "  warnings.warn(msg, FutureWarning)\n",
            "/usr/local/lib/python3.6/dist-packages/sklearn/preprocessing/_encoders.py:451: DeprecationWarning: The 'categorical_features' keyword is deprecated in version 0.20 and will be removed in 0.22. You can use the ColumnTransformer instead.\n",
            "  \"use the ColumnTransformer instead.\", DeprecationWarning)\n"
          ],
          "name": "stderr"
        }
      ]
    },
    {
      "cell_type": "code",
      "metadata": {
        "id": "D69tZjgtMZXq",
        "colab_type": "code",
        "colab": {}
      },
      "source": [
        "# split the data into a training set and a validation set\n",
        "indices = np.arange(review_pad.shape[0])\n",
        "np.random.shuffle(indices)\n",
        "review_pad = review_pad[indices]\n",
        "author = author[indices]\n",
        "num_validation_samples = int(VALIDATION_SPLIT * review_pad.shape[0])\n",
        "\n",
        "X_train_pad = review_pad[:-num_validation_samples]\n",
        "y_train = author[:-num_validation_samples]\n",
        "X_test_pad = review_pad[-num_validation_samples:]\n",
        "y_test = author[-num_validation_samples:]"
      ],
      "execution_count": 0,
      "outputs": []
    },
    {
      "cell_type": "code",
      "metadata": {
        "id": "Mrmbte68Mjrm",
        "colab_type": "code",
        "outputId": "50f9860a-9b49-4d8e-b1cf-3924a785b160",
        "colab": {
          "base_uri": "https://localhost:8080/",
          "height": 87
        }
      },
      "source": [
        "print('Shape of X_train_pad tensor:', X_train_pad.shape)\n",
        "print('Shape of y_train tensor:', y_train.shape)\n",
        "\n",
        "print('Shape of X_test_pad tensor:', X_test_pad.shape)\n",
        "print('Shape of y_test tensor:', y_test.shape)"
      ],
      "execution_count": 0,
      "outputs": [
        {
          "output_type": "stream",
          "text": [
            "Shape of X_train_pad tensor: (18000, 199)\n",
            "Shape of y_train tensor: (18000, 5)\n",
            "Shape of X_test_pad tensor: (4500, 199)\n",
            "Shape of y_test tensor: (4500, 5)\n"
          ],
          "name": "stdout"
        }
      ]
    },
    {
      "cell_type": "code",
      "metadata": {
        "id": "LG7YivdCMj5l",
        "colab_type": "code",
        "colab": {}
      },
      "source": [
        "EMBEDDING_DIM = 300\n",
        "num_words = len(word_index) + 1\n",
        "embedding_matrix = np.zeros((num_words, EMBEDDING_DIM))\n",
        "\n",
        "for word, i in word_index.items():\n",
        "    if i > num_words:\n",
        "        continue\n",
        "    embedding_vector = embeddings_index.get(word)\n",
        "    if embedding_vector is not None:\n",
        "        # words not found in embedding index will be all-zeros.\n",
        "        embedding_matrix[i] = embedding_vector"
      ],
      "execution_count": 0,
      "outputs": []
    },
    {
      "cell_type": "code",
      "metadata": {
        "id": "R2solrhEMphV",
        "colab_type": "code",
        "outputId": "c9c6ce92-36da-458f-f4a5-aef0e1a2beb8",
        "colab": {
          "base_uri": "https://localhost:8080/",
          "height": 35
        }
      },
      "source": [
        "print(num_words)"
      ],
      "execution_count": 0,
      "outputs": [
        {
          "output_type": "stream",
          "text": [
            "47968\n"
          ],
          "name": "stdout"
        }
      ]
    },
    {
      "cell_type": "code",
      "metadata": {
        "id": "OG8OxTeuMpai",
        "colab_type": "code",
        "outputId": "146a3baa-0f7a-4115-cee2-9703a220405d",
        "colab": {
          "base_uri": "https://localhost:8080/",
          "height": 2097
        }
      },
      "source": [
        "# define model\n",
        "model = Sequential()\n",
        "# load pre-trained word embeddings into an Embedding layer\n",
        "# note that we set trainable = False so as to keep the embeddings fixed\n",
        "embedding_layer = Embedding(num_words,\n",
        "                            EMBEDDING_DIM,\n",
        "                            embeddings_initializer=Constant(embedding_matrix),\n",
        "                            input_length=max_length,\n",
        "                            trainable=False)\n",
        "\n",
        "model.add(embedding_layer)\n",
        "model.add(Conv1D(filters=600, kernel_size=1, activation='tanh'))\n",
        "model.add(MaxPooling1D(pool_size=2))\n",
        "model.add(Flatten())\n",
        "model.add(Dense(5, activation='softmax'))\n",
        "print(model.summary())\n",
        "\n",
        "# compile network\n",
        "model.compile(loss='categorical_crossentropy', optimizer='adam', metrics=['accuracy'])\n",
        "\n",
        "# fit the model\n",
        "model.fit(X_train_pad, y_train, batch_size=128, epochs=50, validation_data=(X_test_pad, y_test), verbose=2)"
      ],
      "execution_count": 0,
      "outputs": [
        {
          "output_type": "stream",
          "text": [
            "_________________________________________________________________\n",
            "Layer (type)                 Output Shape              Param #   \n",
            "=================================================================\n",
            "embedding_2 (Embedding)      (None, 199, 300)          14390400  \n",
            "_________________________________________________________________\n",
            "conv1d_2 (Conv1D)            (None, 199, 600)          180600    \n",
            "_________________________________________________________________\n",
            "max_pooling1d_2 (MaxPooling1 (None, 99, 600)           0         \n",
            "_________________________________________________________________\n",
            "flatten_2 (Flatten)          (None, 59400)             0         \n",
            "_________________________________________________________________\n",
            "dense_2 (Dense)              (None, 5)                 297005    \n",
            "=================================================================\n",
            "Total params: 14,868,005\n",
            "Trainable params: 477,605\n",
            "Non-trainable params: 14,390,400\n",
            "_________________________________________________________________\n",
            "None\n",
            "Train on 18000 samples, validate on 4500 samples\n",
            "Epoch 1/50\n",
            " - 82s - loss: 1.5937 - acc: 0.2246 - val_loss: 1.5842 - val_acc: 0.2478\n",
            "Epoch 2/50\n",
            " - 81s - loss: 1.5759 - acc: 0.2523 - val_loss: 1.5759 - val_acc: 0.2551\n",
            "Epoch 3/50\n",
            " - 81s - loss: 1.5655 - acc: 0.2666 - val_loss: 1.5650 - val_acc: 0.2676\n",
            "Epoch 4/50\n",
            " - 81s - loss: 1.5450 - acc: 0.2917 - val_loss: 1.5504 - val_acc: 0.2816\n",
            "Epoch 5/50\n",
            " - 81s - loss: 1.5241 - acc: 0.3109 - val_loss: 1.5304 - val_acc: 0.3029\n",
            "Epoch 6/50\n",
            " - 81s - loss: 1.4975 - acc: 0.3279 - val_loss: 1.5100 - val_acc: 0.3282\n",
            "Epoch 7/50\n",
            " - 82s - loss: 1.4779 - acc: 0.3417 - val_loss: 1.5006 - val_acc: 0.3136\n",
            "Epoch 8/50\n",
            " - 81s - loss: 1.4564 - acc: 0.3607 - val_loss: 1.4792 - val_acc: 0.3489\n",
            "Epoch 9/50\n",
            " - 81s - loss: 1.4385 - acc: 0.3741 - val_loss: 1.4688 - val_acc: 0.3476\n",
            "Epoch 10/50\n",
            " - 81s - loss: 1.4233 - acc: 0.3806 - val_loss: 1.4606 - val_acc: 0.3471\n",
            "Epoch 11/50\n",
            " - 81s - loss: 1.4093 - acc: 0.3896 - val_loss: 1.4497 - val_acc: 0.3580\n",
            "Epoch 12/50\n",
            " - 81s - loss: 1.3962 - acc: 0.3961 - val_loss: 1.4548 - val_acc: 0.3478\n",
            "Epoch 13/50\n",
            " - 81s - loss: 1.3857 - acc: 0.4024 - val_loss: 1.4362 - val_acc: 0.3633\n",
            "Epoch 14/50\n",
            " - 81s - loss: 1.3753 - acc: 0.4069 - val_loss: 1.4418 - val_acc: 0.3551\n",
            "Epoch 15/50\n",
            " - 81s - loss: 1.3640 - acc: 0.4152 - val_loss: 1.4243 - val_acc: 0.3680\n",
            "Epoch 16/50\n",
            " - 81s - loss: 1.3531 - acc: 0.4244 - val_loss: 1.4236 - val_acc: 0.3640\n",
            "Epoch 17/50\n",
            " - 81s - loss: 1.3453 - acc: 0.4232 - val_loss: 1.4167 - val_acc: 0.3744\n",
            "Epoch 18/50\n",
            " - 81s - loss: 1.3352 - acc: 0.4361 - val_loss: 1.4130 - val_acc: 0.3776\n",
            "Epoch 19/50\n",
            " - 81s - loss: 1.3255 - acc: 0.4406 - val_loss: 1.4172 - val_acc: 0.3751\n",
            "Epoch 20/50\n",
            " - 81s - loss: 1.3180 - acc: 0.4453 - val_loss: 1.4090 - val_acc: 0.3838\n",
            "Epoch 21/50\n",
            " - 81s - loss: 1.3109 - acc: 0.4462 - val_loss: 1.4054 - val_acc: 0.3793\n",
            "Epoch 22/50\n",
            " - 81s - loss: 1.3045 - acc: 0.4542 - val_loss: 1.4092 - val_acc: 0.3829\n",
            "Epoch 23/50\n",
            " - 81s - loss: 1.2980 - acc: 0.4539 - val_loss: 1.4012 - val_acc: 0.3818\n",
            "Epoch 24/50\n",
            " - 81s - loss: 1.2895 - acc: 0.4606 - val_loss: 1.4027 - val_acc: 0.3864\n",
            "Epoch 25/50\n",
            " - 81s - loss: 1.2821 - acc: 0.4626 - val_loss: 1.3973 - val_acc: 0.3836\n",
            "Epoch 26/50\n",
            " - 81s - loss: 1.2775 - acc: 0.4635 - val_loss: 1.4127 - val_acc: 0.3809\n",
            "Epoch 27/50\n",
            " - 81s - loss: 1.2692 - acc: 0.4727 - val_loss: 1.3972 - val_acc: 0.3824\n",
            "Epoch 28/50\n",
            " - 81s - loss: 1.2640 - acc: 0.4727 - val_loss: 1.3965 - val_acc: 0.3818\n",
            "Epoch 29/50\n",
            " - 81s - loss: 1.2575 - acc: 0.4731 - val_loss: 1.3981 - val_acc: 0.3938\n",
            "Epoch 30/50\n",
            " - 81s - loss: 1.2514 - acc: 0.4804 - val_loss: 1.3922 - val_acc: 0.3838\n",
            "Epoch 31/50\n",
            " - 81s - loss: 1.2447 - acc: 0.4837 - val_loss: 1.3947 - val_acc: 0.3840\n",
            "Epoch 32/50\n",
            " - 82s - loss: 1.2401 - acc: 0.4846 - val_loss: 1.3899 - val_acc: 0.3931\n",
            "Epoch 33/50\n",
            " - 81s - loss: 1.2317 - acc: 0.4930 - val_loss: 1.3926 - val_acc: 0.3847\n",
            "Epoch 34/50\n",
            " - 82s - loss: 1.2268 - acc: 0.4904 - val_loss: 1.3938 - val_acc: 0.3847\n",
            "Epoch 35/50\n",
            " - 82s - loss: 1.2205 - acc: 0.4977 - val_loss: 1.3921 - val_acc: 0.3920\n",
            "Epoch 36/50\n",
            " - 82s - loss: 1.2143 - acc: 0.5041 - val_loss: 1.3956 - val_acc: 0.3951\n",
            "Epoch 37/50\n",
            " - 81s - loss: 1.2080 - acc: 0.5036 - val_loss: 1.3890 - val_acc: 0.3938\n",
            "Epoch 38/50\n",
            " - 82s - loss: 1.2032 - acc: 0.5052 - val_loss: 1.3908 - val_acc: 0.3933\n",
            "Epoch 39/50\n",
            " - 82s - loss: 1.1969 - acc: 0.5113 - val_loss: 1.3968 - val_acc: 0.3956\n",
            "Epoch 40/50\n",
            " - 82s - loss: 1.1912 - acc: 0.5168 - val_loss: 1.3920 - val_acc: 0.3973\n",
            "Epoch 41/50\n",
            " - 82s - loss: 1.1856 - acc: 0.5178 - val_loss: 1.3882 - val_acc: 0.3984\n",
            "Epoch 42/50\n",
            " - 81s - loss: 1.1806 - acc: 0.5193 - val_loss: 1.3945 - val_acc: 0.3940\n",
            "Epoch 43/50\n",
            " - 81s - loss: 1.1776 - acc: 0.5201 - val_loss: 1.3981 - val_acc: 0.3987\n",
            "Epoch 44/50\n",
            " - 81s - loss: 1.1695 - acc: 0.5242 - val_loss: 1.3896 - val_acc: 0.4022\n",
            "Epoch 45/50\n",
            " - 82s - loss: 1.1634 - acc: 0.5308 - val_loss: 1.3914 - val_acc: 0.4027\n",
            "Epoch 46/50\n",
            " - 81s - loss: 1.1564 - acc: 0.5324 - val_loss: 1.3887 - val_acc: 0.3971\n",
            "Epoch 47/50\n",
            " - 81s - loss: 1.1517 - acc: 0.5356 - val_loss: 1.3918 - val_acc: 0.3978\n",
            "Epoch 48/50\n",
            " - 81s - loss: 1.1464 - acc: 0.5387 - val_loss: 1.3947 - val_acc: 0.3991\n",
            "Epoch 49/50\n",
            " - 81s - loss: 1.1419 - acc: 0.5376 - val_loss: 1.3942 - val_acc: 0.4049\n",
            "Epoch 50/50\n",
            " - 81s - loss: 1.1370 - acc: 0.5439 - val_loss: 1.3928 - val_acc: 0.3998\n"
          ],
          "name": "stdout"
        },
        {
          "output_type": "execute_result",
          "data": {
            "text/plain": [
              "<keras.callbacks.History at 0x7fc1fbc4a6d8>"
            ]
          },
          "metadata": {
            "tags": []
          },
          "execution_count": 97
        }
      ]
    },
    {
      "cell_type": "markdown",
      "metadata": {
        "id": "j2UNOQAwYeXd",
        "colab_type": "text"
      },
      "source": [
        "In this case quality a lot better ( accuracy = 0.405), but it still can`t overcompete Bag of words model. "
      ]
    },
    {
      "cell_type": "markdown",
      "metadata": {
        "id": "HeWRCP9IlY_G",
        "colab_type": "text"
      },
      "source": [
        "## Conclusion\n",
        "\n",
        "We try several methods tho the task o authodship attribution and get the following Accuracies:\n",
        "* 0.64 for SVM + Bag of Words with TF-IDF normalization\n",
        "* 0.65  for Naive Bayes + Bag of Words with TF-IDF normalization\n",
        "* ~ 0.3 for Word2Vec with stemming\n",
        "* 0.405 for Word2Vec without stemming\n",
        "\n",
        "What we may conclude is that standart and simple approaches show itself better than computationally hard Word2Vec. So, the accuracy shows that we solve this problem succesfully in comparasing with random guessing. But we still cannot compare this metric with State of Art approaches, because it highly depend on data. For sentence classificatiun there ara exists some obvious troubles which cannot be takcled in any case, f.i we cannot properly classify a sentence which consist of 2-3 common words which can occure in any author`s novel."
      ]
    },
    {
      "cell_type": "code",
      "metadata": {
        "id": "lpyWlkGydBLl",
        "colab_type": "code",
        "colab": {}
      },
      "source": [
        ""
      ],
      "execution_count": 0,
      "outputs": []
    }
  ]
}