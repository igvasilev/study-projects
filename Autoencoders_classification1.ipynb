{
  "nbformat": 4,
  "nbformat_minor": 0,
  "metadata": {
    "colab": {
      "name": "Autoencoders_classification1.ipynb",
      "provenance": [],
      "collapsed_sections": [
        "gjyIkB6QiS2V",
        "6pcW0PwhpYaJ"
      ],
      "machine_shape": "hm",
      "include_colab_link": true
    },
    "kernelspec": {
      "name": "python3",
      "display_name": "Python 3"
    },
    "accelerator": "GPU"
  },
  "cells": [
    {
      "cell_type": "markdown",
      "metadata": {
        "id": "view-in-github",
        "colab_type": "text"
      },
      "source": [
        "<a href=\"https://colab.research.google.com/github/igvasilev/study-projects/blob/master/Autoencoders_classification1.ipynb\" target=\"_parent\"><img src=\"https://colab.research.google.com/assets/colab-badge.svg\" alt=\"Open In Colab\"/></a>"
      ]
    },
    {
      "cell_type": "markdown",
      "metadata": {
        "id": "J_0kd2q7RkCX"
      },
      "source": [
        "# **Optimal classification using latent space generated from Autoencoders**"
      ]
    },
    {
      "cell_type": "markdown",
      "metadata": {
        "id": "tID5711fmmsQ"
      },
      "source": [
        "#### Import libs"
      ]
    },
    {
      "cell_type": "code",
      "metadata": {
        "id": "4YSUMbI3X0it",
        "colab": {
          "base_uri": "https://localhost:8080/",
          "height": 1000
        },
        "outputId": "2e2ebf35-2bb7-429d-e2bb-b063d8a0e3cf"
      },
      "source": [
        "# install tf 2.0\n",
        "!pip install tensorflow==2.0.0"
      ],
      "execution_count": null,
      "outputs": [
        {
          "output_type": "stream",
          "text": [
            "Collecting tensorflow==2.0.0\n",
            "\u001b[?25l  Downloading https://files.pythonhosted.org/packages/46/0f/7bd55361168bb32796b360ad15a25de6966c9c1beb58a8e30c01c8279862/tensorflow-2.0.0-cp36-cp36m-manylinux2010_x86_64.whl (86.3MB)\n",
            "\u001b[K     |████████████████████████████████| 86.3MB 39kB/s \n",
            "\u001b[?25hRequirement already satisfied: six>=1.10.0 in /usr/local/lib/python3.6/dist-packages (from tensorflow==2.0.0) (1.12.0)\n",
            "Requirement already satisfied: opt-einsum>=2.3.2 in /usr/local/lib/python3.6/dist-packages (from tensorflow==2.0.0) (3.2.0)\n",
            "Requirement already satisfied: protobuf>=3.6.1 in /usr/local/lib/python3.6/dist-packages (from tensorflow==2.0.0) (3.10.0)\n",
            "Requirement already satisfied: grpcio>=1.8.6 in /usr/local/lib/python3.6/dist-packages (from tensorflow==2.0.0) (1.27.2)\n",
            "Requirement already satisfied: wheel>=0.26 in /usr/local/lib/python3.6/dist-packages (from tensorflow==2.0.0) (0.34.2)\n",
            "Collecting tensorboard<2.1.0,>=2.0.0\n",
            "\u001b[?25l  Downloading https://files.pythonhosted.org/packages/76/54/99b9d5d52d5cb732f099baaaf7740403e83fe6b0cedde940fabd2b13d75a/tensorboard-2.0.2-py3-none-any.whl (3.8MB)\n",
            "\u001b[K     |████████████████████████████████| 3.8MB 38.1MB/s \n",
            "\u001b[?25hRequirement already satisfied: numpy<2.0,>=1.16.0 in /usr/local/lib/python3.6/dist-packages (from tensorflow==2.0.0) (1.18.2)\n",
            "Requirement already satisfied: keras-applications>=1.0.8 in /usr/local/lib/python3.6/dist-packages (from tensorflow==2.0.0) (1.0.8)\n",
            "Requirement already satisfied: google-pasta>=0.1.6 in /usr/local/lib/python3.6/dist-packages (from tensorflow==2.0.0) (0.2.0)\n",
            "Collecting tensorflow-estimator<2.1.0,>=2.0.0\n",
            "\u001b[?25l  Downloading https://files.pythonhosted.org/packages/fc/08/8b927337b7019c374719145d1dceba21a8bb909b93b1ad6f8fb7d22c1ca1/tensorflow_estimator-2.0.1-py2.py3-none-any.whl (449kB)\n",
            "\u001b[K     |████████████████████████████████| 450kB 44.4MB/s \n",
            "\u001b[?25hRequirement already satisfied: wrapt>=1.11.1 in /usr/local/lib/python3.6/dist-packages (from tensorflow==2.0.0) (1.12.1)\n",
            "Requirement already satisfied: astor>=0.6.0 in /usr/local/lib/python3.6/dist-packages (from tensorflow==2.0.0) (0.8.1)\n",
            "Collecting gast==0.2.2\n",
            "  Downloading https://files.pythonhosted.org/packages/4e/35/11749bf99b2d4e3cceb4d55ca22590b0d7c2c62b9de38ac4a4a7f4687421/gast-0.2.2.tar.gz\n",
            "Requirement already satisfied: keras-preprocessing>=1.0.5 in /usr/local/lib/python3.6/dist-packages (from tensorflow==2.0.0) (1.1.0)\n",
            "Requirement already satisfied: absl-py>=0.7.0 in /usr/local/lib/python3.6/dist-packages (from tensorflow==2.0.0) (0.9.0)\n",
            "Requirement already satisfied: termcolor>=1.1.0 in /usr/local/lib/python3.6/dist-packages (from tensorflow==2.0.0) (1.1.0)\n",
            "Requirement already satisfied: setuptools in /usr/local/lib/python3.6/dist-packages (from protobuf>=3.6.1->tensorflow==2.0.0) (46.0.0)\n",
            "Requirement already satisfied: werkzeug>=0.11.15 in /usr/local/lib/python3.6/dist-packages (from tensorboard<2.1.0,>=2.0.0->tensorflow==2.0.0) (1.0.0)\n",
            "Requirement already satisfied: markdown>=2.6.8 in /usr/local/lib/python3.6/dist-packages (from tensorboard<2.1.0,>=2.0.0->tensorflow==2.0.0) (3.2.1)\n",
            "Requirement already satisfied: requests<3,>=2.21.0 in /usr/local/lib/python3.6/dist-packages (from tensorboard<2.1.0,>=2.0.0->tensorflow==2.0.0) (2.21.0)\n",
            "Requirement already satisfied: google-auth-oauthlib<0.5,>=0.4.1 in /usr/local/lib/python3.6/dist-packages (from tensorboard<2.1.0,>=2.0.0->tensorflow==2.0.0) (0.4.1)\n",
            "Requirement already satisfied: google-auth<2,>=1.6.3 in /usr/local/lib/python3.6/dist-packages (from tensorboard<2.1.0,>=2.0.0->tensorflow==2.0.0) (1.7.2)\n",
            "Requirement already satisfied: h5py in /usr/local/lib/python3.6/dist-packages (from keras-applications>=1.0.8->tensorflow==2.0.0) (2.10.0)\n",
            "Requirement already satisfied: chardet<3.1.0,>=3.0.2 in /usr/local/lib/python3.6/dist-packages (from requests<3,>=2.21.0->tensorboard<2.1.0,>=2.0.0->tensorflow==2.0.0) (3.0.4)\n",
            "Requirement already satisfied: certifi>=2017.4.17 in /usr/local/lib/python3.6/dist-packages (from requests<3,>=2.21.0->tensorboard<2.1.0,>=2.0.0->tensorflow==2.0.0) (2019.11.28)\n",
            "Requirement already satisfied: urllib3<1.25,>=1.21.1 in /usr/local/lib/python3.6/dist-packages (from requests<3,>=2.21.0->tensorboard<2.1.0,>=2.0.0->tensorflow==2.0.0) (1.24.3)\n",
            "Requirement already satisfied: idna<2.9,>=2.5 in /usr/local/lib/python3.6/dist-packages (from requests<3,>=2.21.0->tensorboard<2.1.0,>=2.0.0->tensorflow==2.0.0) (2.8)\n",
            "Requirement already satisfied: requests-oauthlib>=0.7.0 in /usr/local/lib/python3.6/dist-packages (from google-auth-oauthlib<0.5,>=0.4.1->tensorboard<2.1.0,>=2.0.0->tensorflow==2.0.0) (1.3.0)\n",
            "Requirement already satisfied: rsa<4.1,>=3.1.4 in /usr/local/lib/python3.6/dist-packages (from google-auth<2,>=1.6.3->tensorboard<2.1.0,>=2.0.0->tensorflow==2.0.0) (4.0)\n",
            "Requirement already satisfied: cachetools<3.2,>=2.0.0 in /usr/local/lib/python3.6/dist-packages (from google-auth<2,>=1.6.3->tensorboard<2.1.0,>=2.0.0->tensorflow==2.0.0) (3.1.1)\n",
            "Requirement already satisfied: pyasn1-modules>=0.2.1 in /usr/local/lib/python3.6/dist-packages (from google-auth<2,>=1.6.3->tensorboard<2.1.0,>=2.0.0->tensorflow==2.0.0) (0.2.8)\n",
            "Requirement already satisfied: oauthlib>=3.0.0 in /usr/local/lib/python3.6/dist-packages (from requests-oauthlib>=0.7.0->google-auth-oauthlib<0.5,>=0.4.1->tensorboard<2.1.0,>=2.0.0->tensorflow==2.0.0) (3.1.0)\n",
            "Requirement already satisfied: pyasn1>=0.1.3 in /usr/local/lib/python3.6/dist-packages (from rsa<4.1,>=3.1.4->google-auth<2,>=1.6.3->tensorboard<2.1.0,>=2.0.0->tensorflow==2.0.0) (0.4.8)\n",
            "Building wheels for collected packages: gast\n",
            "  Building wheel for gast (setup.py) ... \u001b[?25l\u001b[?25hdone\n",
            "  Created wheel for gast: filename=gast-0.2.2-cp36-none-any.whl size=7540 sha256=120830eba0eda2855d94d95ca61a29c5f0ad45c75376b379a2e56cc4e284ce7a\n",
            "  Stored in directory: /root/.cache/pip/wheels/5c/2e/7e/a1d4d4fcebe6c381f378ce7743a3ced3699feb89bcfbdadadd\n",
            "Successfully built gast\n",
            "Installing collected packages: tensorboard, tensorflow-estimator, gast, tensorflow\n",
            "  Found existing installation: tensorboard 2.1.1\n",
            "    Uninstalling tensorboard-2.1.1:\n",
            "      Successfully uninstalled tensorboard-2.1.1\n",
            "  Found existing installation: tensorflow-estimator 2.2.0rc0\n",
            "    Uninstalling tensorflow-estimator-2.2.0rc0:\n",
            "      Successfully uninstalled tensorflow-estimator-2.2.0rc0\n",
            "  Found existing installation: gast 0.3.3\n",
            "    Uninstalling gast-0.3.3:\n",
            "      Successfully uninstalled gast-0.3.3\n",
            "  Found existing installation: tensorflow 2.2.0rc1\n",
            "    Uninstalling tensorflow-2.2.0rc1:\n",
            "      Successfully uninstalled tensorflow-2.2.0rc1\n",
            "Successfully installed gast-0.2.2 tensorboard-2.0.2 tensorflow-2.0.0 tensorflow-estimator-2.0.1\n"
          ],
          "name": "stdout"
        }
      ]
    },
    {
      "cell_type": "code",
      "metadata": {
        "id": "Er6BhwAUT9DK",
        "colab": {
          "base_uri": "https://localhost:8080/",
          "height": 34
        },
        "outputId": "c9eab729-a88c-4141-d1c4-1e7e476036cc"
      },
      "source": [
        "import datetime, os\n",
        "import tensorflow as tf\n",
        "import numpy as np\n",
        "from sklearn.model_selection import train_test_split\n",
        "\n",
        "from keras.utils import to_categorical\n",
        "from tensorflow.keras import datasets\n",
        "from tensorflow.keras.layers import BatchNormalization\n",
        "from tensorflow.keras.layers import Conv2D\n",
        "from tensorflow.keras.layers import Conv2DTranspose\n",
        "from tensorflow.keras.layers import MaxPooling2D\n",
        "from tensorflow.keras.layers import UpSampling2D\n",
        "from tensorflow.keras.layers import LeakyReLU\n",
        "from tensorflow.keras.layers import Activation\n",
        "from tensorflow.keras.layers import Flatten\n",
        "from tensorflow.keras.layers import Dense\n",
        "from tensorflow.keras.layers import Reshape\n",
        "from tensorflow.keras.layers import Input\n",
        "from tensorflow.keras.layers import Dropout\n",
        "from tensorflow.keras.models import Model\n",
        "from tensorflow.keras import backend as K\n",
        "from keras.optimizers import adam\n",
        "\n",
        "from tensorflow.python.framework import ops\n",
        "\n",
        "import matplotlib.pyplot as plt\n",
        "%matplotlib inline"
      ],
      "execution_count": null,
      "outputs": [
        {
          "output_type": "stream",
          "text": [
            "Using TensorFlow backend.\n"
          ],
          "name": "stderr"
        }
      ]
    },
    {
      "cell_type": "code",
      "metadata": {
        "id": "f_mqgYdxmVN5",
        "colab": {
          "base_uri": "https://localhost:8080/",
          "height": 34
        },
        "outputId": "8831b5fc-edb4-4f56-d6c6-fdc6293b68e5"
      },
      "source": [
        "print(tf.__version__)"
      ],
      "execution_count": null,
      "outputs": [
        {
          "output_type": "stream",
          "text": [
            "2.0.0\n"
          ],
          "name": "stdout"
        }
      ]
    },
    {
      "cell_type": "markdown",
      "metadata": {
        "id": "YYNP-6ERR1T_"
      },
      "source": [
        "#### Downloading and preprocessing"
      ]
    },
    {
      "cell_type": "code",
      "metadata": {
        "id": "weeuZZwsmk39",
        "colab": {
          "base_uri": "https://localhost:8080/",
          "height": 52
        },
        "outputId": "258165d5-9881-4930-ca12-74e8ee223a6e"
      },
      "source": [
        "mnist = datasets.mnist\n",
        "\n",
        "(train_images, y_train), (test_images, y_test) = mnist.load_data()"
      ],
      "execution_count": null,
      "outputs": [
        {
          "output_type": "stream",
          "text": [
            "Downloading data from https://storage.googleapis.com/tensorflow/tf-keras-datasets/mnist.npz\n",
            "11493376/11490434 [==============================] - 0s 0us/step\n"
          ],
          "name": "stdout"
        }
      ]
    },
    {
      "cell_type": "code",
      "metadata": {
        "id": "njZOvZu6BN4J"
      },
      "source": [
        "# add a channel dimension to every image in the dataset, then scale images to [0, 1]\n",
        "X_train = np.expand_dims(train_images, axis=-1)\n",
        "X_test = np.expand_dims(test_images, axis=-1)\n",
        "# center images\n",
        "X_train = X_train.astype(\"float32\") / 255.0 \n",
        "X_test = X_test.astype(\"float32\") / 255.0 "
      ],
      "execution_count": null,
      "outputs": []
    },
    {
      "cell_type": "markdown",
      "metadata": {
        "id": "IxuIXTed07US"
      },
      "source": [
        "#### show img"
      ]
    },
    {
      "cell_type": "code",
      "metadata": {
        "id": "N3GimEWHnO1Z"
      },
      "source": [
        "def show_image(x):\n",
        "    plt.imshow(np.clip(x + 0.5, 0, 1))"
      ],
      "execution_count": null,
      "outputs": []
    },
    {
      "cell_type": "code",
      "metadata": {
        "id": "4B-u3NBns7oO",
        "colab": {
          "base_uri": "https://localhost:8080/",
          "height": 302
        },
        "outputId": "41ab5b00-d2be-49d2-9a05-901a54c4a2d6"
      },
      "source": [
        "plt.title('sample images')\n",
        "\n",
        "for i in range(6):\n",
        "    plt.subplot(2,3,i+1)\n",
        "    show_image(X_train[i].reshape((28, 28)))\n",
        "\n",
        "print(\"X_train shape:\", X_train.shape)\n",
        "print(\"y_train shape:\", y_train.shape)\n",
        "\n"
      ],
      "execution_count": null,
      "outputs": [
        {
          "output_type": "stream",
          "text": [
            "X_train shape: (60000, 28, 28, 1)\n",
            "y_train shape: (60000,)\n"
          ],
          "name": "stdout"
        },
        {
          "output_type": "display_data",
          "data": {
            "image/png": "[encoded data removed]",
            "text/plain": [
              "<Figure size 432x288 with 6 Axes>"
            ]
          },
          "metadata": {
            "tags": []
          }
        }
      ]
    },
    {
      "cell_type": "markdown",
      "metadata": {
        "id": "iQThxW2Wtk4W"
      },
      "source": [
        "#### One hot"
      ]
    },
    {
      "cell_type": "code",
      "metadata": {
        "id": "dRDsp2swCU-L",
        "colab": {
          "base_uri": "https://localhost:8080/",
          "height": 34
        },
        "outputId": "53459b03-8131-4b7c-ade6-5913e1173a60"
      },
      "source": [
        "y_train[0]"
      ],
      "execution_count": null,
      "outputs": [
        {
          "output_type": "execute_result",
          "data": {
            "text/plain": [
              "5"
            ]
          },
          "metadata": {
            "tags": []
          },
          "execution_count": 8
        }
      ]
    },
    {
      "cell_type": "code",
      "metadata": {
        "id": "ItF5-whFDG0q",
        "colab": {
          "base_uri": "https://localhost:8080/",
          "height": 70
        },
        "outputId": "03ba9f0b-197a-4a3c-df6f-442ef21292e9"
      },
      "source": [
        "# one-hot encode the target\n",
        "y_train_oh = to_categorical(y_train, 10)\n",
        "y_test_oh = to_categorical(y_test, 10)\n",
        "\n",
        "print(\"y_train_oh shape:\", y_train_oh.shape)\n",
        "print(\"y_test_oh shape:\", y_test_oh.shape)\n",
        "y_train_oh[0]"
      ],
      "execution_count": null,
      "outputs": [
        {
          "output_type": "stream",
          "text": [
            "y_train_oh shape: (60000, 10)\n",
            "y_test_oh shape: (10000, 10)\n"
          ],
          "name": "stdout"
        },
        {
          "output_type": "execute_result",
          "data": {
            "text/plain": [
              "array([0., 0., 0., 0., 0., 1., 0., 0., 0., 0.], dtype=float32)"
            ]
          },
          "metadata": {
            "tags": []
          },
          "execution_count": 9
        }
      ]
    },
    {
      "cell_type": "markdown",
      "metadata": {
        "id": "SNwjaQ4TE7by"
      },
      "source": [
        "#### Build autoencoder"
      ]
    },
    {
      "cell_type": "markdown",
      "metadata": {
        "id": "v9mrZAxmSUpi"
      },
      "source": [
        "Our encoder and decoder parts consist of 4 layers blocks and pooling layers with batch normalization after it. Some layers can be excluded.\n",
        "\n",
        "For encoder part:\n",
        "\n",
        "**Convolutional block**\n",
        "*   Convolution layer \n",
        "*   LeakyReLu activation\n",
        "*   Dropout layer\n",
        "\n",
        "**MaxPooling block**\n",
        "* MaxPooling layer\n",
        "* BatchNormalization layer\n",
        "\n",
        "for decoder part:\n",
        "\n",
        "**Deconvolutional block**\n",
        "*   Conv2DTranspose layer \n",
        "*  LeakyReLu activation\n",
        "*   Dropout layer\n",
        "\n",
        "**UpSampling block**\n",
        "*   UpSampling2D layer\n",
        "* BatchNormalization layer\n",
        "\n",
        "We try several architectures with 1, 2 and 3 Pooling layers as we can`t use more because of the size of our images.\n",
        "\n",
        "Before each Pooling layer we will stack the same number of convolutional/deconvolutional layers"
      ]
    },
    {
      "cell_type": "code",
      "metadata": {
        "id": "KPZp6DBgEzMi"
      },
      "source": [
        "# The code based on the source: \n",
        "# https://blog.keras.io/building-autoencoders-in-keras.html\n",
        "\n",
        "def conv_block(x, f, k=(3, 3), s=1, a=0.1, drop_rate=0.25, pad=\"valid\", encoder=True):\n",
        "    # encoder\n",
        "    if encoder:\n",
        "        x = Conv2D(filters=f, kernel_size=k, strides=s, activation='elu', padding=pad)(x)\n",
        "        #x = LeakyReLU(alpha=a)(x)\n",
        "        x = Dropout(drop_rate)(x)\n",
        "    # decoder\n",
        "    else:\n",
        "        x = Conv2DTranspose(filters=f, kernel_size=k, strides=s, activation='elu', padding=pad)(x)\n",
        "        #x = LeakyReLU(alpha=a)(x)\n",
        "        x = Dropout(drop_rate)(x)   \n",
        "    return x\n",
        "\n",
        "\n",
        "\n",
        "def pooling_block(x, pool = (2, 2), pad=\"valid\", encoder=True):\n",
        "    # encoder\n",
        "    if encoder:\n",
        "        x = MaxPooling2D(pool, padding=pad)(x)\n",
        "        x = BatchNormalization(axis=-1)(x)\n",
        "    # decoder\n",
        "    else:\n",
        "        x = UpSampling2D(pool)(x)\n",
        "        x = BatchNormalization(axis=-1)(x)\n",
        "    return x\n",
        "\n",
        "\n",
        "def get_autoencoder(X, latDim):\n",
        "    # reset tf session \n",
        "    tf.keras.backend.clear_session()\n",
        "\n",
        "    # hyperparams \n",
        "    _latentDim=latDim\n",
        "\n",
        "    # define the network\n",
        "    (height, width, depth) = X.shape[1:]\n",
        "    inputShape = (height, width, depth)\n",
        "    inputs = Input(shape=inputShape)\n",
        "    x = inputs\n",
        "\n",
        "    # encoder\n",
        "\n",
        "    x = enc(x)\n",
        "\n",
        "    # flatten the network and then construct our latent vector\n",
        "    volumeSize = K.int_shape(x)\n",
        "    x = Flatten()(x)\n",
        "    latent = Dense(_latentDim)(x)\n",
        "    # build the encoder model\n",
        "    encoder = Model(inputs, latent, name=\"encoder\")\n",
        "\n",
        "    # start building the decoder model which will accept the\n",
        "    # output of the encoder as its inputs\n",
        "    latentInputs = Input(shape=(_latentDim,))\n",
        "    x = Dense(np.prod(volumeSize[1:]))(latentInputs)\n",
        "    x = Reshape((volumeSize[1], volumeSize[2], volumeSize[3]))(x)\n",
        "\n",
        "    # decoder\n",
        "    \n",
        "    x = dec(x)\n",
        "\n",
        "    # apply a single CONV_TRANSPOSE layer used to recover the\n",
        "    # original depth of the image\n",
        "    x = Conv2DTranspose(depth, (3, 3), padding=\"same\")(x)\n",
        "    outputs = Activation(\"sigmoid\")(x)\n",
        "\n",
        "    # build the decoder model\n",
        "    decoder = Model(latentInputs, outputs, name=\"decoder\")\n",
        "    # our autoencoder is the encoder + decoder\n",
        "    autoencoder = Model(inputs, decoder(encoder(inputs)), name=\"autoencoder\")\n",
        "\n",
        "    return encoder, decoder, autoencoder\n",
        "\n"
      ],
      "execution_count": null,
      "outputs": []
    },
    {
      "cell_type": "markdown",
      "metadata": {
        "id": "gjyIkB6QiS2V"
      },
      "source": [
        "#### CP"
      ]
    },
    {
      "cell_type": "code",
      "metadata": {
        "id": "EnRLt2V6tM28"
      },
      "source": [
        "# CP\n",
        "# https://medium.com/analytics-vidhya/building-a-convolutional-autoencoder-using-keras-using-conv2dtranspose-ca403c8d144e\n",
        "def enc(x):\n",
        "    x = conv_block(x, f=32, k=(5,5), pad='same')\n",
        "    x = pooling_block(x)\n",
        "\n",
        "    return x\n",
        "    \n",
        "\n",
        "def dec(x):\n",
        "    x = conv_block(x, f=32, k=(5,5), encoder=False, pad='same')\n",
        "    x = pooling_block(x, encoder=False)\n",
        "\n",
        "    return x\n"
      ],
      "execution_count": null,
      "outputs": []
    },
    {
      "cell_type": "code",
      "metadata": {
        "id": "eAofX5KDZem2"
      },
      "source": [
        "encoder, decoder, autoencoder = get_autoencoder(X_train, 16)"
      ],
      "execution_count": null,
      "outputs": []
    },
    {
      "cell_type": "code",
      "metadata": {
        "id": "rxv5nPHIZ3fc",
        "colab": {
          "base_uri": "https://localhost:8080/",
          "height": 408
        },
        "outputId": "e60d4c06-c2d1-4c2c-f06a-85052674ce93"
      },
      "source": [
        "print(encoder.summary())"
      ],
      "execution_count": null,
      "outputs": [
        {
          "output_type": "stream",
          "text": [
            "Model: \"encoder\"\n",
            "_________________________________________________________________\n",
            "Layer (type)                 Output Shape              Param #   \n",
            "=================================================================\n",
            "input_1 (InputLayer)         [(None, 28, 28, 1)]       0         \n",
            "_________________________________________________________________\n",
            "conv2d (Conv2D)              (None, 28, 28, 32)        832       \n",
            "_________________________________________________________________\n",
            "dropout (Dropout)            (None, 28, 28, 32)        0         \n",
            "_________________________________________________________________\n",
            "max_pooling2d (MaxPooling2D) (None, 14, 14, 32)        0         \n",
            "_________________________________________________________________\n",
            "batch_normalization (BatchNo (None, 14, 14, 32)        128       \n",
            "_________________________________________________________________\n",
            "flatten (Flatten)            (None, 6272)              0         \n",
            "_________________________________________________________________\n",
            "dense (Dense)                (None, 16)                100368    \n",
            "=================================================================\n",
            "Total params: 101,328\n",
            "Trainable params: 101,264\n",
            "Non-trainable params: 64\n",
            "_________________________________________________________________\n",
            "None\n"
          ],
          "name": "stdout"
        }
      ]
    },
    {
      "cell_type": "code",
      "metadata": {
        "id": "DRz_8ri5adqr",
        "colab": {
          "base_uri": "https://localhost:8080/",
          "height": 476
        },
        "outputId": "d457f692-5b0a-4267-d99b-136b8780241b"
      },
      "source": [
        "print(decoder.summary())"
      ],
      "execution_count": null,
      "outputs": [
        {
          "output_type": "stream",
          "text": [
            "Model: \"decoder\"\n",
            "_________________________________________________________________\n",
            "Layer (type)                 Output Shape              Param #   \n",
            "=================================================================\n",
            "input_2 (InputLayer)         [(None, 16)]              0         \n",
            "_________________________________________________________________\n",
            "dense_1 (Dense)              (None, 6272)              106624    \n",
            "_________________________________________________________________\n",
            "reshape (Reshape)            (None, 14, 14, 32)        0         \n",
            "_________________________________________________________________\n",
            "conv2d_transpose (Conv2DTran (None, 14, 14, 32)        25632     \n",
            "_________________________________________________________________\n",
            "dropout_1 (Dropout)          (None, 14, 14, 32)        0         \n",
            "_________________________________________________________________\n",
            "up_sampling2d (UpSampling2D) (None, 28, 28, 32)        0         \n",
            "_________________________________________________________________\n",
            "batch_normalization_1 (Batch (None, 28, 28, 32)        128       \n",
            "_________________________________________________________________\n",
            "conv2d_transpose_1 (Conv2DTr (None, 28, 28, 1)         289       \n",
            "_________________________________________________________________\n",
            "activation (Activation)      (None, 28, 28, 1)         0         \n",
            "=================================================================\n",
            "Total params: 132,673\n",
            "Trainable params: 132,609\n",
            "Non-trainable params: 64\n",
            "_________________________________________________________________\n",
            "None\n"
          ],
          "name": "stdout"
        }
      ]
    },
    {
      "cell_type": "code",
      "metadata": {
        "id": "Hm3ABWHU08cG",
        "colab": {
          "base_uri": "https://localhost:8080/",
          "height": 272
        },
        "outputId": "58861331-a4e6-4cce-e89b-b00fc4017d6f"
      },
      "source": [
        "print(autoencoder.summary())"
      ],
      "execution_count": null,
      "outputs": [
        {
          "output_type": "stream",
          "text": [
            "Model: \"autoencoder\"\n",
            "_________________________________________________________________\n",
            "Layer (type)                 Output Shape              Param #   \n",
            "=================================================================\n",
            "input_1 (InputLayer)         [(None, 28, 28, 1)]       0         \n",
            "_________________________________________________________________\n",
            "encoder (Model)              (None, 16)                101328    \n",
            "_________________________________________________________________\n",
            "decoder (Model)              (None, 28, 28, 1)         132673    \n",
            "=================================================================\n",
            "Total params: 234,001\n",
            "Trainable params: 233,873\n",
            "Non-trainable params: 128\n",
            "_________________________________________________________________\n",
            "None\n"
          ],
          "name": "stdout"
        }
      ]
    },
    {
      "cell_type": "code",
      "metadata": {
        "id": "sz7V0DGn1JZ3",
        "colab": {
          "base_uri": "https://localhost:8080/",
          "height": 51
        },
        "outputId": "7eb5f85f-f0dc-42cf-90a1-437d9d2a0288"
      },
      "source": [
        "#opt = tf.keras.optimizers.Adam(learning_rate=0.0001)\n",
        "autoencoder.compile(optimizer='adam', loss=\"mse\")\n",
        "\n",
        "# Load the TensorBoard notebook extension\n",
        "%load_ext tensorboard\n",
        "\n",
        "logdir = os.path.join(\"logs\", datetime.datetime.now().strftime(\"%Y%m%d-%H%M%S\"))\n",
        "tensorboard_callback = tf.keras.callbacks.TensorBoard(logdir, histogram_freq=1)"
      ],
      "execution_count": null,
      "outputs": [
        {
          "output_type": "stream",
          "text": [
            "The tensorboard extension is already loaded. To reload it, use:\n",
            "  %reload_ext tensorboard\n"
          ],
          "name": "stdout"
        }
      ]
    },
    {
      "cell_type": "code",
      "metadata": {
        "id": "5pkOeteyCYi4",
        "colab": {
          "base_uri": "https://localhost:8080/",
          "height": 374
        },
        "outputId": "255961b0-31cd-4501-dd0e-99e682b5209e"
      },
      "source": [
        "from keras.callbacks import TensorBoard\n",
        "\n",
        "history = autoencoder.fit(X_train, X_train,\n",
        "                epochs=10,\n",
        "                batch_size=64,\n",
        "                shuffle=True,\n",
        "                validation_data=(X_test, X_test),\n",
        "                callbacks=[tensorboard_callback])"
      ],
      "execution_count": null,
      "outputs": [
        {
          "output_type": "stream",
          "text": [
            "Train on 60000 samples, validate on 10000 samples\n",
            "Epoch 1/10\n",
            "60000/60000 [==============================] - 235s 4ms/sample - loss: 0.0311 - val_loss: 0.0176\n",
            "Epoch 2/10\n",
            "60000/60000 [==============================] - 227s 4ms/sample - loss: 0.0151 - val_loss: 0.0146\n",
            "Epoch 3/10\n",
            "60000/60000 [==============================] - 224s 4ms/sample - loss: 0.0140 - val_loss: 0.0140\n",
            "Epoch 4/10\n",
            "60000/60000 [==============================] - 224s 4ms/sample - loss: 0.0135 - val_loss: 0.0151\n",
            "Epoch 5/10\n",
            "60000/60000 [==============================] - 224s 4ms/sample - loss: 0.0132 - val_loss: 0.0139\n",
            "Epoch 6/10\n",
            "60000/60000 [==============================] - 223s 4ms/sample - loss: 0.0130 - val_loss: 0.0137\n",
            "Epoch 7/10\n",
            "60000/60000 [==============================] - 230s 4ms/sample - loss: 0.0128 - val_loss: 0.0138\n",
            "Epoch 8/10\n",
            "60000/60000 [==============================] - 230s 4ms/sample - loss: 0.0127 - val_loss: 0.0139\n",
            "Epoch 9/10\n",
            "60000/60000 [==============================] - 232s 4ms/sample - loss: 0.0126 - val_loss: 0.0137\n",
            "Epoch 10/10\n",
            "60000/60000 [==============================] - 230s 4ms/sample - loss: 0.0125 - val_loss: 0.0134\n"
          ],
          "name": "stdout"
        }
      ]
    },
    {
      "cell_type": "code",
      "metadata": {
        "id": "9vfEjVY8DL9A",
        "colab": {
          "base_uri": "https://localhost:8080/",
          "height": 295
        },
        "outputId": "09d9756a-4bf2-4f53-f246-78050838c368"
      },
      "source": [
        "# Plot training & validation loss values\n",
        "plt.plot(history.history['loss'])\n",
        "plt.plot(history.history['val_loss'])\n",
        "plt.title('Model loss')\n",
        "plt.ylabel('Loss')\n",
        "plt.xlabel('Epoch')\n",
        "plt.legend(['Train', 'Test'], loc='upper left')\n",
        "plt.show()"
      ],
      "execution_count": null,
      "outputs": [
        {
          "output_type": "display_data",
          "data": {
            "image/png": "[encoded data removed]",
            "text/plain": [
              "<Figure size 432x288 with 1 Axes>"
            ]
          },
          "metadata": {
            "tags": []
          }
        }
      ]
    },
    {
      "cell_type": "code",
      "metadata": {
        "id": "Xt8b_rP6Co0u"
      },
      "source": [
        "# save trained weights\n",
        "encoder.save_weights(\"encoderCP32.h5\")\n",
        "decoder.save_weights(\"decoderCP32.h5\")"
      ],
      "execution_count": null,
      "outputs": []
    },
    {
      "cell_type": "code",
      "metadata": {
        "id": "oHQSb_gIuq8T"
      },
      "source": [
        "encoder.load_weights(\"encoderCP32.h5\")\n",
        "decoder.load_weights(\"decoderCP32.h5\")"
      ],
      "execution_count": null,
      "outputs": []
    },
    {
      "cell_type": "code",
      "metadata": {
        "id": "sXOMZ_E3O6F7",
        "colab": {
          "base_uri": "https://localhost:8080/",
          "height": 248
        },
        "outputId": "f3b9bd23-8078-4f14-9825-daed873a79e4"
      },
      "source": [
        "decoded_imgs = autoencoder.predict(X_test)\n",
        "\n",
        "n = 10\n",
        "plt.figure(figsize=(20, 4))\n",
        "for i in range(1,n+1):\n",
        "    # display original\n",
        "    ax = plt.subplot(2, n, i)%alias_magi\n",
        "    plt.imshow(X_test[i].reshape(28, 28))\n",
        "    plt.gray()\n",
        "    ax.get_xaxis().set_visible(False)\n",
        "    ax.get_yaxis().set_visible(False)\n",
        "\n",
        "    # display reconstruction\n",
        "    ax = plt.subplot(2, n, i + n)\n",
        "    plt.imshow(decoded_imgs[i].reshape(28, 28))\n",
        "    plt.gray()\n",
        "    ax.get_xaxis().set_visible(False)\n",
        "    ax.get_yaxis().set_visible(False)\n",
        "plt.show()"
      ],
      "execution_count": null,
      "outputs": [
        {
          "output_type": "display_data",
          "data": {
            "image/png": "[encoded data removed]",
            "text/plain": [
              "<Figure size 1440x288 with 20 Axes>"
            ]
          },
          "metadata": {
            "tags": []
          }
        }
      ]
    },
    {
      "cell_type": "markdown",
      "metadata": {
        "id": "6pcW0PwhpYaJ"
      },
      "source": [
        "Next we will try the following architecture:\n",
        "#### CCCP"
      ]
    },
    {
      "cell_type": "code",
      "metadata": {
        "id": "a8K78tzYPRp-"
      },
      "source": [
        "\n",
        "def enc(x):\n",
        "    x = conv_block(x, f=32, k=(5,5), pad='same')\n",
        "    x = conv_block(x, f=16, pad='same')\n",
        "    x = conv_block(x, f=16, pad='same')\n",
        "    x = pooling_block(x)\n",
        "\n",
        "    return x\n",
        "    \n",
        "\n",
        "def dec(x):\n",
        "    x = pooling_block(x, encoder=False)\n",
        "    x = conv_block(x, f=16, encoder=False, pad='same')\n",
        "    x = conv_block(x, f=16, encoder=False, pad='same')\n",
        "    x = conv_block(x, f=32, k=(5,5), encoder=False, pad='same')\n",
        "\n",
        "    return x\n"
      ],
      "execution_count": null,
      "outputs": []
    },
    {
      "cell_type": "code",
      "metadata": {
        "id": "zX4oQdtz8ef0",
        "colab": {
          "base_uri": "https://localhost:8080/",
          "height": 1000
        },
        "outputId": "428b02bb-f61c-46f3-da03-da657260a7af"
      },
      "source": [
        "encoder, decoder, autoencoder = get_autoencoder(X_train, 16)\n",
        "print(encoder.summary())\n",
        "print(decoder.summary())\n",
        "print(autoencoder.summary())"
      ],
      "execution_count": null,
      "outputs": [
        {
          "output_type": "stream",
          "text": [
            "Model: \"encoder\"\n",
            "_________________________________________________________________\n",
            "Layer (type)                 Output Shape              Param #   \n",
            "=================================================================\n",
            "input_1 (InputLayer)         [(None, 28, 28, 1)]       0         \n",
            "_________________________________________________________________\n",
            "conv2d (Conv2D)              (None, 28, 28, 32)        832       \n",
            "_________________________________________________________________\n",
            "dropout (Dropout)            (None, 28, 28, 32)        0         \n",
            "_________________________________________________________________\n",
            "conv2d_1 (Conv2D)            (None, 28, 28, 16)        4624      \n",
            "_________________________________________________________________\n",
            "dropout_1 (Dropout)          (None, 28, 28, 16)        0         \n",
            "_________________________________________________________________\n",
            "conv2d_2 (Conv2D)            (None, 28, 28, 16)        2320      \n",
            "_________________________________________________________________\n",
            "dropout_2 (Dropout)          (None, 28, 28, 16)        0         \n",
            "_________________________________________________________________\n",
            "max_pooling2d (MaxPooling2D) (None, 14, 14, 16)        0         \n",
            "_________________________________________________________________\n",
            "batch_normalization (BatchNo (None, 14, 14, 16)        64        \n",
            "_________________________________________________________________\n",
            "flatten (Flatten)            (None, 3136)              0         \n",
            "_________________________________________________________________\n",
            "dense (Dense)                (None, 16)                50192     \n",
            "=================================================================\n",
            "Total params: 58,032\n",
            "Trainable params: 58,000\n",
            "Non-trainable params: 32\n",
            "_________________________________________________________________\n",
            "None\n",
            "Model: \"decoder\"\n",
            "_________________________________________________________________\n",
            "Layer (type)                 Output Shape              Param #   \n",
            "=================================================================\n",
            "input_2 (InputLayer)         [(None, 16)]              0         \n",
            "_________________________________________________________________\n",
            "dense_1 (Dense)              (None, 3136)              53312     \n",
            "_________________________________________________________________\n",
            "reshape (Reshape)            (None, 14, 14, 16)        0         \n",
            "_________________________________________________________________\n",
            "up_sampling2d (UpSampling2D) (None, 28, 28, 16)        0         \n",
            "_________________________________________________________________\n",
            "batch_normalization_1 (Batch (None, 28, 28, 16)        64        \n",
            "_________________________________________________________________\n",
            "conv2d_transpose (Conv2DTran (None, 28, 28, 16)        2320      \n",
            "_________________________________________________________________\n",
            "dropout_3 (Dropout)          (None, 28, 28, 16)        0         \n",
            "_________________________________________________________________\n",
            "conv2d_transpose_1 (Conv2DTr (None, 28, 28, 16)        2320      \n",
            "_________________________________________________________________\n",
            "dropout_4 (Dropout)          (None, 28, 28, 16)        0         \n",
            "_________________________________________________________________\n",
            "conv2d_transpose_2 (Conv2DTr (None, 28, 28, 32)        12832     \n",
            "_________________________________________________________________\n",
            "dropout_5 (Dropout)          (None, 28, 28, 32)        0         \n",
            "_________________________________________________________________\n",
            "conv2d_transpose_3 (Conv2DTr (None, 28, 28, 1)         289       \n",
            "_________________________________________________________________\n",
            "activation (Activation)      (None, 28, 28, 1)         0         \n",
            "=================================================================\n",
            "Total params: 71,137\n",
            "Trainable params: 71,105\n",
            "Non-trainable params: 32\n",
            "_________________________________________________________________\n",
            "None\n",
            "Model: \"autoencoder\"\n",
            "_________________________________________________________________\n",
            "Layer (type)                 Output Shape              Param #   \n",
            "=================================================================\n",
            "input_1 (InputLayer)         [(None, 28, 28, 1)]       0         \n",
            "_________________________________________________________________\n",
            "encoder (Model)              (None, 16)                58032     \n",
            "_________________________________________________________________\n",
            "decoder (Model)              (None, 28, 28, 1)         71137     \n",
            "=================================================================\n",
            "Total params: 129,169\n",
            "Trainable params: 129,105\n",
            "Non-trainable params: 64\n",
            "_________________________________________________________________\n",
            "None\n"
          ],
          "name": "stdout"
        }
      ]
    },
    {
      "cell_type": "code",
      "metadata": {
        "id": "FJkt4rps2X1V",
        "colab": {
          "base_uri": "https://localhost:8080/",
          "height": 374
        },
        "outputId": "0497b8fa-021f-4d9b-803d-4ae9f92985e7"
      },
      "source": [
        "\n",
        "autoencoder.compile(optimizer='adam', loss=\"mse\")\n",
        "history = autoencoder.fit(X_train, X_train,\n",
        "                epochs=10,\n",
        "                batch_size=64,\n",
        "                shuffle=True,\n",
        "                validation_data=(X_test, X_test),\n",
        "                callbacks=[tensorboard_callback])"
      ],
      "execution_count": null,
      "outputs": [
        {
          "output_type": "stream",
          "text": [
            "Train on 60000 samples, validate on 10000 samples\n",
            "Epoch 1/10\n",
            "60000/60000 [==============================] - 638s 11ms/sample - loss: 0.0205 - val_loss: 0.0124\n",
            "Epoch 2/10\n",
            "60000/60000 [==============================] - 631s 11ms/sample - loss: 0.0128 - val_loss: 0.0129\n",
            "Epoch 3/10\n",
            "60000/60000 [==============================] - 642s 11ms/sample - loss: 0.0115 - val_loss: 0.0130\n",
            "Epoch 4/10\n",
            "60000/60000 [==============================] - 643s 11ms/sample - loss: 0.0107 - val_loss: 0.0121\n",
            "Epoch 5/10\n",
            "60000/60000 [==============================] - 636s 11ms/sample - loss: 0.0103 - val_loss: 0.0123\n",
            "Epoch 6/10\n",
            "60000/60000 [==============================] - 638s 11ms/sample - loss: 0.0100 - val_loss: 0.0117\n",
            "Epoch 7/10\n",
            "60000/60000 [==============================] - 634s 11ms/sample - loss: 0.0098 - val_loss: 0.0126\n",
            "Epoch 8/10\n",
            "60000/60000 [==============================] - 637s 11ms/sample - loss: 0.0096 - val_loss: 0.0109\n",
            "Epoch 9/10\n",
            "60000/60000 [==============================] - 639s 11ms/sample - loss: 0.0094 - val_loss: 0.0123\n",
            "Epoch 10/10\n",
            "60000/60000 [==============================] - 638s 11ms/sample - loss: 0.0093 - val_loss: 0.0118\n"
          ],
          "name": "stdout"
        }
      ]
    },
    {
      "cell_type": "code",
      "metadata": {
        "id": "UFuySYe02oTD",
        "colab": {
          "base_uri": "https://localhost:8080/",
          "height": 295
        },
        "outputId": "5a022b4e-4998-4546-ec54-403edb6198b9"
      },
      "source": [
        "# Plot training & validation loss values\n",
        "plt.plot(history.history['loss'])\n",
        "plt.plot(history.history['val_loss'])\n",
        "plt.title('Model loss')\n",
        "plt.ylabel('Loss')\n",
        "plt.xlabel('Epoch')\n",
        "plt.legend(['Train', 'Test'], loc='upper left')\n",
        "plt.show()"
      ],
      "execution_count": null,
      "outputs": [
        {
          "output_type": "display_data",
          "data": {
            "image/png": "[encoded data removed]",
            "text/plain": [
              "<Figure size 432x288 with 1 Axes>"
            ]
          },
          "metadata": {
            "tags": []
          }
        }
      ]
    },
    {
      "cell_type": "code",
      "metadata": {
        "id": "ZGbaQwT32s3T"
      },
      "source": [
        "# save trained weights\n",
        "encoder.save_weights(\"encoderCCCP.h5\")\n",
        "decoder.save_weights(\"decoderCCCP.h5\")"
      ],
      "execution_count": null,
      "outputs": []
    },
    {
      "cell_type": "markdown",
      "metadata": {
        "id": "BUCT0__a0JSP"
      },
      "source": [
        "#### CCCCCP"
      ]
    },
    {
      "cell_type": "code",
      "metadata": {
        "id": "A0bhmhFY24PP"
      },
      "source": [
        "!nvidia-smi"
      ],
      "execution_count": null,
      "outputs": []
    },
    {
      "cell_type": "code",
      "metadata": {
        "id": "oY7iCYhlPwfN",
        "colab": {
          "base_uri": "https://localhost:8080/",
          "height": 1000
        },
        "outputId": "fbe9eba1-8733-4c21-f9a4-4ed0009c1172"
      },
      "source": [
        "\n",
        "def enc(x):\n",
        "    x = conv_block(x, f=32, k=(5,5), pad='same')\n",
        "    x = conv_block(x, f=32, pad='same')\n",
        "    x = conv_block(x, f=16, pad='same')\n",
        "    x = conv_block(x, f=16, pad='same')\n",
        "    x = conv_block(x, f=16, pad='same')\n",
        "    x = pooling_block(x)\n",
        "\n",
        "    return x\n",
        "    \n",
        "\n",
        "def dec(x):\n",
        "    x = pooling_block(x, encoder=False)\n",
        "    x = conv_block(x, f=16, encoder=False, pad='same')\n",
        "    x = conv_block(x, f=16, encoder=False, pad='same')\n",
        "    x = conv_block(x, f=16, encoder=False, pad='same')\n",
        "    x = conv_block(x, f=32, encoder=False, pad='same')\n",
        "    x = conv_block(x, f=32, k=(5,5), encoder=False, pad='same')\n",
        "\n",
        "    return x\n",
        "\n",
        "\n",
        "encoder, decoder, autoencoder = get_autoencoder(X_train, 16)\n",
        "print(encoder.summary())\n",
        "print(decoder.summary())\n",
        "print(autoencoder.summary())"
      ],
      "execution_count": null,
      "outputs": [
        {
          "output_type": "stream",
          "text": [
            "Model: \"encoder\"\n",
            "_________________________________________________________________\n",
            "Layer (type)                 Output Shape              Param #   \n",
            "=================================================================\n",
            "input_1 (InputLayer)         [(None, 28, 28, 1)]       0         \n",
            "_________________________________________________________________\n",
            "conv2d (Conv2D)              (None, 28, 28, 32)        832       \n",
            "_________________________________________________________________\n",
            "dropout (Dropout)            (None, 28, 28, 32)        0         \n",
            "_________________________________________________________________\n",
            "conv2d_1 (Conv2D)            (None, 28, 28, 32)        9248      \n",
            "_________________________________________________________________\n",
            "dropout_1 (Dropout)          (None, 28, 28, 32)        0         \n",
            "_________________________________________________________________\n",
            "conv2d_2 (Conv2D)            (None, 28, 28, 16)        4624      \n",
            "_________________________________________________________________\n",
            "dropout_2 (Dropout)          (None, 28, 28, 16)        0         \n",
            "_________________________________________________________________\n",
            "conv2d_3 (Conv2D)            (None, 28, 28, 16)        2320      \n",
            "_________________________________________________________________\n",
            "dropout_3 (Dropout)          (None, 28, 28, 16)        0         \n",
            "_________________________________________________________________\n",
            "conv2d_4 (Conv2D)            (None, 28, 28, 16)        2320      \n",
            "_________________________________________________________________\n",
            "dropout_4 (Dropout)          (None, 28, 28, 16)        0         \n",
            "_________________________________________________________________\n",
            "max_pooling2d (MaxPooling2D) (None, 14, 14, 16)        0         \n",
            "_________________________________________________________________\n",
            "batch_normalization (BatchNo (None, 14, 14, 16)        64        \n",
            "_________________________________________________________________\n",
            "flatten (Flatten)            (None, 3136)              0         \n",
            "_________________________________________________________________\n",
            "dense (Dense)                (None, 16)                50192     \n",
            "=================================================================\n",
            "Total params: 69,600\n",
            "Trainable params: 69,568\n",
            "Non-trainable params: 32\n",
            "_________________________________________________________________\n",
            "None\n",
            "Model: \"decoder\"\n",
            "_________________________________________________________________\n",
            "Layer (type)                 Output Shape              Param #   \n",
            "=================================================================\n",
            "input_2 (InputLayer)         [(None, 16)]              0         \n",
            "_________________________________________________________________\n",
            "dense_1 (Dense)              (None, 3136)              53312     \n",
            "_________________________________________________________________\n",
            "reshape (Reshape)            (None, 14, 14, 16)        0         \n",
            "_________________________________________________________________\n",
            "up_sampling2d (UpSampling2D) (None, 28, 28, 16)        0         \n",
            "_________________________________________________________________\n",
            "batch_normalization_1 (Batch (None, 28, 28, 16)        64        \n",
            "_________________________________________________________________\n",
            "conv2d_transpose (Conv2DTran (None, 28, 28, 16)        2320      \n",
            "_________________________________________________________________\n",
            "dropout_5 (Dropout)          (None, 28, 28, 16)        0         \n",
            "_________________________________________________________________\n",
            "conv2d_transpose_1 (Conv2DTr (None, 28, 28, 16)        2320      \n",
            "_________________________________________________________________\n",
            "dropout_6 (Dropout)          (None, 28, 28, 16)        0         \n",
            "_________________________________________________________________\n",
            "conv2d_transpose_2 (Conv2DTr (None, 28, 28, 16)        2320      \n",
            "_________________________________________________________________\n",
            "dropout_7 (Dropout)          (None, 28, 28, 16)        0         \n",
            "_________________________________________________________________\n",
            "conv2d_transpose_3 (Conv2DTr (None, 28, 28, 32)        4640      \n",
            "_________________________________________________________________\n",
            "dropout_8 (Dropout)          (None, 28, 28, 32)        0         \n",
            "_________________________________________________________________\n",
            "conv2d_transpose_4 (Conv2DTr (None, 28, 28, 32)        25632     \n",
            "_________________________________________________________________\n",
            "dropout_9 (Dropout)          (None, 28, 28, 32)        0         \n",
            "_________________________________________________________________\n",
            "conv2d_transpose_5 (Conv2DTr (None, 28, 28, 1)         289       \n",
            "_________________________________________________________________\n",
            "activation (Activation)      (None, 28, 28, 1)         0         \n",
            "=================================================================\n",
            "Total params: 90,897\n",
            "Trainable params: 90,865\n",
            "Non-trainable params: 32\n",
            "_________________________________________________________________\n",
            "None\n",
            "Model: \"autoencoder\"\n",
            "_________________________________________________________________\n",
            "Layer (type)                 Output Shape              Param #   \n",
            "=================================================================\n",
            "input_1 (InputLayer)         [(None, 28, 28, 1)]       0         \n",
            "_________________________________________________________________\n",
            "encoder (Model)              (None, 16)                69600     \n",
            "_________________________________________________________________\n",
            "decoder (Model)              (None, 28, 28, 1)         90897     \n",
            "=================================================================\n",
            "Total params: 160,497\n",
            "Trainable params: 160,433\n",
            "Non-trainable params: 64\n",
            "_________________________________________________________________\n",
            "None\n"
          ],
          "name": "stdout"
        }
      ]
    },
    {
      "cell_type": "markdown",
      "metadata": {
        "id": "KXOnbkhU0kGO"
      },
      "source": [
        "#### train"
      ]
    },
    {
      "cell_type": "code",
      "metadata": {
        "id": "v6-lsQWj0a9R",
        "colab": {
          "base_uri": "https://localhost:8080/",
          "height": 399
        },
        "outputId": "e9a4b419-b483-4e49-d66a-6def7c7d2b25"
      },
      "source": [
        "from keras.callbacks import ModelCheckpoint\n",
        "filepath = 'c5p.{epoch:02d}-{val_loss:.2f}.hdf5' \n",
        "checkpoint_callback = ModelCheckpoint(filepath, \n",
        "                                          monitor='val_loss', \n",
        "                                          verbose=0, \n",
        "                                          save_best_only=False, \n",
        "                                          save_weights_only=False, \n",
        "                                          mode='auto', \n",
        "                                          period=1)\n",
        "\n",
        "autoencoder.compile(optimizer='adam', loss=\"mse\")\n",
        "history = autoencoder.fit(X_train, X_train,\n",
        "                epochs=10,\n",
        "                batch_size=64,\n",
        "                shuffle=True,\n",
        "                validation_data=(X_test, X_test),\n",
        "                callbacks=[checkpoint_callback])"
      ],
      "execution_count": null,
      "outputs": [
        {
          "output_type": "stream",
          "text": [
            "Train on 60000 samples, validate on 10000 samples\n",
            "Epoch 1/10\n",
            "60000/60000 [==============================] - 914s 15ms/sample - loss: 0.0211 - val_loss: 0.0180\n",
            "Epoch 2/10\n",
            "60000/60000 [==============================] - 934s 16ms/sample - loss: 0.0129 - val_loss: 0.0165\n",
            "Epoch 3/10\n",
            "60000/60000 [==============================] - 958s 16ms/sample - loss: 0.0115 - val_loss: 0.0128\n",
            "Epoch 4/10\n",
            "60000/60000 [==============================] - 941s 16ms/sample - loss: 0.0108 - val_loss: 0.0101\n",
            "Epoch 5/10\n",
            "60000/60000 [==============================] - 949s 16ms/sample - loss: 0.0103 - val_loss: 0.0091\n",
            "Epoch 6/10\n",
            "60000/60000 [==============================] - 908s 15ms/sample - loss: 0.0099 - val_loss: 0.0125\n",
            "Epoch 7/10\n",
            "60000/60000 [==============================] - 882s 15ms/sample - loss: 0.0097 - val_loss: 0.0095\n",
            "Epoch 8/10\n",
            "60000/60000 [==============================] - 874s 15ms/sample - loss: 0.0095 - val_loss: 0.0117\n",
            "Epoch 9/10\n",
            "60000/60000 [==============================] - 878s 15ms/sample - loss: 0.0093 - val_loss: 0.0105\n",
            "Epoch 10/10\n",
            "60000/60000 [==============================] - 861s 14ms/sample - loss: 0.0091 - val_loss: 0.0096\n"
          ],
          "name": "stdout"
        }
      ]
    },
    {
      "cell_type": "code",
      "metadata": {
        "id": "ZRRFg0WA0jAJ",
        "colab": {
          "base_uri": "https://localhost:8080/",
          "height": 295
        },
        "outputId": "ad72e6c8-f0a2-4ebf-e8df-896165dce92e"
      },
      "source": [
        "# Plot training & validation loss values\n",
        "plt.plot(history.history['loss'])\n",
        "plt.plot(history.history['val_loss'])\n",
        "plt.title('Model loss')\n",
        "plt.ylabel('Loss')\n",
        "plt.xlabel('Epoch')\n",
        "plt.legend(['Train', 'Test'], loc='upper left')\n",
        "plt.show()"
      ],
      "execution_count": null,
      "outputs": [
        {
          "output_type": "display_data",
          "data": {
            "image/png": "[encoded data removed]",
            "text/plain": [
              "<Figure size 432x288 with 1 Axes>"
            ]
          },
          "metadata": {
            "tags": []
          }
        }
      ]
    },
    {
      "cell_type": "code",
      "metadata": {
        "id": "tMK46BrwF9jc"
      },
      "source": [
        "# save trained weights\n",
        "encoder.save_weights(\"encoderC5Pn.h5\")\n",
        "decoder.save_weights(\"decoderC5Pn.h5\")"
      ],
      "execution_count": null,
      "outputs": []
    },
    {
      "cell_type": "code",
      "metadata": {
        "id": "llYr6hU3GCzB",
        "colab": {
          "base_uri": "https://localhost:8080/",
          "height": 199
        },
        "outputId": "cc1ef8a3-de54-4fef-c9e9-e9cde5fb76ee"
      },
      "source": [
        "history.history['loss']"
      ],
      "execution_count": null,
      "outputs": [
        {
          "output_type": "execute_result",
          "data": {
            "text/plain": [
              "[0.021051022423803807,\n",
              " 0.012896086039642493,\n",
              " 0.011479641603430112,\n",
              " 0.010753178441524505,\n",
              " 0.010253456122179826,\n",
              " 0.009916977054377397,\n",
              " 0.009661606386800607,\n",
              " 0.00946804311722517,\n",
              " 0.00928199070096016,\n",
              " 0.009135228453079859]"
            ]
          },
          "metadata": {
            "tags": []
          },
          "execution_count": 17
        }
      ]
    },
    {
      "cell_type": "code",
      "metadata": {
        "id": "1GUZu_InGK1m",
        "colab": {
          "base_uri": "https://localhost:8080/",
          "height": 199
        },
        "outputId": "379651e4-1db4-4775-9dea-12a0753eafa0"
      },
      "source": [
        "history.history['val_loss']"
      ],
      "execution_count": null,
      "outputs": [
        {
          "output_type": "execute_result",
          "data": {
            "text/plain": [
              "[0.01801843265593052,\n",
              " 0.01652120060324669,\n",
              " 0.012833324824273587,\n",
              " 0.010120439016819,\n",
              " 0.009145584054291249,\n",
              " 0.012532455909252166,\n",
              " 0.009534376600384711,\n",
              " 0.011747875946760177,\n",
              " 0.010471012397110463,\n",
              " 0.009646200849115848]"
            ]
          },
          "metadata": {
            "tags": []
          },
          "execution_count": 18
        }
      ]
    },
    {
      "cell_type": "markdown",
      "metadata": {
        "id": "P1lJzo1e0q2c"
      },
      "source": [
        "#### load"
      ]
    },
    {
      "cell_type": "code",
      "metadata": {
        "id": "TmZu_tpfGL-V"
      },
      "source": [
        "encoder.load_weights(\"encoderC5Pn.h5\")\n",
        "decoder.load_weights(\"decoderC5Pn.h5\")"
      ],
      "execution_count": null,
      "outputs": []
    },
    {
      "cell_type": "code",
      "metadata": {
        "id": "jMK-wgM93Vns",
        "colab": {
          "base_uri": "https://localhost:8080/",
          "height": 229
        },
        "outputId": "4233c640-f81b-4fb6-f446-15e8e5e2a7f8"
      },
      "source": [
        "decoded_imgs = autoencoder.predict(X_test)\n",
        "\n",
        "n = 10\n",
        "plt.figure(figsize=(20, 4))\n",
        "for i in range(1,n+1):\n",
        "    # display original\n",
        "    ax = plt.subplot(2, n, i)\n",
        "    plt.imshow(X_test[i].reshape(28, 28))\n",
        "    plt.gray()\n",
        "    ax.get_xaxis().set_visible(False)\n",
        "    ax.get_yaxis().set_visible(False)\n",
        "\n",
        "    # display reconstruction\n",
        "    ax = plt.subplot(2, n, i + n)\n",
        "    plt.imshow(decoded_imgs[i].reshape(28, 28))\n",
        "    plt.gray()\n",
        "    ax.get_xaxis().set_visible(False)\n",
        "    ax.get_yaxis().set_visible(False)\n",
        "plt.show()"
      ],
      "execution_count": null,
      "outputs": [
        {
          "output_type": "display_data",
          "data": {
            "image/png": "[encoded data removed]",
            "text/plain": [
              "<Figure size 1440x288 with 20 Axes>"
            ]
          },
          "metadata": {
            "tags": []
          }
        }
      ]
    },
    {
      "cell_type": "code",
      "metadata": {
        "id": "bHAb-XXa47M-",
        "colab": {
          "base_uri": "https://localhost:8080/",
          "height": 283
        },
        "outputId": "14c0f472-0744-42b5-fd15-4d92f5745e30"
      },
      "source": [
        "n=0\n",
        "for layer in encoder.layers:\n",
        "    print('idx:', n, 'layer:', layer)\n",
        "    n += 1"
      ],
      "execution_count": null,
      "outputs": [
        {
          "output_type": "stream",
          "text": [
            "idx: 0 layer: <tensorflow.python.keras.engine.input_layer.InputLayer object at 0x7f01f8d0bc18>\n",
            "idx: 1 layer: <tensorflow.python.keras.layers.convolutional.Conv2D object at 0x7f01e80149e8>\n",
            "idx: 2 layer: <tensorflow.python.keras.layers.core.Dropout object at 0x7f0216efa400>\n",
            "idx: 3 layer: <tensorflow.python.keras.layers.convolutional.Conv2D object at 0x7f01e77df4a8>\n",
            "idx: 4 layer: <tensorflow.python.keras.layers.core.Dropout object at 0x7f01dff9abe0>\n",
            "idx: 5 layer: <tensorflow.python.keras.layers.convolutional.Conv2D object at 0x7f01dff9a358>\n",
            "idx: 6 layer: <tensorflow.python.keras.layers.core.Dropout object at 0x7f01dff60fd0>\n",
            "idx: 7 layer: <tensorflow.python.keras.layers.convolutional.Conv2D object at 0x7f01dff60e48>\n",
            "idx: 8 layer: <tensorflow.python.keras.layers.core.Dropout object at 0x7f01dfebc748>\n",
            "idx: 9 layer: <tensorflow.python.keras.layers.convolutional.Conv2D object at 0x7f01dff20c50>\n",
            "idx: 10 layer: <tensorflow.python.keras.layers.core.Dropout object at 0x7f01dfe7ccc0>\n",
            "idx: 11 layer: <tensorflow.python.keras.layers.pooling.MaxPooling2D object at 0x7f01dfe7c978>\n",
            "idx: 12 layer: <tensorflow.python.keras.layers.normalization_v2.BatchNormalization object at 0x7f021fa2fe10>\n",
            "idx: 13 layer: <tensorflow.python.keras.layers.core.Flatten object at 0x7f01dfe4f6a0>\n",
            "idx: 14 layer: <tensorflow.python.keras.layers.core.Dense object at 0x7f01dfe4f5c0>\n"
          ],
          "name": "stdout"
        }
      ]
    },
    {
      "cell_type": "code",
      "metadata": {
        "id": "jL8TZf3Hx5ne"
      },
      "source": [
        "# input, conv1, conv2, conv3, conv4, conv5, flatten and dense(16) - bottleneck\n",
        "#n_layers = [0, 1, 3, 5, 7, 9, 13, 14]\n",
        "#layers = []\n",
        "#for i in n_layers:\n",
        "    #layers.append(encoder.layers[i])\n",
        "\n",
        "#UPD: As it doesn`t suits into memory, I choose to take only 4-5 representative layers:\n",
        "#\n",
        "#UPD: This number of layers also has crushed Colab, reduce to 3-4\n",
        "n_layers = [0, 7, 13, 14]\n",
        "layers = []\n",
        "for i in n_layers:\n",
        "    layers.append(encoder.layers[i])\n"
      ],
      "execution_count": null,
      "outputs": []
    },
    {
      "cell_type": "code",
      "metadata": {
        "id": "aexrU3M8yIFj"
      },
      "source": [
        "# k.learning_phase() raise an error in tf2.0, so this import fix this problem\n",
        "from tensorflow.python.keras import backend as K\n",
        "\n",
        "inp = encoder.input                                           # input placeholder\n",
        "outputs = [Flatten()(layer.output) for layer in layers]          # all layer outputs\n",
        "functor = K.function([inp, K.symbolic_learning_phase()], outputs)   # evaluation function\n",
        "\n",
        "\n",
        "# Train\n",
        "train = X_train\n",
        "X_train_list = functor([train, False])\n",
        "\n",
        "# Testing\n",
        "test = X_test\n",
        "# To simulate Dropout use learning_phase as 1. in layer_outs otherwise use 0.\n",
        "X_test_list = functor([test, False])"
      ],
      "execution_count": null,
      "outputs": []
    },
    {
      "cell_type": "code",
      "metadata": {
        "id": "Xy-MS4W2yJRq"
      },
      "source": [
        "\n",
        "def fit_multiple_estimators(classifiers, X_list, y, sample_weights = None):\n",
        "    # Fit all estimators with their respective feature arrays\n",
        "    estimators_ = [clf.fit(X, y) if sample_weights is None else clf.fit(X, y, sample_weights) for clf, X in zip([clf for _, clf in classifiers], X_list)]\n",
        "    return estimators_ \n",
        "\n",
        "\n",
        "def predict_from_multiple_estimator(estimators, X_list, weights = None):\n",
        "\n",
        "    # Predict 'soft' voting with probabilities\n",
        "\n",
        "    pred1 = np.asarray([clf.predict_proba(X) for clf, X in zip(estimators, X_list)])\n",
        "    pred2 = np.average(pred1, axis=0, weights=weights)\n",
        "    pred = np.argmax(pred2, axis=1)\n",
        "\n",
        "    return pred"
      ],
      "execution_count": null,
      "outputs": []
    },
    {
      "cell_type": "markdown",
      "metadata": {
        "id": "wDJq_nSz9if5"
      },
      "source": [
        "#### Logistic regression"
      ]
    },
    {
      "cell_type": "code",
      "metadata": {
        "id": "YelK3KxjyQl4",
        "colab": {
          "base_uri": "https://localhost:8080/",
          "height": 621
        },
        "outputId": "b3ade8d5-287e-45f0-c640-f4e4be42b279"
      },
      "source": [
        "#from sklearn.neighbors import KNeighborsClassifier\n",
        "import time\n",
        "from sklearn.linear_model import LogisticRegression\n",
        "\n",
        "#check execution time\n",
        "start_time = time.clock()\n",
        "# Make sure the number of estimators here are equal to number of different feature datas\n",
        "classifiers = [('lr1', LogisticRegression()),\n",
        "               ('lr2', LogisticRegression()),\n",
        "               ('lr3', LogisticRegression()),\n",
        "               ('lr4', LogisticRegression())]\n",
        "\n",
        "fitted_estimators = fit_multiple_estimators(classifiers, X_train_list, y_train)\n",
        "y_pred = predict_from_multiple_estimator(fitted_estimators, X_test_list)\n",
        "print(time.clock() - start_time, \"seconds\")"
      ],
      "execution_count": null,
      "outputs": [
        {
          "output_type": "stream",
          "text": [
            "ERROR! Session/line number was not unique in database. History logging moved to new session 59\n"
          ],
          "name": "stdout"
        },
        {
          "output_type": "stream",
          "text": [
            "/usr/local/lib/python3.6/dist-packages/sklearn/linear_model/_logistic.py:940: ConvergenceWarning: lbfgs failed to converge (status=1):\n",
            "STOP: TOTAL NO. of ITERATIONS REACHED LIMIT.\n",
            "\n",
            "Increase the number of iterations (max_iter) or scale the data as shown in:\n",
            "    https://scikit-learn.org/stable/modules/preprocessing.html\n",
            "Please also refer to the documentation for alternative solver options:\n",
            "    https://scikit-learn.org/stable/modules/linear_model.html#logistic-regression\n",
            "  extra_warning_msg=_LOGISTIC_SOLVER_CONVERGENCE_MSG)\n",
            "/usr/local/lib/python3.6/dist-packages/sklearn/linear_model/_logistic.py:940: ConvergenceWarning: lbfgs failed to converge (status=1):\n",
            "STOP: TOTAL NO. of ITERATIONS REACHED LIMIT.\n",
            "\n",
            "Increase the number of iterations (max_iter) or scale the data as shown in:\n",
            "    https://scikit-learn.org/stable/modules/preprocessing.html\n",
            "Please also refer to the documentation for alternative solver options:\n",
            "    https://scikit-learn.org/stable/modules/linear_model.html#logistic-regression\n",
            "  extra_warning_msg=_LOGISTIC_SOLVER_CONVERGENCE_MSG)\n",
            "/usr/local/lib/python3.6/dist-packages/sklearn/linear_model/_logistic.py:940: ConvergenceWarning: lbfgs failed to converge (status=1):\n",
            "STOP: TOTAL NO. of ITERATIONS REACHED LIMIT.\n",
            "\n",
            "Increase the number of iterations (max_iter) or scale the data as shown in:\n",
            "    https://scikit-learn.org/stable/modules/preprocessing.html\n",
            "Please also refer to the documentation for alternative solver options:\n",
            "    https://scikit-learn.org/stable/modules/linear_model.html#logistic-regression\n",
            "  extra_warning_msg=_LOGISTIC_SOLVER_CONVERGENCE_MSG)\n",
            "/usr/local/lib/python3.6/dist-packages/sklearn/linear_model/_logistic.py:940: ConvergenceWarning: lbfgs failed to converge (status=1):\n",
            "STOP: TOTAL NO. of ITERATIONS REACHED LIMIT.\n",
            "\n",
            "Increase the number of iterations (max_iter) or scale the data as shown in:\n",
            "    https://scikit-learn.org/stable/modules/preprocessing.html\n",
            "Please also refer to the documentation for alternative solver options:\n",
            "    https://scikit-learn.org/stable/modules/linear_model.html#logistic-regression\n",
            "  extra_warning_msg=_LOGISTIC_SOLVER_CONVERGENCE_MSG)\n"
          ],
          "name": "stderr"
        },
        {
          "output_type": "stream",
          "text": [
            "3573.8871470000004 seconds\n"
          ],
          "name": "stdout"
        }
      ]
    },
    {
      "cell_type": "code",
      "metadata": {
        "id": "jCLJ7cyMyR3X",
        "colab": {
          "base_uri": "https://localhost:8080/",
          "height": 34
        },
        "outputId": "fff29ba5-8f22-4424-ab32-1d30930afebf"
      },
      "source": [
        "from sklearn.metrics import accuracy_score\n",
        "print(accuracy_score(y_test, y_pred))"
      ],
      "execution_count": null,
      "outputs": [
        {
          "output_type": "stream",
          "text": [
            "0.9861\n"
          ],
          "name": "stdout"
        }
      ]
    },
    {
      "cell_type": "code",
      "metadata": {
        "id": "OZ5jB0Y07c3K",
        "colab": {
          "base_uri": "https://localhost:8080/",
          "height": 525
        },
        "outputId": "8b6c8d88-35d8-4999-80f8-112834ca0311"
      },
      "source": [
        "import seaborn as sns\n",
        "from sklearn import metrics\n",
        "score = accuracy_score(y_test, y_pred)\n",
        "cm = metrics.confusion_matrix(y_test, y_pred)\n",
        "\n",
        "plt.figure(figsize=(9,9))\n",
        "sns.heatmap(cm, annot=True, fmt=\".3f\", linewidths=.5, square = True, cmap = 'Greens_r');\n",
        "plt.ylabel('Actual label');\n",
        "plt.xlabel('Predicted label');\n",
        "all_sample_title = 'Accuracy Score: {0}'.format(score)\n",
        "plt.title(all_sample_title, size = 15);"
      ],
      "execution_count": null,
      "outputs": [
        {
          "output_type": "display_data",
          "data": {
            "image/png": "[encoded data removed]",
            "text/plain": [
              "<Figure size 648x648 with 2 Axes>"
            ]
          },
          "metadata": {
            "tags": []
          }
        }
      ]
    },
    {
      "cell_type": "markdown",
      "metadata": {
        "id": "nI2F6_Cx7daO"
      },
      "source": [
        "#### Now, compare it with classification on the initial data"
      ]
    },
    {
      "cell_type": "code",
      "metadata": {
        "id": "1tT-k9g14Wl4",
        "colab": {
          "base_uri": "https://localhost:8080/",
          "height": 34
        },
        "outputId": "1e60f3cd-aea7-4724-fb36-23359a23b87d"
      },
      "source": [
        "X_train.shape"
      ],
      "execution_count": null,
      "outputs": [
        {
          "output_type": "execute_result",
          "data": {
            "text/plain": [
              "(60000, 28, 28, 1)"
            ]
          },
          "metadata": {
            "tags": []
          },
          "execution_count": 17
        }
      ]
    },
    {
      "cell_type": "code",
      "metadata": {
        "id": "nBjyJAcL4di_"
      },
      "source": [
        "X_tr=np.array(list(map(lambda x: x.reshape((-1, )), X_train)))\n",
        "X_te=np.array(list(map(lambda x: x.reshape((-1, )), X_test)))"
      ],
      "execution_count": null,
      "outputs": []
    },
    {
      "cell_type": "code",
      "metadata": {
        "id": "kP1PaGa66ZjE",
        "colab": {
          "base_uri": "https://localhost:8080/",
          "height": 34
        },
        "outputId": "d2e98296-1fbd-49da-83b0-f3885188d3d7"
      },
      "source": [
        "X_te.shape"
      ],
      "execution_count": null,
      "outputs": [
        {
          "output_type": "execute_result",
          "data": {
            "text/plain": [
              "(10000, 784)"
            ]
          },
          "metadata": {
            "tags": []
          },
          "execution_count": 31
        }
      ]
    },
    {
      "cell_type": "code",
      "metadata": {
        "id": "1-XHIw7f3JFD",
        "colab": {
          "base_uri": "https://localhost:8080/",
          "height": 176
        },
        "outputId": "dc76ef79-a205-4480-edcb-0643071719cb"
      },
      "source": [
        "clf=LogisticRegression()\n",
        "clf.fit(X_tr, y_train)\n",
        "y_pred1=clf.predict(X_te)\n",
        "print(accuracy_score(y_test, y_pred1))"
      ],
      "execution_count": null,
      "outputs": [
        {
          "output_type": "stream",
          "text": [
            "0.9256\n"
          ],
          "name": "stdout"
        },
        {
          "output_type": "stream",
          "text": [
            "/usr/local/lib/python3.6/dist-packages/sklearn/linear_model/_logistic.py:940: ConvergenceWarning: lbfgs failed to converge (status=1):\n",
            "STOP: TOTAL NO. of ITERATIONS REACHED LIMIT.\n",
            "\n",
            "Increase the number of iterations (max_iter) or scale the data as shown in:\n",
            "    https://scikit-learn.org/stable/modules/preprocessing.html\n",
            "Please also refer to the documentation for alternative solver options:\n",
            "    https://scikit-learn.org/stable/modules/linear_model.html#logistic-regression\n",
            "  extra_warning_msg=_LOGISTIC_SOLVER_CONVERGENCE_MSG)\n"
          ],
          "name": "stderr"
        }
      ]
    },
    {
      "cell_type": "code",
      "metadata": {
        "id": "eazUKjk43yg4",
        "colab": {
          "base_uri": "https://localhost:8080/",
          "height": 247
        },
        "outputId": "35a36111-a4fb-4769-dbff-cc0ec27bd6c1"
      },
      "source": [
        "score1 = accuracy_score(y_test, y_pred1)\n",
        "cm = metrics.confusion_matrix(y_test, y_pred1)\n",
        "print('Accuracy Score: {0}'.format(score1))\n",
        "print()\n",
        "print('Confusion matrix')\n",
        "print(cm)"
      ],
      "execution_count": null,
      "outputs": [
        {
          "output_type": "stream",
          "text": [
            "Accuracy Score: 0.9256\n",
            "\n",
            "Confusion matrix\n",
            "[[ 959    0    0    3    1    7    5    4    1    0]\n",
            " [   0 1112    4    2    0    2    3    2   10    0]\n",
            " [   6    9  928   16    8    4   15    7   35    4]\n",
            " [   4    1   17  921    0   23    4   11   23    6]\n",
            " [   1    1    7    4  914    0   10    4   10   31]\n",
            " [  10    2    3   37    8  779   14    5   29    5]\n",
            " [   9    3    7    3    8   15  910    2    1    0]\n",
            " [   1    9   23    6    7    1    0  950    2   29]\n",
            " [   9   10    8   26    8   26   12    7  857   11]\n",
            " [   9    8    0   11   23    6    0   19    7  926]]\n"
          ],
          "name": "stdout"
        }
      ]
    },
    {
      "cell_type": "markdown",
      "metadata": {
        "id": "cOurjG01B3BW"
      },
      "source": [
        "#### Classification KNN"
      ]
    },
    {
      "cell_type": "code",
      "metadata": {
        "id": "Xv5UL-pn9cob",
        "colab": {
          "base_uri": "https://localhost:8080/",
          "height": 70
        },
        "outputId": "ac95dbfc-74b8-4c1f-b49b-e29a7edc5f05"
      },
      "source": [
        "from sklearn.neighbors import KNeighborsClassifier\n",
        "import time\n",
        "#from sklearn.linear_model import LogisticRegression\n",
        "from sklearn.metrics import accuracy_score\n",
        "\n",
        "#check execution time\n",
        "start_time = time.clock()\n",
        "# Make sure the number of estimators here are equal to number of different feature datas\n",
        "classifiers = [('knn1', KNeighborsClassifier()),\n",
        "               ('knn2', KNeighborsClassifier()),\n",
        "               ('knn3', KNeighborsClassifier()),\n",
        "               ('knn4', KNeighborsClassifier())]\n",
        "\n",
        "fitted_estimators = fit_multiple_estimators(classifiers, X_train_list, y_train)\n",
        "y_pred = predict_from_multiple_estimator(fitted_estimators, X_test_list)\n",
        "print(time.clock() - start_time, \"seconds\")\n",
        "print()\n",
        "print(accuracy_score(y_test, y_pred))"
      ],
      "execution_count": null,
      "outputs": [
        {
          "output_type": "stream",
          "text": [
            "15441.563836 seconds\n",
            "\n",
            "0.9804\n"
          ],
          "name": "stdout"
        }
      ]
    },
    {
      "cell_type": "code",
      "metadata": {
        "id": "78LC8JYDCmUJ"
      },
      "source": [
        "from sklearn.metrics import confusion_matrix\n"
      ],
      "execution_count": null,
      "outputs": []
    },
    {
      "cell_type": "code",
      "metadata": {
        "id": "WGTTxoOY9-2g",
        "colab": {
          "base_uri": "https://localhost:8080/",
          "height": 194
        },
        "outputId": "c6bf3d20-550a-449a-8a68-7b852809da68"
      },
      "source": [
        "confusion_matrix(y_test, y_pred)"
      ],
      "execution_count": null,
      "outputs": [
        {
          "output_type": "execute_result",
          "data": {
            "text/plain": [
              "array([[ 975,    1,    1,    0,    0,    1,    1,    1,    0,    0],\n",
              "       [   0, 1131,    2,    0,    0,    0,    1,    0,    0,    1],\n",
              "       [   7,    1, 1005,    2,    1,    0,    1,   10,    5,    0],\n",
              "       [   0,    0,    1,  988,    1,    5,    0,    4,    6,    5],\n",
              "       [   1,    0,    0,    0,  958,    0,    5,    1,    1,   16],\n",
              "       [   3,    0,    0,    8,    2,  869,    6,    1,    1,    2],\n",
              "       [   2,    3,    0,    0,    0,    1,  950,    0,    2,    0],\n",
              "       [   1,    7,    3,    0,    4,    0,    0, 1002,    0,   11],\n",
              "       [   3,    0,    1,    9,    3,    3,    2,    3,  946,    4],\n",
              "       [   3,    4,    0,    8,    2,    3,    0,    6,    3,  980]])"
            ]
          },
          "metadata": {
            "tags": []
          },
          "execution_count": 15
        }
      ]
    },
    {
      "cell_type": "code",
      "metadata": {
        "id": "E3tO5ZUA-FDO"
      },
      "source": [
        "# baseline\n",
        "X_tr=np.array(list(map(lambda x: x.reshape((-1, )), X_train)))\n",
        "X_te=np.array(list(map(lambda x: x.reshape((-1, )), X_test)))\n",
        "\n"
      ],
      "execution_count": null,
      "outputs": []
    },
    {
      "cell_type": "code",
      "metadata": {
        "id": "yfcmUUeK-miH",
        "colab": {
          "base_uri": "https://localhost:8080/",
          "height": 70
        },
        "outputId": "ece104c1-b4ff-4467-d22b-5acb9e5589a2"
      },
      "source": [
        "start_time = time.clock()\n",
        "clf = KNeighborsClassifier()\n",
        "clf.fit(X_tr, y_train)\n",
        "y_predKNN = clf.predict(X_te)\n",
        "print(time.clock() - start_time, \"seconds\")\n",
        "print()\n",
        "print(accuracy_score(y_test, y_predKNN))"
      ],
      "execution_count": null,
      "outputs": [
        {
          "output_type": "stream",
          "text": [
            "820.7202450000004 seconds\n",
            "\n",
            "0.9688\n"
          ],
          "name": "stdout"
        }
      ]
    },
    {
      "cell_type": "code",
      "metadata": {
        "id": "Ee3i09Aw_U9f",
        "colab": {
          "base_uri": "https://localhost:8080/",
          "height": 70
        },
        "outputId": "1a271063-381c-4655-fc3b-d7c3c4a583fd"
      },
      "source": [
        "# CODE\n",
        "start_time = time.clock()\n",
        "clf = KNeighborsClassifier()\n",
        "clf.fit(X_train_list[3], y_train)\n",
        "y_predKNNCode = clf.predict(X_test_list[3])\n",
        "print(time.clock() - start_time, \"seconds\")\n",
        "print()\n",
        "print(accuracy_score(y_test, y_predKNNCode))"
      ],
      "execution_count": null,
      "outputs": [
        {
          "output_type": "stream",
          "text": [
            "5.762569999998959 seconds\n",
            "\n",
            "0.9731\n"
          ],
          "name": "stdout"
        }
      ]
    },
    {
      "cell_type": "code",
      "metadata": {
        "id": "2toNf2TNC4Xq"
      },
      "source": [
        ""
      ],
      "execution_count": null,
      "outputs": []
    }
  ]
}